{
 "cells": [
  {
   "cell_type": "markdown",
   "id": "45692aec-87da-4452-a8fb-c2ec9bd9d7ad",
   "metadata": {},
   "source": [
    "<h1 align='center'>Machine Learning Lab</h1>\n",
    "<h3 align='center'>Lab 08</h3>"
   ]
  },
  {
   "cell_type": "markdown",
   "id": "223b65ab-df0d-4912-a7a7-6792c8c8edd2",
   "metadata": {},
   "source": [
    "### Exercise 1: Optical Character Recognition via Neural Networks"
   ]
  },
  {
   "cell_type": "markdown",
   "id": "7f505488-9626-434f-aa2a-63718c46aa33",
   "metadata": {},
   "source": [
    "#### Importing Packages"
   ]
  },
  {
   "cell_type": "code",
   "execution_count": 1,
   "id": "54573364-b322-4a71-91de-febbdd194a73",
   "metadata": {},
   "outputs": [],
   "source": [
    "import pandas as pd                                       #Importing Pandas\n",
    "import numpy as np                                        #Importing Numpy\n",
    "from sklearn.datasets import load_digits                  #Importing MNIST Dataset from Sklearn\n",
    "import matplotlib.pyplot as plt                           #Importing Matplotlib\n",
    "from sklearn.model_selection import train_test_split      #Importing Train test Split\n",
    "from sklearn.neural_network import MLPClassifier          #Importing MLP Classifier\n",
    "from sklearn.model_selection import RandomizedSearchCV    #Importing Randomized Search\n",
    "from sklearn.metrics import accuracy_score                #Importing Accuracy Score"
   ]
  },
  {
   "cell_type": "markdown",
   "id": "bce0f573-be3e-4d0d-b9e7-164d99199abb",
   "metadata": {},
   "source": [
    "#### Initializing Random Seed"
   ]
  },
  {
   "cell_type": "code",
   "execution_count": 2,
   "id": "1077cea9-23f1-4b25-af6f-1aaa950c7645",
   "metadata": {},
   "outputs": [],
   "source": [
    "random_seed = 3116"
   ]
  },
  {
   "cell_type": "markdown",
   "id": "73a6bf3f-8478-4d06-a665-2216cc01a748",
   "metadata": {},
   "source": [
    "#### Loading the MNIST digits dataset via sklearn provided built-in utility function(s)."
   ]
  },
  {
   "cell_type": "code",
   "execution_count": 3,
   "id": "19438b29-3dfa-464a-a9e4-b91fbfd57133",
   "metadata": {},
   "outputs": [],
   "source": [
    "mnist_digits = load_digits()"
   ]
  },
  {
   "cell_type": "markdown",
   "id": "d63c72aa-d328-44ef-b209-0020fa29d50c",
   "metadata": {},
   "source": [
    "##### Plotting the Initial 10 Handwritten Digits from the Dataset"
   ]
  },
  {
   "cell_type": "code",
   "execution_count": 4,
   "id": "db969465-e9a1-4132-bf3e-3c15812261d0",
   "metadata": {},
   "outputs": [
    {
     "data": {
      "image/png": "[encoded data removed]",
      "text/plain": [
       "<Figure size 1080x720 with 10 Axes>"
      ]
     },
     "metadata": {
      "needs_background": "light"
     },
     "output_type": "display_data"
    }
   ],
   "source": [
    "#Creating a Figure\n",
    "fig = plt.figure(figsize=(15, 10))\n",
    "\n",
    "#Iterating through the first 10 handwritten digits from the dataset\n",
    "for i in range(1, 11):\n",
    "    #Adding a subplot\n",
    "    plt.subplot(1, 10, i)\n",
    "    \n",
    "    #Plotting the Image in Grayscale\n",
    "    plt.imshow(mnist_digits.images[i - 1], cmap = 'gray')\n",
    "    \n",
    "#Adjusting Spacing and Showing the plots\n",
    "plt.tight_layout()\n",
    "plt.show()"
   ]
  },
  {
   "cell_type": "markdown",
   "id": "890b5edf-1478-47b6-9ad2-3084887fe8b9",
   "metadata": {},
   "source": [
    "#### K-cross Fold Validation and Train Test Split"
   ]
  },
  {
   "cell_type": "markdown",
   "id": "db0777ee-78bb-4293-88e7-6d585e0f18a0",
   "metadata": {},
   "source": [
    "##### Initializing the value of k for K-cross fold validation"
   ]
  },
  {
   "cell_type": "code",
   "execution_count": 5,
   "id": "ee67f8c3-9bfe-42cb-b4c4-0aba3b635bd8",
   "metadata": {},
   "outputs": [],
   "source": [
    "k = 5"
   ]
  },
  {
   "cell_type": "markdown",
   "id": "f335d319-05ae-4fe7-914e-d273a9673641",
   "metadata": {},
   "source": [
    "##### Splitting the Dataset into Train and Test with 20% Testing set"
   ]
  },
  {
   "cell_type": "code",
   "execution_count": 6,
   "id": "7e0ec5ce-0670-49e9-874c-b63185310903",
   "metadata": {},
   "outputs": [],
   "source": [
    "X_train, X_test, y_train, y_test = train_test_split(mnist_digits.data, mnist_digits.target, test_size = 0.2, random_state = random_seed)"
   ]
  },
  {
   "cell_type": "markdown",
   "id": "ce74b9ac-2bbe-4cb9-811f-c2b8d94e13fc",
   "metadata": {},
   "source": [
    "#### Defining a hyperparameter grid for the MLP Classifier"
   ]
  },
  {
   "cell_type": "code",
   "execution_count": 7,
   "id": "b09b68ea-9441-42f4-ac25-39b51a5f1dc6",
   "metadata": {},
   "outputs": [],
   "source": [
    "hyperparameter_grid = {\n",
    "    'hidden_layer_sizes': [(10,), (10,20), (10,20,10)],             #The number of neurons in each hidden layer\n",
    "    'activation': ['identity', 'logistic', 'tanh', 'relu'],         #Activation function for the hidden layer\n",
    "    'solver': ['lbfgs', 'sgd', 'adam'],                             #Weight Optimization techniques\n",
    "    'alpha': [0.5, 0.01, 0.001, 0.0001,],                           #L2 Regularization term \n",
    "    'learning_rate': ['constant', 'invscaling', 'adaptive']         #Learning rate schedule for weight updates\n",
    "}"
   ]
  },
  {
   "cell_type": "markdown",
   "id": "96fe2722-9325-4e43-8ea8-63e23855ca84",
   "metadata": {},
   "source": [
    "#### Defining a Random Search procedure over the ranges of Hyperparameters above"
   ]
  },
  {
   "cell_type": "code",
   "execution_count": 8,
   "id": "d327a331-4eee-4cf0-86b4-5fa6ac062a05",
   "metadata": {},
   "outputs": [
    {
     "data": {
      "text/plain": [
       "RandomizedSearchCV(cv=5,\n",
       "                   estimator=MLPClassifier(max_iter=100, random_state=3116),\n",
       "                   n_iter=20, n_jobs=-1,\n",
       "                   param_distributions={'activation': ['identity', 'logistic',\n",
       "                                                       'tanh', 'relu'],\n",
       "                                        'alpha': [0.5, 0.01, 0.001, 0.0001],\n",
       "                                        'hidden_layer_sizes': [(10,), (10, 20),\n",
       "                                                               (10, 20, 10)],\n",
       "                                        'learning_rate': ['constant',\n",
       "                                                          'invscaling',\n",
       "                                                          'adaptive'],\n",
       "                                        'solver': ['lbfgs', 'sgd', 'adam']},\n",
       "                   random_state=3116, scoring='accuracy')"
      ]
     },
     "execution_count": 8,
     "metadata": {},
     "output_type": "execute_result"
    }
   ],
   "source": [
    "#Creating the object of MLP(Multi Layer Perceptron) Classifier with maximum iteration of 100\n",
    "mlp = MLPClassifier(max_iter = 100, random_state = random_seed)\n",
    "\n",
    "#Creating and Initializing the object for Randomized Search with the MLP Classifier and the hyperparameter grid\n",
    "rand_mlp = RandomizedSearchCV(mlp, hyperparameter_grid, random_state = random_seed, n_jobs = -1,n_iter = 20, cv = k, scoring = 'accuracy')\n",
    "\n",
    "#Fitting the training dataset on the MLP Classifier using Randomized Search for finding the best hyperparameters\n",
    "rand_mlp.fit(X_train, y_train)"
   ]
  },
  {
   "cell_type": "markdown",
   "id": "99588a4b-9871-42c1-bff2-2ac1c1a8894d",
   "metadata": {},
   "source": [
    "#### Reporting the test accuracy and the best hyperparameters found"
   ]
  },
  {
   "cell_type": "markdown",
   "id": "65ef0acb-247e-466e-abde-7e319a244e72",
   "metadata": {},
   "source": [
    "##### Best Hyperparameters Found"
   ]
  },
  {
   "cell_type": "code",
   "execution_count": 9,
   "id": "2ef6d750-b803-4361-8a35-d205a9a8b89a",
   "metadata": {},
   "outputs": [
    {
     "name": "stdout",
     "output_type": "stream",
     "text": [
      "The Best Hyperparameter Combination is:\n"
     ]
    },
    {
     "data": {
      "text/plain": [
       "{'solver': 'lbfgs',\n",
       " 'learning_rate': 'constant',\n",
       " 'hidden_layer_sizes': (10, 20, 10),\n",
       " 'alpha': 0.0001,\n",
       " 'activation': 'identity'}"
      ]
     },
     "execution_count": 9,
     "metadata": {},
     "output_type": "execute_result"
    }
   ],
   "source": [
    "print('The Best Hyperparameter Combination is:')\n",
    "rand_mlp.best_params_"
   ]
  },
  {
   "cell_type": "markdown",
   "id": "bcadef44-8eb5-42ba-b90d-a4096dc2bd68",
   "metadata": {},
   "source": [
    "##### Test Accuracy"
   ]
  },
  {
   "cell_type": "code",
   "execution_count": 10,
   "id": "a08816a8-20ec-462b-9649-43dbfa30c32c",
   "metadata": {},
   "outputs": [
    {
     "name": "stdout",
     "output_type": "stream",
     "text": [
      "The Test Accuracy of MLP Classifier with best Hyperparameters is: 0.96\n"
     ]
    }
   ],
   "source": [
    "print('The Test Accuracy of MLP Classifier with best Hyperparameters is: {:.2f}'.format(accuracy_score(y_test, rand_mlp.predict(X_test))))"
   ]
  },
  {
   "cell_type": "markdown",
   "id": "550786b4-f5d5-4ffd-8385-cd6beef2bf3e",
   "metadata": {},
   "source": [
    "### Exercise 2: End-to-End Self-Driving via Convolutional Neural Networks"
   ]
  },
  {
   "cell_type": "markdown",
   "id": "fefabd24-e8c2-45bb-afdb-745654251cf0",
   "metadata": {},
   "source": [
    "#### Importing Packages"
   ]
  },
  {
   "cell_type": "code",
   "execution_count": 11,
   "id": "42adcf22-87e7-4659-a558-a47e1c0505de",
   "metadata": {},
   "outputs": [
    {
     "name": "stderr",
     "output_type": "stream",
     "text": [
      "C:\\Users\\dell\\anaconda3\\envs\\ml_lab\\lib\\site-packages\\torchvision\\io\\image.py:11: UserWarning: Failed to load image Python extension: Could not find module 'C:\\Users\\dell\\anaconda3\\envs\\ml_lab\\Lib\\site-packages\\torchvision\\image.pyd' (or one of its dependencies). Try using the full path with constructor syntax.\n",
      "  warn(f\"Failed to load image Python extension: {e}\")\n"
     ]
    }
   ],
   "source": [
    "import torch                                              #Importing torch\n",
    "from torch.utils.data import DataLoader , Dataset         #Importing Dataloader and Dataset from pytorch\n",
    "import torchvision                                        #Importing Torchvision\n",
    "from torch.utils.data import random_split                 #Importing Random Split from pytorch\n",
    "import torch.nn.functional as F                           #Importing Activation Functions from pytorch\n",
    "from torch import nn                                      #Importing Neural Network helper functions from nn package of pytorch\n",
    "import cv2                                                #Importing Opencv\n",
    "import numpy as np                                        #Importing Numpy\n",
    "import matplotlib.pyplot as plt                           #Importing Matplotlib"
   ]
  },
  {
   "cell_type": "markdown",
   "id": "b24e2bea-ba18-441e-8900-f9940dd70c09",
   "metadata": {},
   "source": [
    "#### Class to load Dataset containing data and its labels"
   ]
  },
  {
   "cell_type": "code",
   "execution_count": 12,
   "id": "0468f35c-073f-4e21-921a-88678946eb9f",
   "metadata": {},
   "outputs": [],
   "source": [
    "class Dataset(Dataset):#Inherits from torch.utils.data.Dataset\n",
    "    \n",
    "    #Constructor Function which read image names and its label from the directory\n",
    "    def __init__(self):\n",
    "        #default directory where data is loaded\n",
    "        self.filepath = 'archive/driving_dataset/'\n",
    "        \n",
    "        #default directory where labels for each image is saved\n",
    "        self.filepath_angles = 'archive/driving_dataset/angles.txt'\n",
    "        \n",
    "        #Creating lists for storing filenames and its label(steering angle)\n",
    "        self.filenames = []\n",
    "        self.steering_angle = []\n",
    "        \n",
    "        #Opening the angles file and saving the filenames and angles in the created lists\n",
    "        with open(self.filepath_angles) as angles:\n",
    "            line = angles.readline()\n",
    "            while line:\n",
    "                tokens = line.split()\n",
    "                self.filenames.append(tokens[0])\n",
    "                self.steering_angle.append(tokens[1])\n",
    "                line = angles.readline()\n",
    "    \n",
    "    #Function to return the total datapoints in the dataset\n",
    "    def __len__(self):\n",
    "        return len(self.filenames)\n",
    "    \n",
    "    #Function to get the image and its label at specified index\n",
    "    def __getitem__(self, index):\n",
    "        #Extracting filename and angle from the list\n",
    "        filename = self.filenames[index]\n",
    "        angle = self.steering_angle[index]\n",
    "        \n",
    "        #Reading the image using opencv\n",
    "        img = cv2.imread(self.filepath + filename)\n",
    "        \n",
    "        #Resizing images to(32,32)\n",
    "        resized = cv2.resize(img, (200, 66),interpolation = cv2.INTER_AREA)\n",
    "        \n",
    "        #return the image converted to a numpy array its corresponding steering angle\n",
    "        return torch.from_numpy(resized.transpose()).float(), torch.tensor(np.float32(angle))"
   ]
  },
  {
   "cell_type": "markdown",
   "id": "7adc88a0-8e20-4b80-b701-2053150fb370",
   "metadata": {},
   "source": [
    "#### Class which Implements the Convolutional Neural Network Architecture proposed in the paper"
   ]
  },
  {
   "cell_type": "code",
   "execution_count": 13,
   "id": "ff0b2b62-5939-4137-9db6-d7851edc08ea",
   "metadata": {},
   "outputs": [],
   "source": [
    "class ConvNet(torch.nn.Module):\n",
    "    \n",
    "    #Constructor function which list all the layers in CNN model\n",
    "    def __init__(self):\n",
    "        super().__init__()\n",
    "        self.norm1 = nn.LayerNorm([200,66])\n",
    "        self.conv1 = nn.Conv2d(in_channels = 3, out_channels = 24, kernel_size = 5, stride = 2)\n",
    "        self.conv2 = nn.Conv2d(in_channels = 24, out_channels = 36, kernel_size = 5, stride = 2)\n",
    "        self.conv3 = nn.Conv2d(in_channels = 36, out_channels = 48, kernel_size = 5, stride = 2)\n",
    "        self.conv4 = nn.Conv2d(in_channels = 48, out_channels = 64, kernel_size = 3, stride = 1)\n",
    "        self.conv5 = nn.Conv2d(in_channels = 64, out_channels = 64, kernel_size = 3, stride = 1)\n",
    "        self.fc1 = nn.Linear(in_features = 64 * 1 * 18, out_features = 100)\n",
    "        self.fc2 = nn.Linear(in_features = 100, out_features = 50)\n",
    "        self.fc3 = nn.Linear(in_features = 50, out_features = 10)\n",
    "        self.fc4 = nn.Linear(in_features = 10, out_features = 1)\n",
    "        \n",
    "    #Function to link all the layers in the sequence\n",
    "    def forward(self, x):\n",
    "        x = self.norm1(x)\n",
    "        x = F.relu(self.conv1(x))\n",
    "        x = F.relu(self.conv2(x))\n",
    "        x = F.relu(self.conv3(x))\n",
    "        x = F.relu(self.conv4(x))\n",
    "        x = F.relu(self.conv5(x))\n",
    "        x = x.view(x.shape[0], -1)\n",
    "        x = F.relu(self.fc1(x))\n",
    "        x = F.relu(self.fc2(x))\n",
    "        x = F.relu(self.fc3(x))\n",
    "        x = self.fc4(x)\n",
    "        return x"
   ]
  },
  {
   "cell_type": "markdown",
   "id": "828a2591-d0f6-4857-ac96-37bfa2dd1739",
   "metadata": {},
   "source": [
    "#### Dividing the dataset into corresponding train/validation/test splits. Leaving the last 10k images for testing."
   ]
  },
  {
   "cell_type": "code",
   "execution_count": 14,
   "id": "2af1b6a3-e8b3-488c-bc9c-9d5c3cca5a7b",
   "metadata": {},
   "outputs": [],
   "source": [
    "#Creating the Dataset object\n",
    "car_dataset = Dataset()\n",
    "\n",
    "#Total rows to be included in Test set\n",
    "test_rows = 10000\n",
    "\n",
    "#Total rows to be included in Validation set\n",
    "train_rows = car_dataset.__len__() - test_rows\n",
    "val_rows = int(train_rows * 0.2)\n",
    "\n",
    "#Total rows to be included in training set\n",
    "train_rows -= val_rows\n",
    "\n",
    "#Splitting the dataset into Train/Validation/Test sets using Pytorch Random Split function\n",
    "train_dataset, val_dataset, test_dataset = random_split(car_dataset, [train_rows, val_rows, test_rows], \n",
    "                                                        generator=torch.Generator().manual_seed(random_seed))"
   ]
  },
  {
   "cell_type": "markdown",
   "id": "c6b5882d-4317-4311-a0f5-59a9f0909e49",
   "metadata": {},
   "source": [
    "##### Converting the Datasets into Dataloaders for Iterations"
   ]
  },
  {
   "cell_type": "code",
   "execution_count": 15,
   "id": "4338d487-40f3-4439-9ad9-a702715f80d7",
   "metadata": {},
   "outputs": [],
   "source": [
    "#Train Dataloader\n",
    "train_dataloader = DataLoader(train_dataset, batch_size = 64, shuffle = True)\n",
    "\n",
    "#Validation Dataloader\n",
    "val_dataloader = DataLoader(val_dataset, batch_size = 64, shuffle = True)\n",
    "\n",
    "#Test Dataloader\n",
    "test_dataloader = DataLoader(test_dataset, batch_size = 64, shuffle = True)"
   ]
  },
  {
   "cell_type": "markdown",
   "id": "b3defa09-d2a7-469b-be77-8206bb8795ad",
   "metadata": {},
   "source": [
    "#### Training and Evaluating the CNN on the dataset Sets"
   ]
  },
  {
   "cell_type": "markdown",
   "id": "8a4e2042-c2d3-43a1-9d09-a850c627cd89",
   "metadata": {},
   "source": [
    "##### Checking for GPU, if present then changing device to Cuda"
   ]
  },
  {
   "cell_type": "code",
   "execution_count": 16,
   "id": "156de4c9-7f9b-42ba-9ee1-98900dd30c38",
   "metadata": {},
   "outputs": [
    {
     "data": {
      "text/plain": [
       "device(type='cuda')"
      ]
     },
     "execution_count": 16,
     "metadata": {},
     "output_type": "execute_result"
    }
   ],
   "source": [
    "device = 'cpu'\n",
    "if torch.cuda.is_available():\n",
    "    device = 'cuda'\n",
    "torch.device(device)"
   ]
  },
  {
   "cell_type": "markdown",
   "id": "4d108d2b-8007-4616-8a86-e2c970f5e779",
   "metadata": {},
   "source": [
    "##### Creating the Object of our CNN model and transferring it to the Device"
   ]
  },
  {
   "cell_type": "code",
   "execution_count": 17,
   "id": "28277443-c1db-4519-ba4e-1073420dadef",
   "metadata": {},
   "outputs": [
    {
     "data": {
      "text/plain": [
       "ConvNet(\n",
       "  (norm1): LayerNorm((200, 66), eps=1e-05, elementwise_affine=True)\n",
       "  (conv1): Conv2d(3, 24, kernel_size=(5, 5), stride=(2, 2))\n",
       "  (conv2): Conv2d(24, 36, kernel_size=(5, 5), stride=(2, 2))\n",
       "  (conv3): Conv2d(36, 48, kernel_size=(5, 5), stride=(2, 2))\n",
       "  (conv4): Conv2d(48, 64, kernel_size=(3, 3), stride=(1, 1))\n",
       "  (conv5): Conv2d(64, 64, kernel_size=(3, 3), stride=(1, 1))\n",
       "  (fc1): Linear(in_features=1152, out_features=100, bias=True)\n",
       "  (fc2): Linear(in_features=100, out_features=50, bias=True)\n",
       "  (fc3): Linear(in_features=50, out_features=10, bias=True)\n",
       "  (fc4): Linear(in_features=10, out_features=1, bias=True)\n",
       ")"
      ]
     },
     "execution_count": 17,
     "metadata": {},
     "output_type": "execute_result"
    }
   ],
   "source": [
    "model = ConvNet().to(device)\n",
    "model"
   ]
  },
  {
   "cell_type": "markdown",
   "id": "3aadd4ad-705f-44bc-85e4-8b366cdd42c6",
   "metadata": {},
   "source": [
    "##### Initiating the RMSE Loss function and the ADAM optimizer"
   ]
  },
  {
   "cell_type": "code",
   "execution_count": 18,
   "id": "c00bcd80-5976-40a2-a0a4-2de5abde1358",
   "metadata": {},
   "outputs": [],
   "source": [
    "#Creating the RMSE loss function object provided in Pytorch\n",
    "criterion = nn.MSELoss()\n",
    "\n",
    "#Creating the Adam Optimizer object with model parameters and learning rate\n",
    "optimizer = torch.optim.Adam(model.parameters(), lr = 0.001)"
   ]
  },
  {
   "cell_type": "code",
   "execution_count": 19,
   "id": "6da9d174-6b83-4d17-b8de-e443f93bc8a2",
   "metadata": {},
   "outputs": [],
   "source": [
    "#Initializing the number of Epochs\n",
    "epochs = 30\n",
    "\n",
    "#Creating list to store the RMSE of Training and Validation dataset in each Epochs\n",
    "training_rmse = []\n",
    "validation_rmse = []"
   ]
  },
  {
   "cell_type": "markdown",
   "id": "3c56337d-e43d-456c-9665-5a99e81505ff",
   "metadata": {},
   "source": [
    "##### Training the model and Evaluating it on the Validation dataset"
   ]
  },
  {
   "cell_type": "code",
   "execution_count": 20,
   "id": "52ad506a-b4f9-4ef4-a540-cc35aff25b1b",
   "metadata": {},
   "outputs": [
    {
     "name": "stderr",
     "output_type": "stream",
     "text": [
      "C:\\Users\\dell\\anaconda3\\envs\\ml_lab\\lib\\site-packages\\torch\\nn\\modules\\loss.py:520: UserWarning: Using a target size (torch.Size([64])) that is different to the input size (torch.Size([64, 1])). This will likely lead to incorrect results due to broadcasting. Please ensure they have the same size.\n",
      "  return F.mse_loss(input, target, reduction=self.reduction)\n",
      "C:\\Users\\dell\\anaconda3\\envs\\ml_lab\\lib\\site-packages\\torch\\nn\\modules\\loss.py:520: UserWarning: Using a target size (torch.Size([37])) that is different to the input size (torch.Size([37, 1])). This will likely lead to incorrect results due to broadcasting. Please ensure they have the same size.\n",
      "  return F.mse_loss(input, target, reduction=self.reduction)\n",
      "C:\\Users\\dell\\anaconda3\\envs\\ml_lab\\lib\\site-packages\\torch\\nn\\modules\\loss.py:520: UserWarning: Using a target size (torch.Size([41])) that is different to the input size (torch.Size([41, 1])). This will likely lead to incorrect results due to broadcasting. Please ensure they have the same size.\n",
      "  return F.mse_loss(input, target, reduction=self.reduction)\n"
     ]
    },
    {
     "name": "stdout",
     "output_type": "stream",
     "text": [
      "epoch : 1\n",
      "training loss: 30.7713\n",
      "validation loss: 30.6681\n",
      "epoch : 2\n",
      "training loss: 30.8140\n",
      "validation loss: 30.6546\n",
      "epoch : 3\n",
      "training loss: 30.7403\n",
      "validation loss: 30.7443\n",
      "epoch : 4\n",
      "training loss: 30.7487\n",
      "validation loss: 30.6669\n",
      "epoch : 5\n",
      "training loss: 30.7302\n",
      "validation loss: 30.6170\n",
      "epoch : 6\n",
      "training loss: 30.7283\n",
      "validation loss: 30.6350\n",
      "epoch : 7\n",
      "training loss: 30.7212\n",
      "validation loss: 30.6243\n",
      "epoch : 8\n",
      "training loss: 30.7345\n",
      "validation loss: 30.6251\n",
      "epoch : 9\n",
      "training loss: 30.7226\n",
      "validation loss: 30.6772\n",
      "epoch : 10\n",
      "training loss: 30.7315\n",
      "validation loss: 30.6287\n",
      "epoch : 11\n",
      "training loss: 30.7257\n",
      "validation loss: 30.6631\n",
      "epoch : 12\n",
      "training loss: 30.7104\n",
      "validation loss: 30.6013\n",
      "epoch : 13\n",
      "training loss: 30.7099\n",
      "validation loss: 30.5996\n",
      "epoch : 14\n",
      "training loss: 30.7055\n",
      "validation loss: 30.6503\n",
      "epoch : 15\n",
      "training loss: 30.7067\n",
      "validation loss: 30.6314\n",
      "epoch : 16\n",
      "training loss: 30.7075\n",
      "validation loss: 30.6021\n",
      "epoch : 17\n",
      "training loss: 30.7182\n",
      "validation loss: 30.6359\n",
      "epoch : 18\n",
      "training loss: 30.7094\n",
      "validation loss: 30.5985\n",
      "epoch : 19\n",
      "training loss: 30.7059\n",
      "validation loss: 30.6455\n",
      "epoch : 20\n",
      "training loss: 30.7141\n",
      "validation loss: 30.6004\n",
      "epoch : 21\n",
      "training loss: 30.7196\n",
      "validation loss: 30.6249\n",
      "epoch : 22\n",
      "training loss: 30.7305\n",
      "validation loss: 30.6666\n",
      "epoch : 23\n",
      "training loss: 30.7101\n",
      "validation loss: 30.6908\n",
      "epoch : 24\n",
      "training loss: 30.7082\n",
      "validation loss: 30.6702\n",
      "epoch : 25\n",
      "training loss: 30.7077\n",
      "validation loss: 30.6096\n",
      "epoch : 26\n",
      "training loss: 30.7337\n",
      "validation loss: 30.5962\n",
      "epoch : 27\n",
      "training loss: 30.7234\n",
      "validation loss: 30.6321\n",
      "epoch : 28\n",
      "training loss: 30.7240\n",
      "validation loss: 30.5973\n",
      "epoch : 29\n",
      "training loss: 30.7038\n",
      "validation loss: 30.5974\n",
      "epoch : 30\n",
      "training loss: 30.7068\n",
      "validation loss: 30.6074\n"
     ]
    }
   ],
   "source": [
    "#Iterating over all Epochs\n",
    "for e in range(epochs):\n",
    "    \n",
    "    #Initiating the training and validation loss to 0\n",
    "    running_loss = 0.0\n",
    "    val_running_loss = 0.0\n",
    "    \n",
    "    #Iterating over all Training datapoints\n",
    "    for inputs, labels in train_dataloader:\n",
    "        \n",
    "        #Extracting Input image and label and doing a forward pass on our CNN model\n",
    "        inputs = inputs.to(device)\n",
    "        labels = labels.to(device)\n",
    "        outputs = model(inputs)\n",
    "        \n",
    "        #Calculating the RMSE loss\n",
    "        loss = criterion(outputs, labels)\n",
    "        \n",
    "        #Setting the gradient to Zero for next Iteration\n",
    "        optimizer.zero_grad()\n",
    "        \n",
    "        #Computing the Back propogation on CNN\n",
    "        loss.backward()\n",
    "        optimizer.step()\n",
    "        \n",
    "        #Adding the RMSE loss to the total loss\n",
    "        running_loss += loss.item()\n",
    "    \n",
    "    #Evaluating the model on the Validation set\n",
    "    with torch.no_grad():\n",
    "        \n",
    "        #Iterating over the validation dataset\n",
    "        for val_inputs, val_labels in val_dataloader:\n",
    "            \n",
    "            #Extracting Input image and label and doing a forward pass on our CNN model\n",
    "            val_inputs = val_inputs.to(device)\n",
    "            val_labels = val_labels.to(device)\n",
    "            val_outputs = model(val_inputs)\n",
    "            \n",
    "            #Calculating the RMSE loss\n",
    "            val_loss = criterion(val_outputs, val_labels)\n",
    "            \n",
    "            #Adding the RMSE loss to the total validation loss\n",
    "            val_running_loss += val_loss.item()\n",
    "    \n",
    "    #Calculating the current Epoch average RMSE loss on training and Validation dataset\n",
    "    epoch_loss = np.sqrt(running_loss/len(train_dataloader))\n",
    "    val_epoch_loss = np.sqrt(val_running_loss/len(val_dataloader))\n",
    "    \n",
    "    #Apending the loss in the final list\n",
    "    training_rmse.append(epoch_loss)\n",
    "    validation_rmse.append(val_epoch_loss)\n",
    "    \n",
    "    #Printing the Results\n",
    "    print('epoch :', (e+1))\n",
    "    print('training loss: {:.4f}'.format(epoch_loss))\n",
    "    print('validation loss: {:.4f}'.format(val_epoch_loss))"
   ]
  },
  {
   "cell_type": "markdown",
   "id": "c2fc1ef6-4b29-41db-9b9f-27ef54fab529",
   "metadata": {},
   "source": [
    "##### Plotting Training RMSE vs Validation RMSE in each Epoch"
   ]
  },
  {
   "cell_type": "code",
   "execution_count": 21,
   "id": "f8231f86-e664-423b-bbd8-dbf1c38f69d3",
   "metadata": {},
   "outputs": [
    {
     "data": {
      "image/png": "[encoded data removed]",
      "text/plain": [
       "<Figure size 1296x576 with 1 Axes>"
      ]
     },
     "metadata": {
      "needs_background": "light"
     },
     "output_type": "display_data"
    }
   ],
   "source": [
    "fig = plt.figure(figsize=(18,8))\n",
    "plt.plot(training_rmse, label = 'Training RMSE')\n",
    "plt.plot(validation_rmse, label = 'Validation RMSE')\n",
    "plt.title('Training RMSE vs Validation RMSE')\n",
    "plt.xlabel('Epochs')\n",
    "plt.ylabel('RMSE')\n",
    "plt.legend()\n",
    "plt.show()"
   ]
  },
  {
   "cell_type": "raw",
   "id": "090ed4f9-174f-435f-a922-f57a168388e5",
   "metadata": {},
   "source": [
    "From the above graph we can see that both Train RMSE and Test RMSE are decreasing but fluctuation very abruptly, to smooth this curve we can basically use the regularization term to add some weight on negative examples."
   ]
  },
  {
   "cell_type": "markdown",
   "id": "9ce545bc-3457-4f4a-988a-ce48b84bd303",
   "metadata": {},
   "source": [
    "##### Evaluating the Trained CNN Model with the Test Dataset"
   ]
  },
  {
   "cell_type": "code",
   "execution_count": 22,
   "id": "74e3ab08-3dee-45a1-a15c-83808625803c",
   "metadata": {},
   "outputs": [
    {
     "name": "stderr",
     "output_type": "stream",
     "text": [
      "C:\\Users\\dell\\anaconda3\\envs\\ml_lab\\lib\\site-packages\\torch\\nn\\modules\\loss.py:520: UserWarning: Using a target size (torch.Size([16])) that is different to the input size (torch.Size([16, 1])). This will likely lead to incorrect results due to broadcasting. Please ensure they have the same size.\n",
      "  return F.mse_loss(input, target, reduction=self.reduction)\n"
     ]
    }
   ],
   "source": [
    "#Initializing the loss to 0\n",
    "running_loss = 0.0\n",
    "\n",
    "#Evaluating the model on the Test set\n",
    "with torch.no_grad():\n",
    "\n",
    "    #Iterating over the Test dataset\n",
    "    for inputs, labels in test_dataloader:\n",
    "\n",
    "        #Extracting Input image and label and doing a forward pass on our CNN model\n",
    "        inputs = inputs.to(device)\n",
    "        labels = labels.to(device)\n",
    "        outputs = model(inputs)\n",
    "\n",
    "        #Calculating the RMSE loss\n",
    "        loss = criterion(outputs, labels)\n",
    "\n",
    "        #Adding the RMSE loss to the total Test loss\n",
    "        running_loss += loss.item()\n",
    "\n",
    "#Calculating the current Epoch average RMSE loss on Test dataset\n",
    "epoch_loss = np.sqrt(running_loss/len(test_dataloader))"
   ]
  },
  {
   "cell_type": "code",
   "execution_count": 23,
   "id": "624f914f-058f-477d-824b-189b524c5419",
   "metadata": {},
   "outputs": [
    {
     "name": "stdout",
     "output_type": "stream",
     "text": [
      "Test RMSE: 31.6328\n"
     ]
    }
   ],
   "source": [
    "print('Test RMSE: {:.4f}'.format(epoch_loss))"
   ]
  }
 ],
 "metadata": {
  "kernelspec": {
   "display_name": "Python 3 (ipykernel)",
   "language": "python",
   "name": "python3"
  },
  "language_info": {
   "codemirror_mode": {
    "name": "ipython",
    "version": 3
   },
   "file_extension": ".py",
   "mimetype": "text/x-python",
   "name": "python",
   "nbconvert_exporter": "python",
   "pygments_lexer": "ipython3",
   "version": "3.8.12"
  }
 },
 "nbformat": 4,
 "nbformat_minor": 5
}
