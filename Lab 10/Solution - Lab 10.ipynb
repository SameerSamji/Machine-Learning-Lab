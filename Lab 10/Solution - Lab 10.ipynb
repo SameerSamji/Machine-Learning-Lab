{
 "cells": [
  {
   "cell_type": "markdown",
   "id": "21b11567-4524-473c-82d4-0db609855de4",
   "metadata": {},
   "source": [
    "<h1 align='center'>Machine Learning Lab</h1>\n",
    "<h3 align='center'>Lab 10</h3>"
   ]
  },
  {
   "cell_type": "markdown",
   "id": "933dc1af-4361-48ae-9554-0cf45f20886b",
   "metadata": {},
   "source": [
    "### Importing Packages"
   ]
  },
  {
   "cell_type": "code",
   "execution_count": 1,
   "id": "4b8a139c-9beb-4d6e-b95e-c7b8f98c8a9c",
   "metadata": {},
   "outputs": [],
   "source": [
    "import pandas as pd                                  #Importing Pandas\n",
    "import numpy as np                                   #Importing Numpy\n",
    "import matplotlib.pyplot as plt                      #Importing Matplotlib\n",
    "from sklearn.decomposition import NMF                #Importing SKlearn Non Negative Matrix Factorization\n",
    "from sklearn.model_selection import GridSearchCV     #Importing GridSearchCV\n",
    "import warnings                                      #Importing Warnings\n",
    "warnings.filterwarnings('ignore')"
   ]
  },
  {
   "cell_type": "markdown",
   "id": "f2c781e9-6cc5-4761-86b4-225542d919c2",
   "metadata": {},
   "source": [
    "### Exercise 1: Exploring Movie Recommendation Dataset"
   ]
  },
  {
   "cell_type": "markdown",
   "id": "5d32c316-0eca-42ed-a37d-d23c8102048e",
   "metadata": {},
   "source": [
    "#### Reading Datasets"
   ]
  },
  {
   "cell_type": "markdown",
   "id": "95bf6e79-8ae4-41e9-beaf-7b83ab41cd7a",
   "metadata": {},
   "source": [
    "##### Reading the dataset file containing Users and Items references"
   ]
  },
  {
   "cell_type": "code",
   "execution_count": 2,
   "id": "f7c4fdd2-a2d5-46a7-b54d-a0c13776ed59",
   "metadata": {},
   "outputs": [
    {
     "data": {
      "text/html": [
       "<div>\n",
       "<style scoped>\n",
       "    .dataframe tbody tr th:only-of-type {\n",
       "        vertical-align: middle;\n",
       "    }\n",
       "\n",
       "    .dataframe tbody tr th {\n",
       "        vertical-align: top;\n",
       "    }\n",
       "\n",
       "    .dataframe thead th {\n",
       "        text-align: right;\n",
       "    }\n",
       "</style>\n",
       "<table border=\"1\" class=\"dataframe\">\n",
       "  <thead>\n",
       "    <tr style=\"text-align: right;\">\n",
       "      <th></th>\n",
       "      <th>user id</th>\n",
       "      <th>item id</th>\n",
       "      <th>rating</th>\n",
       "      <th>timestamp</th>\n",
       "    </tr>\n",
       "  </thead>\n",
       "  <tbody>\n",
       "    <tr>\n",
       "      <th>0</th>\n",
       "      <td>196</td>\n",
       "      <td>242</td>\n",
       "      <td>3</td>\n",
       "      <td>881250949</td>\n",
       "    </tr>\n",
       "    <tr>\n",
       "      <th>1</th>\n",
       "      <td>186</td>\n",
       "      <td>302</td>\n",
       "      <td>3</td>\n",
       "      <td>891717742</td>\n",
       "    </tr>\n",
       "    <tr>\n",
       "      <th>2</th>\n",
       "      <td>22</td>\n",
       "      <td>377</td>\n",
       "      <td>1</td>\n",
       "      <td>878887116</td>\n",
       "    </tr>\n",
       "    <tr>\n",
       "      <th>3</th>\n",
       "      <td>244</td>\n",
       "      <td>51</td>\n",
       "      <td>2</td>\n",
       "      <td>880606923</td>\n",
       "    </tr>\n",
       "    <tr>\n",
       "      <th>4</th>\n",
       "      <td>166</td>\n",
       "      <td>346</td>\n",
       "      <td>1</td>\n",
       "      <td>886397596</td>\n",
       "    </tr>\n",
       "  </tbody>\n",
       "</table>\n",
       "</div>"
      ],
      "text/plain": [
       "   user id  item id  rating  timestamp\n",
       "0      196      242       3  881250949\n",
       "1      186      302       3  891717742\n",
       "2       22      377       1  878887116\n",
       "3      244       51       2  880606923\n",
       "4      166      346       1  886397596"
      ]
     },
     "execution_count": 2,
     "metadata": {},
     "output_type": "execute_result"
    }
   ],
   "source": [
    "u_data = pd.read_csv('ml-100k/ml-100k/u.data', sep='\\t', names=['user id', 'item id', 'rating', 'timestamp'], header=None)\n",
    "u_data.head()"
   ]
  },
  {
   "cell_type": "markdown",
   "id": "cdba4674-34d1-4dad-ba44-2ef3041be011",
   "metadata": {},
   "source": [
    "##### Reading the Users Data"
   ]
  },
  {
   "cell_type": "code",
   "execution_count": 3,
   "id": "6e8cf55f-547a-42f0-906e-bedf0d972fe9",
   "metadata": {},
   "outputs": [
    {
     "data": {
      "text/html": [
       "<div>\n",
       "<style scoped>\n",
       "    .dataframe tbody tr th:only-of-type {\n",
       "        vertical-align: middle;\n",
       "    }\n",
       "\n",
       "    .dataframe tbody tr th {\n",
       "        vertical-align: top;\n",
       "    }\n",
       "\n",
       "    .dataframe thead th {\n",
       "        text-align: right;\n",
       "    }\n",
       "</style>\n",
       "<table border=\"1\" class=\"dataframe\">\n",
       "  <thead>\n",
       "    <tr style=\"text-align: right;\">\n",
       "      <th></th>\n",
       "      <th>user id</th>\n",
       "      <th>age</th>\n",
       "      <th>gender</th>\n",
       "      <th>occupation</th>\n",
       "      <th>zip code</th>\n",
       "    </tr>\n",
       "  </thead>\n",
       "  <tbody>\n",
       "    <tr>\n",
       "      <th>0</th>\n",
       "      <td>1</td>\n",
       "      <td>24</td>\n",
       "      <td>M</td>\n",
       "      <td>technician</td>\n",
       "      <td>85711</td>\n",
       "    </tr>\n",
       "    <tr>\n",
       "      <th>1</th>\n",
       "      <td>2</td>\n",
       "      <td>53</td>\n",
       "      <td>F</td>\n",
       "      <td>other</td>\n",
       "      <td>94043</td>\n",
       "    </tr>\n",
       "    <tr>\n",
       "      <th>2</th>\n",
       "      <td>3</td>\n",
       "      <td>23</td>\n",
       "      <td>M</td>\n",
       "      <td>writer</td>\n",
       "      <td>32067</td>\n",
       "    </tr>\n",
       "    <tr>\n",
       "      <th>3</th>\n",
       "      <td>4</td>\n",
       "      <td>24</td>\n",
       "      <td>M</td>\n",
       "      <td>technician</td>\n",
       "      <td>43537</td>\n",
       "    </tr>\n",
       "    <tr>\n",
       "      <th>4</th>\n",
       "      <td>5</td>\n",
       "      <td>33</td>\n",
       "      <td>F</td>\n",
       "      <td>other</td>\n",
       "      <td>15213</td>\n",
       "    </tr>\n",
       "  </tbody>\n",
       "</table>\n",
       "</div>"
      ],
      "text/plain": [
       "   user id  age gender  occupation zip code\n",
       "0        1   24      M  technician    85711\n",
       "1        2   53      F       other    94043\n",
       "2        3   23      M      writer    32067\n",
       "3        4   24      M  technician    43537\n",
       "4        5   33      F       other    15213"
      ]
     },
     "execution_count": 3,
     "metadata": {},
     "output_type": "execute_result"
    }
   ],
   "source": [
    "u_user = pd.read_csv('ml-100k/ml-100k/u.user', sep='|', names=['user id', 'age', 'gender', 'occupation', 'zip code'])\n",
    "u_user.head()"
   ]
  },
  {
   "cell_type": "markdown",
   "id": "958fe4f0-8330-42d2-916d-7ec4d5428fc1",
   "metadata": {},
   "source": [
    "##### Reading the Genre Data"
   ]
  },
  {
   "cell_type": "code",
   "execution_count": 4,
   "id": "2bcca517-821b-4949-a1f8-25b36087966b",
   "metadata": {},
   "outputs": [
    {
     "data": {
      "text/html": [
       "<div>\n",
       "<style scoped>\n",
       "    .dataframe tbody tr th:only-of-type {\n",
       "        vertical-align: middle;\n",
       "    }\n",
       "\n",
       "    .dataframe tbody tr th {\n",
       "        vertical-align: top;\n",
       "    }\n",
       "\n",
       "    .dataframe thead th {\n",
       "        text-align: right;\n",
       "    }\n",
       "</style>\n",
       "<table border=\"1\" class=\"dataframe\">\n",
       "  <thead>\n",
       "    <tr style=\"text-align: right;\">\n",
       "      <th></th>\n",
       "      <th>genre</th>\n",
       "      <th>id</th>\n",
       "    </tr>\n",
       "  </thead>\n",
       "  <tbody>\n",
       "    <tr>\n",
       "      <th>0</th>\n",
       "      <td>unknown</td>\n",
       "      <td>0</td>\n",
       "    </tr>\n",
       "    <tr>\n",
       "      <th>1</th>\n",
       "      <td>Action</td>\n",
       "      <td>1</td>\n",
       "    </tr>\n",
       "    <tr>\n",
       "      <th>2</th>\n",
       "      <td>Adventure</td>\n",
       "      <td>2</td>\n",
       "    </tr>\n",
       "    <tr>\n",
       "      <th>3</th>\n",
       "      <td>Animation</td>\n",
       "      <td>3</td>\n",
       "    </tr>\n",
       "    <tr>\n",
       "      <th>4</th>\n",
       "      <td>Children's</td>\n",
       "      <td>4</td>\n",
       "    </tr>\n",
       "  </tbody>\n",
       "</table>\n",
       "</div>"
      ],
      "text/plain": [
       "        genre  id\n",
       "0     unknown   0\n",
       "1      Action   1\n",
       "2   Adventure   2\n",
       "3   Animation   3\n",
       "4  Children's   4"
      ]
     },
     "execution_count": 4,
     "metadata": {},
     "output_type": "execute_result"
    }
   ],
   "source": [
    "u_genre = pd.read_csv('ml-100k/ml-100k/u.genre', sep='|', names=['genre', 'id'])\n",
    "u_genre.head()"
   ]
  },
  {
   "cell_type": "markdown",
   "id": "46764a29-eead-42df-9249-3c18916c5c77",
   "metadata": {},
   "source": [
    "##### Reading the Items/Movies Data"
   ]
  },
  {
   "cell_type": "code",
   "execution_count": 5,
   "id": "861e8658-eed1-48f7-9d26-a4235ddf5dd8",
   "metadata": {},
   "outputs": [
    {
     "data": {
      "text/html": [
       "<div>\n",
       "<style scoped>\n",
       "    .dataframe tbody tr th:only-of-type {\n",
       "        vertical-align: middle;\n",
       "    }\n",
       "\n",
       "    .dataframe tbody tr th {\n",
       "        vertical-align: top;\n",
       "    }\n",
       "\n",
       "    .dataframe thead th {\n",
       "        text-align: right;\n",
       "    }\n",
       "</style>\n",
       "<table border=\"1\" class=\"dataframe\">\n",
       "  <thead>\n",
       "    <tr style=\"text-align: right;\">\n",
       "      <th></th>\n",
       "      <th>movie id</th>\n",
       "      <th>movie title</th>\n",
       "      <th>release date</th>\n",
       "      <th>video release date</th>\n",
       "      <th>IMDb URL</th>\n",
       "      <th>unknown</th>\n",
       "      <th>Action</th>\n",
       "      <th>Adventure</th>\n",
       "      <th>Animation</th>\n",
       "      <th>Children's</th>\n",
       "      <th>...</th>\n",
       "      <th>Fantasy</th>\n",
       "      <th>Film-Noir</th>\n",
       "      <th>Horror</th>\n",
       "      <th>Musical</th>\n",
       "      <th>Mystery</th>\n",
       "      <th>Romance</th>\n",
       "      <th>Sci-Fi</th>\n",
       "      <th>Thriller</th>\n",
       "      <th>War</th>\n",
       "      <th>Western</th>\n",
       "    </tr>\n",
       "  </thead>\n",
       "  <tbody>\n",
       "    <tr>\n",
       "      <th>0</th>\n",
       "      <td>1</td>\n",
       "      <td>Toy Story (1995)</td>\n",
       "      <td>01-Jan-1995</td>\n",
       "      <td>NaN</td>\n",
       "      <td>http://us.imdb.com/M/title-exact?Toy%20Story%2...</td>\n",
       "      <td>0</td>\n",
       "      <td>0</td>\n",
       "      <td>0</td>\n",
       "      <td>1</td>\n",
       "      <td>1</td>\n",
       "      <td>...</td>\n",
       "      <td>0</td>\n",
       "      <td>0</td>\n",
       "      <td>0</td>\n",
       "      <td>0</td>\n",
       "      <td>0</td>\n",
       "      <td>0</td>\n",
       "      <td>0</td>\n",
       "      <td>0</td>\n",
       "      <td>0</td>\n",
       "      <td>0</td>\n",
       "    </tr>\n",
       "    <tr>\n",
       "      <th>1</th>\n",
       "      <td>2</td>\n",
       "      <td>GoldenEye (1995)</td>\n",
       "      <td>01-Jan-1995</td>\n",
       "      <td>NaN</td>\n",
       "      <td>http://us.imdb.com/M/title-exact?GoldenEye%20(...</td>\n",
       "      <td>0</td>\n",
       "      <td>1</td>\n",
       "      <td>1</td>\n",
       "      <td>0</td>\n",
       "      <td>0</td>\n",
       "      <td>...</td>\n",
       "      <td>0</td>\n",
       "      <td>0</td>\n",
       "      <td>0</td>\n",
       "      <td>0</td>\n",
       "      <td>0</td>\n",
       "      <td>0</td>\n",
       "      <td>0</td>\n",
       "      <td>1</td>\n",
       "      <td>0</td>\n",
       "      <td>0</td>\n",
       "    </tr>\n",
       "    <tr>\n",
       "      <th>2</th>\n",
       "      <td>3</td>\n",
       "      <td>Four Rooms (1995)</td>\n",
       "      <td>01-Jan-1995</td>\n",
       "      <td>NaN</td>\n",
       "      <td>http://us.imdb.com/M/title-exact?Four%20Rooms%...</td>\n",
       "      <td>0</td>\n",
       "      <td>0</td>\n",
       "      <td>0</td>\n",
       "      <td>0</td>\n",
       "      <td>0</td>\n",
       "      <td>...</td>\n",
       "      <td>0</td>\n",
       "      <td>0</td>\n",
       "      <td>0</td>\n",
       "      <td>0</td>\n",
       "      <td>0</td>\n",
       "      <td>0</td>\n",
       "      <td>0</td>\n",
       "      <td>1</td>\n",
       "      <td>0</td>\n",
       "      <td>0</td>\n",
       "    </tr>\n",
       "    <tr>\n",
       "      <th>3</th>\n",
       "      <td>4</td>\n",
       "      <td>Get Shorty (1995)</td>\n",
       "      <td>01-Jan-1995</td>\n",
       "      <td>NaN</td>\n",
       "      <td>http://us.imdb.com/M/title-exact?Get%20Shorty%...</td>\n",
       "      <td>0</td>\n",
       "      <td>1</td>\n",
       "      <td>0</td>\n",
       "      <td>0</td>\n",
       "      <td>0</td>\n",
       "      <td>...</td>\n",
       "      <td>0</td>\n",
       "      <td>0</td>\n",
       "      <td>0</td>\n",
       "      <td>0</td>\n",
       "      <td>0</td>\n",
       "      <td>0</td>\n",
       "      <td>0</td>\n",
       "      <td>0</td>\n",
       "      <td>0</td>\n",
       "      <td>0</td>\n",
       "    </tr>\n",
       "    <tr>\n",
       "      <th>4</th>\n",
       "      <td>5</td>\n",
       "      <td>Copycat (1995)</td>\n",
       "      <td>01-Jan-1995</td>\n",
       "      <td>NaN</td>\n",
       "      <td>http://us.imdb.com/M/title-exact?Copycat%20(1995)</td>\n",
       "      <td>0</td>\n",
       "      <td>0</td>\n",
       "      <td>0</td>\n",
       "      <td>0</td>\n",
       "      <td>0</td>\n",
       "      <td>...</td>\n",
       "      <td>0</td>\n",
       "      <td>0</td>\n",
       "      <td>0</td>\n",
       "      <td>0</td>\n",
       "      <td>0</td>\n",
       "      <td>0</td>\n",
       "      <td>0</td>\n",
       "      <td>1</td>\n",
       "      <td>0</td>\n",
       "      <td>0</td>\n",
       "    </tr>\n",
       "  </tbody>\n",
       "</table>\n",
       "<p>5 rows × 24 columns</p>\n",
       "</div>"
      ],
      "text/plain": [
       "   movie id        movie title release date  video release date  \\\n",
       "0         1   Toy Story (1995)  01-Jan-1995                 NaN   \n",
       "1         2   GoldenEye (1995)  01-Jan-1995                 NaN   \n",
       "2         3  Four Rooms (1995)  01-Jan-1995                 NaN   \n",
       "3         4  Get Shorty (1995)  01-Jan-1995                 NaN   \n",
       "4         5     Copycat (1995)  01-Jan-1995                 NaN   \n",
       "\n",
       "                                            IMDb URL  unknown  Action  \\\n",
       "0  http://us.imdb.com/M/title-exact?Toy%20Story%2...        0       0   \n",
       "1  http://us.imdb.com/M/title-exact?GoldenEye%20(...        0       1   \n",
       "2  http://us.imdb.com/M/title-exact?Four%20Rooms%...        0       0   \n",
       "3  http://us.imdb.com/M/title-exact?Get%20Shorty%...        0       1   \n",
       "4  http://us.imdb.com/M/title-exact?Copycat%20(1995)        0       0   \n",
       "\n",
       "   Adventure  Animation  Children's  ...  Fantasy  Film-Noir  Horror  Musical  \\\n",
       "0          0          1           1  ...        0          0       0        0   \n",
       "1          1          0           0  ...        0          0       0        0   \n",
       "2          0          0           0  ...        0          0       0        0   \n",
       "3          0          0           0  ...        0          0       0        0   \n",
       "4          0          0           0  ...        0          0       0        0   \n",
       "\n",
       "   Mystery  Romance  Sci-Fi  Thriller  War  Western  \n",
       "0        0        0       0         0    0        0  \n",
       "1        0        0       0         1    0        0  \n",
       "2        0        0       0         1    0        0  \n",
       "3        0        0       0         0    0        0  \n",
       "4        0        0       0         1    0        0  \n",
       "\n",
       "[5 rows x 24 columns]"
      ]
     },
     "execution_count": 5,
     "metadata": {},
     "output_type": "execute_result"
    }
   ],
   "source": [
    "u_item = pd.read_csv('ml-100k/ml-100k/u.item', encoding='latin-1', sep='|', names=['movie id','movie title','release date','video release date','IMDb URL','unknown','Action','Adventure','Animation','Children\\'s','Comedy','Crime','Documentary','Drama','Fantasy','Film-Noir','Horror','Musical','Mystery','Romance','Sci-Fi','Thriller','War','Western'])\n",
    "u_item.head()"
   ]
  },
  {
   "cell_type": "markdown",
   "id": "5485d3fd-63e2-46f5-ba4a-d423079b2b24",
   "metadata": {},
   "source": [
    "#### Showcasing how the ratings vary across users"
   ]
  },
  {
   "cell_type": "code",
   "execution_count": 6,
   "id": "83351a87-2a7d-4e5a-a6e9-174111a5835c",
   "metadata": {},
   "outputs": [
    {
     "data": {
      "image/png": "[encoded data removed]",
      "text/plain": [
       "<Figure size 1296x576 with 1 Axes>"
      ]
     },
     "metadata": {
      "needs_background": "light"
     },
     "output_type": "display_data"
    }
   ],
   "source": [
    "#For finding total ratings across user,\n",
    "#First we group the data based on user Id and then count the total rows which will indicate total ratings given by users\n",
    "rating_across_users = u_data.groupby(by = 'user id')['rating'].count().sort_values(ascending=True)\n",
    "\n",
    "#Plotting the Graph: Users vs Number of Ratings\n",
    "fig = plt.figure(figsize=(18,8))\n",
    "plt.bar(rating_across_users.index, rating_across_users.values)\n",
    "plt.title('How the ratings vary across users')\n",
    "plt.xlabel('Users')\n",
    "plt.ylabel('Number of Ratings')\n",
    "plt.show()"
   ]
  },
  {
   "cell_type": "markdown",
   "id": "9c4e2dc5-c4c5-4abb-8909-3f68fb5043db",
   "metadata": {},
   "source": [
    "#### Showcase how the ratings vary across items"
   ]
  },
  {
   "cell_type": "code",
   "execution_count": 7,
   "id": "5eb44415-969e-4958-b398-7fc4b4d12b34",
   "metadata": {},
   "outputs": [
    {
     "data": {
      "image/png": "[encoded data removed]",
      "text/plain": [
       "<Figure size 1296x576 with 1 Axes>"
      ]
     },
     "metadata": {
      "needs_background": "light"
     },
     "output_type": "display_data"
    }
   ],
   "source": [
    "#For finding total ratings across Items,\n",
    "#First we group the data based on item Id and then count the total rows which will indicate total ratings given for Items\n",
    "rating_across_items = u_data.groupby(by='item id')['rating'].count().sort_values(ascending = True)\n",
    "\n",
    "#Plotting the Graph: Users vs Number of Ratings\n",
    "fig = plt.figure(figsize=(18,8))\n",
    "plt.bar(rating_across_items.index, rating_across_items.values)\n",
    "plt.title('How the ratings vary across Items')\n",
    "plt.xlabel('Items')\n",
    "plt.ylabel('Number of Ratings')\n",
    "plt.show()"
   ]
  },
  {
   "cell_type": "markdown",
   "id": "df53bb89-cc6a-441b-a348-584e146b20bc",
   "metadata": {},
   "source": [
    "#### Are there genres that are more highly rated than others?"
   ]
  },
  {
   "cell_type": "code",
   "execution_count": 8,
   "id": "75630ad1-545b-49a9-b337-d2a00add1dc2",
   "metadata": {},
   "outputs": [
    {
     "data": {
      "image/png": "[encoded data removed]",
      "text/plain": [
       "<Figure size 1296x576 with 1 Axes>"
      ]
     },
     "metadata": {
      "needs_background": "light"
     },
     "output_type": "display_data"
    }
   ],
   "source": [
    "#First Extracting only that rows that has the maximum ratings i.e. 5\n",
    "#Then to find the genre and there count, we can simply sum up all the rows horizontaly and the result will show there count individually\n",
    "highest_rated_items = u_data[u_data['rating'] == max(u_data['rating'])]\n",
    "highest_rated_items = pd.merge(u_data, u_item, left_on='item id', right_on='movie id')\n",
    "highest_rated_items = (highest_rated_items[list(u_genre['genre'])] == 1).sum(axis=0)\n",
    "\n",
    "#Plotting the graph indicating total ratings for each genre\n",
    "fig = plt.figure(figsize=(18,8))\n",
    "plt.bar(highest_rated_items.index, highest_rated_items.values)\n",
    "plt.title('Genre\\'s that are Highly Rated By Users')\n",
    "plt.xlabel('Genre')\n",
    "plt.ylabel('Total Number of Highest Ratings')\n",
    "plt.xticks(rotation = 90)\n",
    "plt.show()"
   ]
  },
  {
   "cell_type": "markdown",
   "id": "0ee6233c-a61e-474b-9379-fa2173d7060e",
   "metadata": {},
   "source": [
    "#### What age groups prefer what genres based on ratings?"
   ]
  },
  {
   "cell_type": "code",
   "execution_count": 9,
   "id": "b58b8175-8b26-426f-b304-5aeb5c0b72cb",
   "metadata": {},
   "outputs": [],
   "source": [
    "#Defining different age brackets with a difference of 10 each\n",
    "age_bracket = np.arange(0,80,10)"
   ]
  },
  {
   "cell_type": "code",
   "execution_count": 10,
   "id": "8b2437b6-a4e6-4ae5-8898-ca819e20ca74",
   "metadata": {},
   "outputs": [
    {
     "data": {
      "text/html": [
       "<div>\n",
       "<style scoped>\n",
       "    .dataframe tbody tr th:only-of-type {\n",
       "        vertical-align: middle;\n",
       "    }\n",
       "\n",
       "    .dataframe tbody tr th {\n",
       "        vertical-align: top;\n",
       "    }\n",
       "\n",
       "    .dataframe thead th {\n",
       "        text-align: right;\n",
       "    }\n",
       "</style>\n",
       "<table border=\"1\" class=\"dataframe\">\n",
       "  <thead>\n",
       "    <tr style=\"text-align: right;\">\n",
       "      <th></th>\n",
       "      <th>Age Group</th>\n",
       "      <th>Popular Genre</th>\n",
       "    </tr>\n",
       "  </thead>\n",
       "  <tbody>\n",
       "    <tr>\n",
       "      <th>0</th>\n",
       "      <td>0-10</td>\n",
       "      <td>Comedy</td>\n",
       "    </tr>\n",
       "    <tr>\n",
       "      <th>1</th>\n",
       "      <td>10-20</td>\n",
       "      <td>Drama</td>\n",
       "    </tr>\n",
       "    <tr>\n",
       "      <th>2</th>\n",
       "      <td>20-30</td>\n",
       "      <td>Drama</td>\n",
       "    </tr>\n",
       "    <tr>\n",
       "      <th>3</th>\n",
       "      <td>30-40</td>\n",
       "      <td>Drama</td>\n",
       "    </tr>\n",
       "    <tr>\n",
       "      <th>4</th>\n",
       "      <td>40-50</td>\n",
       "      <td>Drama</td>\n",
       "    </tr>\n",
       "    <tr>\n",
       "      <th>5</th>\n",
       "      <td>50-60</td>\n",
       "      <td>Drama</td>\n",
       "    </tr>\n",
       "    <tr>\n",
       "      <th>6</th>\n",
       "      <td>60-70</td>\n",
       "      <td>Drama</td>\n",
       "    </tr>\n",
       "    <tr>\n",
       "      <th>7</th>\n",
       "      <td>70-80</td>\n",
       "      <td>Drama</td>\n",
       "    </tr>\n",
       "  </tbody>\n",
       "</table>\n",
       "</div>"
      ],
      "text/plain": [
       "  Age Group Popular Genre\n",
       "0      0-10        Comedy\n",
       "1     10-20         Drama\n",
       "2     20-30         Drama\n",
       "3     30-40         Drama\n",
       "4     40-50         Drama\n",
       "5     50-60         Drama\n",
       "6     60-70         Drama\n",
       "7     70-80         Drama"
      ]
     },
     "execution_count": 10,
     "metadata": {},
     "output_type": "execute_result"
    }
   ],
   "source": [
    "#Creating a dictionary to hold best genre for each age group\n",
    "aged_group_preference = {}\n",
    "\n",
    "#Extracting rows in which the item highest Ratings i.e. 5\n",
    "merged_df = u_data[u_data['rating'] == max(u_data['rating'])]\n",
    "\n",
    "#Merging the datasets\n",
    "merged_df = pd.merge(merged_df, u_item, left_on='item id', right_on='movie id')\n",
    "merged_df = pd.merge(merged_df, u_user, on='user id')\n",
    "\n",
    "#Iterating over all the age groups\n",
    "for age in age_bracket:\n",
    "    #Extracting ratings which are given by users in the specified age bracket\n",
    "    aged_df = merged_df[merged_df['age'].between(age, age+10)]\n",
    "    \n",
    "    #Suming the Genre count and getting the genre with the maximum count and saving it into the dictionary\n",
    "    aged_group_preference['{}-{}'.format(age, age+10)] = (aged_df[list(u_genre['genre'])] == 1).sum(axis=0).idxmax(axis = 0)\n",
    "\n",
    "#Converting the Dictionary into a Dataframe for Displaying the results    \n",
    "aged_df = pd.DataFrame.from_dict(aged_group_preference, orient='index').reset_index()\n",
    "aged_df.columns = ['Age Group', 'Popular Genre']\n",
    "aged_df"
   ]
  },
  {
   "cell_type": "markdown",
   "id": "b56ab3cb-9b77-421e-bcc1-2b77d14f93e2",
   "metadata": {},
   "source": [
    "### Exercise 2: Implementing basic matrix factorization (MF) technique for recommender systems"
   ]
  },
  {
   "cell_type": "code",
   "execution_count": 11,
   "id": "638002d2-26c9-437e-ba67-266ec82afcde",
   "metadata": {},
   "outputs": [],
   "source": [
    "#Initializing the random seed value\n",
    "random_seed = 3116"
   ]
  },
  {
   "cell_type": "markdown",
   "id": "14163edb-0cdf-48d2-b475-878add6ebc6f",
   "metadata": {},
   "source": [
    "#### Normalizing the data"
   ]
  },
  {
   "cell_type": "code",
   "execution_count": 12,
   "id": "86b62979-6d79-4613-97d1-1d94606ca6ed",
   "metadata": {},
   "outputs": [],
   "source": [
    "def normalize_matrix(matrix):\n",
    "    #Normalizing the dataset by: (X - X.mean)/X.standard_Deviation\n",
    "    return (matrix - matrix.mean())/matrix.std()"
   ]
  },
  {
   "cell_type": "markdown",
   "id": "673d4611-b7ef-414a-bb09-e679e8ac700d",
   "metadata": {},
   "source": [
    "#### Function to transform the dataset into a Rating Matrix of Users and Item"
   ]
  },
  {
   "cell_type": "code",
   "execution_count": 13,
   "id": "8db9de03-c685-4636-8f58-c3554c5cc177",
   "metadata": {},
   "outputs": [],
   "source": [
    "def extract_rating_matrix(dataset):\n",
    "    #Initializing the rating matrix with zeros\n",
    "    rating_matrix = np.zeros(shape=(number_of_users, number_of_items))\n",
    "    \n",
    "    #Iterating over all the rows of the dataset\n",
    "    for row in dataset:\n",
    "        #The row represent the users and the column represent the items and the corresponding value represent the rating for that item\n",
    "        rating_matrix[row[0]-1, row[1]-1] = row[2]\n",
    "    \n",
    "    #Returning the Rating matrix\n",
    "    return rating_matrix"
   ]
  },
  {
   "cell_type": "markdown",
   "id": "7931d4f3-50da-4a84-87a0-7851ca74fb86",
   "metadata": {},
   "source": [
    "#### Function to perform K-fold cross validation and return the training and the validation sets"
   ]
  },
  {
   "cell_type": "code",
   "execution_count": 14,
   "id": "892bb43d-c65e-46f8-b7d6-efa1fccc75a4",
   "metadata": {},
   "outputs": [],
   "source": [
    "def k_fold_cross_validation(dataset, k, K):\n",
    "    #Checking if the given k is larger than the allowed K partitions\n",
    "    if k >= K:\n",
    "        raise Exception('The Requested k-Fold should not be Greater than total Folds')\n",
    "    \n",
    "    #Calculating the Validation set size based on dataset size and total partitions given\n",
    "    set_size = int(len(dataset)/K)\n",
    "    \n",
    "    #Splitting the Dataset into Training and Validation sets based on set size.The size\n",
    "    #set size calculated above and all the remaining data points after removing test\n",
    "    dataset_train = np.delete(dataset,[i for i in range(k*set_size,(k*set_size)+set_size)],axis=0)\n",
    "    dataset_validation = dataset[k*set_size:(k*set_size)+set_size,:]\n",
    "    \n",
    "    #Returning the created Training and Validation datasets.\n",
    "    return dataset_train, dataset_validation"
   ]
  },
  {
   "cell_type": "markdown",
   "id": "7488aced-a8fa-4970-9a6d-0112a86ee258",
   "metadata": {},
   "source": [
    "#### Function to calculate the RMSE between the actual rating matrix and the predicted rating matrix"
   ]
  },
  {
   "cell_type": "code",
   "execution_count": 15,
   "id": "147b7ec9-e92f-4361-8ec9-53ff54ba3fdf",
   "metadata": {},
   "outputs": [],
   "source": [
    "def rmse(rating_matrix, p , q):\n",
    "    #Returning the RMSE\n",
    "    return np.sqrt(np.divide(np.sum(np.square(np.subtract(rating_matrix, np.dot(p, q)))),rating_matrix.shape[0] * rating_matrix.shape[1]))"
   ]
  },
  {
   "cell_type": "markdown",
   "id": "25927d17-76e9-4d8b-8d3a-a83327178a5a",
   "metadata": {},
   "source": [
    "#### Function which implements Stochastic Gradient Descent (SGD) for learning the matrix P and Q"
   ]
  },
  {
   "cell_type": "code",
   "execution_count": 16,
   "id": "ad0efd50-2c5c-43da-8cb4-bddacda41753",
   "metadata": {},
   "outputs": [],
   "source": [
    "def learn_latent_factors(dataset_train, dataset_test, lamda, alpha, K):\n",
    "    #Extracting and normalizing the Rating matrix of the Training dataset\n",
    "    r = normalize_matrix(extract_rating_matrix(dataset_train))\n",
    "    \n",
    "    #Extracting and normalizing the Rating matrix of the Test dataset\n",
    "    r_v = normalize_matrix(extract_rating_matrix(dataset_test))\n",
    "    \n",
    "    #Intializing the random P and Q matrix for matrix factorization, there dimensions are as follows:\n",
    "    #P -> (# of users, K latent Features)\n",
    "    #Q -> (K latent Features, # of Items)\n",
    "    p = np.random.normal(normal_dis_mean, normal_dis_std, size = (number_of_users, K))\n",
    "    q = np.random.normal(normal_dis_mean, normal_dis_std, size = (K, number_of_items))\n",
    "    \n",
    "    #Intializing lists for storing the train and test RMSE in each Epochs\n",
    "    train_rmse = np.array([])\n",
    "    validation_rmse = np.array([])\n",
    "    \n",
    "    #Learning the matrix P and Q for specified number of Epochs\n",
    "    for i in range(epochs):\n",
    "        #Iterating over all the rows in the training dataset\n",
    "        for row in dataset_train:\n",
    "            #Extracting the User Id and Item Id from the row\n",
    "            user_id, item_id = row[0] - 1, row[1] - 1\n",
    "            \n",
    "            #Calculating the difference between the actual rating and the predicted rating\n",
    "            e = r[user_id, item_id] - np.dot(p[user_id,:], q[:,item_id])\n",
    "\n",
    "            #Iterating over all the latent feature\n",
    "            for k in range(K):\n",
    "                #Updating the values of Pu,k and Qi,k\n",
    "                p[user_id, k] = p[user_id, k] + alpha * (e * q[k, item_id] - lamda * p[user_id, k])\n",
    "                q[k, item_id] = q[k, item_id] + alpha * (e * p[user_id, k] - lamda * q[k, item_id])\n",
    "        \n",
    "        #Appending the Train and Validating RMSE in the list\n",
    "        train_rmse = np.append(train_rmse, rmse(r, p, q))\n",
    "        validation_rmse = np.append(validation_rmse, rmse(r_v, p, q))\n",
    "        \n",
    "        #Checking the Stopping Condition,Stopping the Learning process when the difference between the last two epoch is negligible\n",
    "        if i > 1 and (validation_rmse[-2] - validation_rmse[-1] < 0.001):\n",
    "            break\n",
    "    \n",
    "    #Returning the calculated P, Q, Train RMSE and Validation RMSE\n",
    "    return p, q, train_rmse, validation_rmse"
   ]
  },
  {
   "cell_type": "markdown",
   "id": "0a683f53-a269-42cd-95c4-6c1c5638521d",
   "metadata": {},
   "source": [
    "#### Optimizing the hyper-parameters i.e. regularization constant, learning rate, k latent dimensions"
   ]
  },
  {
   "cell_type": "markdown",
   "id": "bb40f008-6145-4b0e-b04c-c2facfb11e20",
   "metadata": {},
   "source": [
    "##### Initializing variables to be used by different functions"
   ]
  },
  {
   "cell_type": "code",
   "execution_count": 17,
   "id": "9971a8d9-0450-4961-bd88-72efa24242d7",
   "metadata": {},
   "outputs": [],
   "source": [
    "#Number of Unique Users in the Dataset\n",
    "number_of_users = len(u_user)\n",
    "\n",
    "#Number of Unique Items in the Dataset\n",
    "number_of_items = len(u_item)\n",
    "\n",
    "#Initializing the Training set Size \n",
    "train_ratio = 0.9"
   ]
  },
  {
   "cell_type": "markdown",
   "id": "441e7850-4c6c-4fe4-9cdd-3df03ec504aa",
   "metadata": {},
   "source": [
    "##### Initializing variables storing the values of parameters of different algorithm"
   ]
  },
  {
   "cell_type": "code",
   "execution_count": 18,
   "id": "bc79a27c-c433-494e-84fc-b0e8165c5339",
   "metadata": {},
   "outputs": [],
   "source": [
    "#Number of Epochs\n",
    "epochs = 10\n",
    "\n",
    "#Mean for Normal Distribution samples\n",
    "normal_dis_mean = 0\n",
    "\n",
    "#Standard Deviation for Normal Distribution samples\n",
    "normal_dis_std = 1\n",
    "\n",
    "#Number of Folds for K fold cross validation\n",
    "K_folds = 5"
   ]
  },
  {
   "cell_type": "markdown",
   "id": "e770add3-6e0a-43ce-8212-389714fef091",
   "metadata": {},
   "source": [
    "##### Initializing different Hyperparameters sets for Hyperparameter Optimization"
   ]
  },
  {
   "cell_type": "code",
   "execution_count": 19,
   "id": "d4351b11-b2e6-4ca1-b02c-387cbdde2ae9",
   "metadata": {},
   "outputs": [],
   "source": [
    "lamdas = [0.1, 0.2, 0.3]\n",
    "alphas = [0.005, 0.003, 0.001]\n",
    "latent_k = [10,20,30]"
   ]
  },
  {
   "cell_type": "markdown",
   "id": "3db99432-c09f-4ba6-a601-e91651816ce6",
   "metadata": {},
   "source": [
    "##### Merging and Splitting the Dataset"
   ]
  },
  {
   "cell_type": "code",
   "execution_count": 20,
   "id": "352be874-f90d-4d31-9c5f-50f47c60e033",
   "metadata": {},
   "outputs": [],
   "source": [
    "#Merging the u.data and u.item dataset\n",
    "merged_df = pd.merge(u_data, u_item, left_on='item id', right_on='movie id')\n",
    "\n",
    "#Merging the merged dataset with u.users\n",
    "merged_df = pd.merge(merged_df, u_user, on='user id')"
   ]
  },
  {
   "cell_type": "code",
   "execution_count": 21,
   "id": "be2dcc17-a086-435d-971e-e9345a481043",
   "metadata": {},
   "outputs": [],
   "source": [
    "#Extracting the rows randomly from the merged dataset for Training set\n",
    "merged_train = merged_df.sample(frac=train_ratio)\n",
    "\n",
    "#Droping that rows which are included in training dataset\n",
    "merged_test = merged_df.drop(merged_train.index)\n",
    "\n",
    "#Converting the dataset into numpy arrays\n",
    "merged_train = merged_train.to_numpy()\n",
    "merged_test = merged_test.to_numpy()"
   ]
  },
  {
   "cell_type": "markdown",
   "id": "90bf14c5-7264-4726-8349-f40bf3d20498",
   "metadata": {},
   "source": [
    "##### Performing the Hyperparameter Optimization"
   ]
  },
  {
   "cell_type": "code",
   "execution_count": 22,
   "id": "bc49036b-26b6-4240-a74a-20c48e5d8cea",
   "metadata": {},
   "outputs": [],
   "source": [
    "#Initializing a matrix for storing the training RMSE for each Hyperparameter combination\n",
    "hyperparameters_train_rmse = np.zeros(shape=(len(lamdas),len(alphas),len(latent_k)))\n",
    "\n",
    "#Initializing a matrix for storing the Validating RMSE for each Hyperparameter combination\n",
    "hyperparameters_validation_rmse = np.zeros(shape=(len(lamdas),len(alphas),len(latent_k)))"
   ]
  },
  {
   "cell_type": "code",
   "execution_count": 23,
   "id": "dbac0f98-5d19-4bec-a229-6d590ca40ab8",
   "metadata": {},
   "outputs": [
    {
     "name": "stdout",
     "output_type": "stream",
     "text": [
      "Hyperparameter Selected: \n",
      "Lambda: 0.1\tAlpha: 0.005\tLatent Features: 10\n",
      "Training RMSE: 2.868509893658427\tValidation RMSE: 2.9597379940278317\n",
      "\n",
      "Hyperparameter Selected: \n",
      "Lambda: 0.1\tAlpha: 0.005\tLatent Features: 20\n",
      "Training RMSE: 3.342494949756881\tValidation RMSE: 3.426598602951947\n",
      "\n",
      "Hyperparameter Selected: \n",
      "Lambda: 0.1\tAlpha: 0.005\tLatent Features: 30\n",
      "Training RMSE: 3.6669460422303857\tValidation RMSE: 3.7275822539444823\n",
      "\n",
      "Hyperparameter Selected: \n",
      "Lambda: 0.1\tAlpha: 0.003\tLatent Features: 10\n",
      "Training RMSE: 2.6233389226393014\tValidation RMSE: 2.72348065261489\n",
      "\n",
      "Hyperparameter Selected: \n",
      "Lambda: 0.1\tAlpha: 0.003\tLatent Features: 20\n",
      "Training RMSE: 3.2864389817621222\tValidation RMSE: 3.3727021002841555\n",
      "\n",
      "Hyperparameter Selected: \n",
      "Lambda: 0.1\tAlpha: 0.003\tLatent Features: 30\n",
      "Training RMSE: 3.750172900671404\tValidation RMSE: 3.817480761038103\n",
      "\n",
      "Hyperparameter Selected: \n",
      "Lambda: 0.1\tAlpha: 0.001\tLatent Features: 10\n",
      "Training RMSE: 2.458437646820484\tValidation RMSE: 2.51997618557773\n",
      "\n",
      "Hyperparameter Selected: \n",
      "Lambda: 0.1\tAlpha: 0.001\tLatent Features: 20\n",
      "Training RMSE: 3.293304418318679\tValidation RMSE: 3.366715418916641\n",
      "\n",
      "Hyperparameter Selected: \n",
      "Lambda: 0.1\tAlpha: 0.001\tLatent Features: 30\n",
      "Training RMSE: 3.9002412563875226\tValidation RMSE: 3.977953930799921\n",
      "\n",
      "Hyperparameter Selected: \n",
      "Lambda: 0.2\tAlpha: 0.005\tLatent Features: 10\n",
      "Training RMSE: 2.736373374601422\tValidation RMSE: 2.830550185541351\n",
      "\n",
      "Hyperparameter Selected: \n",
      "Lambda: 0.2\tAlpha: 0.005\tLatent Features: 20\n",
      "Training RMSE: 3.20244993547063\tValidation RMSE: 3.286403732468172\n",
      "\n",
      "Hyperparameter Selected: \n",
      "Lambda: 0.2\tAlpha: 0.005\tLatent Features: 30\n",
      "Training RMSE: 3.3908482812611154\tValidation RMSE: 3.4498445597873904\n",
      "\n",
      "Hyperparameter Selected: \n",
      "Lambda: 0.2\tAlpha: 0.003\tLatent Features: 10\n",
      "Training RMSE: 2.4924098604959584\tValidation RMSE: 2.592825962359919\n",
      "\n",
      "Hyperparameter Selected: \n",
      "Lambda: 0.2\tAlpha: 0.003\tLatent Features: 20\n",
      "Training RMSE: 3.1436635614832955\tValidation RMSE: 3.2291171435295105\n",
      "\n",
      "Hyperparameter Selected: \n",
      "Lambda: 0.2\tAlpha: 0.003\tLatent Features: 30\n",
      "Training RMSE: 3.474573512313772\tValidation RMSE: 3.542423211713325\n",
      "\n",
      "Hyperparameter Selected: \n",
      "Lambda: 0.2\tAlpha: 0.001\tLatent Features: 10\n",
      "Training RMSE: 2.380917903078778\tValidation RMSE: 2.4444837319566686\n",
      "\n",
      "Hyperparameter Selected: \n",
      "Lambda: 0.2\tAlpha: 0.001\tLatent Features: 20\n",
      "Training RMSE: 3.1564327820813505\tValidation RMSE: 3.2308621391027303\n",
      "\n",
      "Hyperparameter Selected: \n",
      "Lambda: 0.2\tAlpha: 0.001\tLatent Features: 30\n",
      "Training RMSE: 3.6973659274472945\tValidation RMSE: 3.775103542152378\n",
      "\n",
      "Hyperparameter Selected: \n",
      "Lambda: 0.3\tAlpha: 0.005\tLatent Features: 10\n",
      "Training RMSE: 2.645282438520627\tValidation RMSE: 2.7380224819409738\n",
      "\n",
      "Hyperparameter Selected: \n",
      "Lambda: 0.3\tAlpha: 0.005\tLatent Features: 20\n",
      "Training RMSE: 3.034819788659462\tValidation RMSE: 3.1202311240426512\n",
      "\n",
      "Hyperparameter Selected: \n",
      "Lambda: 0.3\tAlpha: 0.005\tLatent Features: 30\n",
      "Training RMSE: 3.1882769363770995\tValidation RMSE: 3.247268782831602\n",
      "\n",
      "Hyperparameter Selected: \n",
      "Lambda: 0.3\tAlpha: 0.003\tLatent Features: 10\n",
      "Training RMSE: 2.363905106792751\tValidation RMSE: 2.462203321638701\n",
      "\n",
      "Hyperparameter Selected: \n",
      "Lambda: 0.3\tAlpha: 0.003\tLatent Features: 20\n",
      "Training RMSE: 3.0188006023682847\tValidation RMSE: 3.1057964678622327\n",
      "\n",
      "Hyperparameter Selected: \n",
      "Lambda: 0.3\tAlpha: 0.003\tLatent Features: 30\n",
      "Training RMSE: 3.2893276953753534\tValidation RMSE: 3.355826853021143\n",
      "\n",
      "Hyperparameter Selected: \n",
      "Lambda: 0.3\tAlpha: 0.001\tLatent Features: 10\n",
      "Training RMSE: 2.2769188343833044\tValidation RMSE: 2.3355294300340343\n",
      "\n",
      "Hyperparameter Selected: \n",
      "Lambda: 0.3\tAlpha: 0.001\tLatent Features: 20\n",
      "Training RMSE: 3.0163392379154494\tValidation RMSE: 3.0984016342988783\n",
      "\n",
      "Hyperparameter Selected: \n",
      "Lambda: 0.3\tAlpha: 0.001\tLatent Features: 30\n",
      "Training RMSE: 3.5067156353032347\tValidation RMSE: 3.5857673503648924\n",
      "\n"
     ]
    }
   ],
   "source": [
    "#Iterating for all values of Lambdas\n",
    "for index_l, lamda in enumerate(lamdas):\n",
    "    \n",
    "    #Iterating for all values of Alphas\n",
    "    for index_a, alpha in enumerate(alphas):\n",
    "        \n",
    "        #Iterating for all values of Latent Features\n",
    "        for index_lk, l_k in enumerate(latent_k):\n",
    "            \n",
    "            #Initializing the average Training and Validating RMSE for each K fold\n",
    "            average_train_rmse, average_validation_rmse = 0 , 0\n",
    "            \n",
    "            #Iterating for all values of K fold\n",
    "            for k in range(K_folds):\n",
    "                \n",
    "                #Splitting the training dataset into Train and Validation using K fold Cross validation\n",
    "                train, validation = k_fold_cross_validation(merged_train, k, K_folds)\n",
    "                \n",
    "                #Applying the SGD for Calculating the matrix P and Q using a hyperparameter combination\n",
    "                p, q, train_rmse, validation_rmse = learn_latent_factors(merged_train, validation, lamda, alpha, l_k)\n",
    "                \n",
    "                #Adding the Training and Validation RMSE\n",
    "                average_train_rmse += train_rmse[-1]\n",
    "                average_validation_rmse += validation_rmse[-1]\n",
    "                \n",
    "            #Averaging the values for Train and Validation RMSE\n",
    "            average_train_rmse, average_validation_rmse = average_train_rmse/K_folds, average_validation_rmse/K_folds\n",
    "            \n",
    "            #Printing the Output of RMSE for selected Hyperparameter Combination\n",
    "            print('Hyperparameter Selected: ')\n",
    "            print('Lambda: {}\\tAlpha: {}\\tLatent Features: {}'.format(lamda, alpha, l_k))\n",
    "            print('Training RMSE: {}\\tValidation RMSE: {}\\n'.format(average_train_rmse, average_validation_rmse))\n",
    "            \n",
    "            #Saving the calculated RMSE in the list of both Training and Validation\n",
    "            hyperparameters_train_rmse[index_l,index_a,index_lk] = average_train_rmse\n",
    "            hyperparameters_validation_rmse[index_l,index_a,index_lk] = average_validation_rmse\n",
    "                "
   ]
  },
  {
   "cell_type": "markdown",
   "id": "3b4b1dd6-79df-47bc-a241-0e803545c5a4",
   "metadata": {},
   "source": [
    "#### Computing the Validation RMSE"
   ]
  },
  {
   "cell_type": "markdown",
   "id": "fe6d80c5-6dd2-4022-84b1-27118181414c",
   "metadata": {},
   "source": [
    "##### Finding the Best Hyperparameter Combination"
   ]
  },
  {
   "cell_type": "code",
   "execution_count": 24,
   "id": "8172bfdf-6591-4ca4-ab79-a68bb7d9d88c",
   "metadata": {},
   "outputs": [
    {
     "name": "stdout",
     "output_type": "stream",
     "text": [
      "Best Hyperparameter with the Minimum Validation RMSE:\n",
      "Lambda: 0.3\tAlpha: 0.001\tLatent Features: 10\n",
      "Validation RMSE: 2.3355294300340343\n"
     ]
    }
   ],
   "source": [
    "#Finding the index containing the minimum RMSE\n",
    "i,j,k = np.where(hyperparameters_validation_rmse == hyperparameters_validation_rmse.min())\n",
    "\n",
    "#Printing the Results\n",
    "print('Best Hyperparameter with the Minimum Validation RMSE:')\n",
    "print('Lambda: {}\\tAlpha: {}\\tLatent Features: {}'.format(lamdas[i.item()],alphas[j.item()],latent_k[k.item()]))\n",
    "print('Validation RMSE: {}'.format(hyperparameters_validation_rmse[i,j,k].item()))"
   ]
  },
  {
   "cell_type": "markdown",
   "id": "09a2bc80-acb8-48f6-9a2b-b5c328a669c3",
   "metadata": {},
   "source": [
    "#### Computing the Test RMSE"
   ]
  },
  {
   "cell_type": "code",
   "execution_count": 25,
   "id": "60b080af-12d2-41a6-b326-124750c9a08b",
   "metadata": {},
   "outputs": [
    {
     "name": "stdout",
     "output_type": "stream",
     "text": [
      "The Test RMSE: 2.3302891774428147\n"
     ]
    }
   ],
   "source": [
    "#Performing Matrix Factorization on the Test Dataset with Best Combination of Hyperparameters\n",
    "best_lamda, best_alpha, best_latent_k = lamdas[i.item()], alphas[j.item()], latent_k[k.item()]\n",
    "p, q, train_rmse, test_rmse = learn_latent_factors(merged_train, merged_test, best_lamda, best_alpha, best_latent_k)\n",
    "print('The Test RMSE: {}'.format(test_rmse[-1]))"
   ]
  },
  {
   "cell_type": "markdown",
   "id": "e29f1f6a-ca13-44ac-b713-dfcba0944fc1",
   "metadata": {},
   "source": [
    "##### Plotting the Training RMSE vs Test RMSE for each Epochs"
   ]
  },
  {
   "cell_type": "code",
   "execution_count": 26,
   "id": "a0506de9-1c2c-4bb5-96df-62f95b01a77f",
   "metadata": {},
   "outputs": [
    {
     "data": {
      "image/png": "[encoded data removed]",
      "text/plain": [
       "<Figure size 1296x576 with 1 Axes>"
      ]
     },
     "metadata": {
      "needs_background": "light"
     },
     "output_type": "display_data"
    }
   ],
   "source": [
    "fig = plt.figure(figsize=(18,8))\n",
    "plt.plot([i for i in range(len(train_rmse))], train_rmse, label='Training RMSE')\n",
    "plt.plot([i for i in range(len(test_rmse))], test_rmse, label='Test RMSE')\n",
    "plt.title('Train vs Test RMSE for Matrix Factorization')\n",
    "plt.xlabel('Epochs')\n",
    "plt.ylabel('RMSE')\n",
    "plt.legend()\n",
    "plt.show()"
   ]
  },
  {
   "cell_type": "markdown",
   "id": "b32af719-332e-4b67-b08b-dc4a39f04003",
   "metadata": {},
   "source": [
    "### Exercise 3: Recommender Systems using matrix factorization sckitlearn"
   ]
  },
  {
   "cell_type": "markdown",
   "id": "267d23d0-e383-4cc0-ad88-be48162779bd",
   "metadata": {},
   "source": [
    "#### Performing the Hyperparameter Optimization using Grid Search"
   ]
  },
  {
   "cell_type": "code",
   "execution_count": 27,
   "id": "18b80253-1950-414f-814c-5cb773030af3",
   "metadata": {},
   "outputs": [],
   "source": [
    "#Initializing a matrix for storing the training RMSE for each Hyperparameter combination\n",
    "hyperparameters_train_rmse = np.zeros(shape=(len(lamdas),len(latent_k)))\n",
    "\n",
    "#Initializing a matrix for storing the Validating RMSE for each Hyperparameter combination\n",
    "hyperparameters_validation_rmse = np.zeros(shape=(len(lamdas),len(latent_k)))"
   ]
  },
  {
   "cell_type": "code",
   "execution_count": 28,
   "id": "aa3a616e-1f12-42c6-a5e2-8cf3ef3ee466",
   "metadata": {},
   "outputs": [
    {
     "name": "stdout",
     "output_type": "stream",
     "text": [
      "Hyperparameter Selected: \n",
      "Lambda: 0.1\tAlpha: 0.001\tLatent Features: 10\n",
      "Training RMSE: 0.6455496004386772\tValidation RMSE: 0.5209734831178708\n",
      "\n",
      "Hyperparameter Selected: \n",
      "Lambda: 0.1\tAlpha: 0.001\tLatent Features: 20\n",
      "Training RMSE: 0.6261437430899222\tValidation RMSE: 0.5438638955517104\n",
      "\n",
      "Hyperparameter Selected: \n",
      "Lambda: 0.1\tAlpha: 0.001\tLatent Features: 30\n",
      "Training RMSE: 0.6109459061417086\tValidation RMSE: 0.5647186020802145\n",
      "\n",
      "Hyperparameter Selected: \n",
      "Lambda: 0.2\tAlpha: 0.001\tLatent Features: 10\n",
      "Training RMSE: 0.6455410880933105\tValidation RMSE: 0.5208110910569509\n",
      "\n",
      "Hyperparameter Selected: \n",
      "Lambda: 0.2\tAlpha: 0.001\tLatent Features: 20\n",
      "Training RMSE: 0.6261731256168357\tValidation RMSE: 0.543679951253973\n",
      "\n",
      "Hyperparameter Selected: \n",
      "Lambda: 0.2\tAlpha: 0.001\tLatent Features: 30\n",
      "Training RMSE: 0.6110123444640454\tValidation RMSE: 0.5642144169255127\n",
      "\n",
      "Hyperparameter Selected: \n",
      "Lambda: 0.3\tAlpha: 0.001\tLatent Features: 10\n",
      "Training RMSE: 0.6455446309854551\tValidation RMSE: 0.5206179302358835\n",
      "\n",
      "Hyperparameter Selected: \n",
      "Lambda: 0.3\tAlpha: 0.001\tLatent Features: 20\n",
      "Training RMSE: 0.6261767517512596\tValidation RMSE: 0.5435347118224222\n",
      "\n",
      "Hyperparameter Selected: \n",
      "Lambda: 0.3\tAlpha: 0.001\tLatent Features: 30\n",
      "Training RMSE: 0.6109843575875654\tValidation RMSE: 0.5640316855817946\n",
      "\n"
     ]
    }
   ],
   "source": [
    "#Iterating for all values of Lambdas\n",
    "for index_l, lamda in enumerate(lamdas):\n",
    "    \n",
    "    #Iterating for all values of Latent Features\n",
    "    for index_lk, l_k in enumerate(latent_k):\n",
    "        \n",
    "        #Initializing the average Training and Validating RMSE for each K fold\n",
    "        average_train_rmse, average_validation_rmse = 0 , 0\n",
    "        \n",
    "        #Iterating for all values of K fold\n",
    "        for k in range(K_folds):\n",
    "            \n",
    "            #Splitting the training dataset into Train and Validation using K fold Cross validation\n",
    "            train, validation = k_fold_cross_validation(merged_train, k, K_folds)\n",
    "            \n",
    "            #Using Sklearn NMF function to Matrix Factorization\n",
    "            model = NMF(init='random',n_components = l_k, alpha=lamda, random_state=random_seed)\n",
    "            \n",
    "            #Extracting matrix W after fitting the Training Rating Matrix\n",
    "            W = model.fit_transform(extract_rating_matrix(train))\n",
    "            \n",
    "            #Extracting matrix H after fitting the Training Rating Matrix\n",
    "            H = model.components_\n",
    "            \n",
    "            #Adding the Training and Validation RMSE\n",
    "            average_train_rmse += rmse(extract_rating_matrix(train), W, H)\n",
    "            average_validation_rmse += rmse(extract_rating_matrix(validation), W, H)\n",
    "        \n",
    "        #Averaging the values for Train and Validation RMSE\n",
    "        average_train_rmse, average_validation_rmse = average_train_rmse/K_folds, average_validation_rmse/K_folds\n",
    "        \n",
    "        #Printing the Output of RMSE for selected Hyperparameter Combination\n",
    "        print('Hyperparameter Selected: ')\n",
    "        print('Lambda: {}\\tAlpha: {}\\tLatent Features: {}'.format(lamda, alpha, l_k))\n",
    "        print('Training RMSE: {}\\tValidation RMSE: {}\\n'.format(average_train_rmse, average_validation_rmse))\n",
    "        \n",
    "        #Saving the calculated RMSE in the list of both Training and Validation\n",
    "        hyperparameters_train_rmse[index_l,index_lk] = average_train_rmse\n",
    "        hyperparameters_validation_rmse[index_l,index_lk] = average_validation_rmse"
   ]
  },
  {
   "cell_type": "markdown",
   "id": "b01677f4-e126-4f68-b326-db8b83e135e4",
   "metadata": {},
   "source": [
    "#### Computing the Validation RMSE"
   ]
  },
  {
   "cell_type": "markdown",
   "id": "299bc7fc-ace8-4937-b0a8-5bc07837f22c",
   "metadata": {},
   "source": [
    "##### Finding the Best Hyperparameter Combination"
   ]
  },
  {
   "cell_type": "code",
   "execution_count": 29,
   "id": "058c330a-3523-4e51-8401-712b99abf746",
   "metadata": {},
   "outputs": [
    {
     "name": "stdout",
     "output_type": "stream",
     "text": [
      "Best Hyperparameter with the Minimum Validation RMSE:\n",
      "Lambda: 0.3\tLatent Features: 10\n",
      "Validation RMSE: 0.5206179302358835\n"
     ]
    }
   ],
   "source": [
    "#Finding the index containing the minimum RMSE\n",
    "i,j = np.where(hyperparameters_validation_rmse == hyperparameters_validation_rmse.min())\n",
    "\n",
    "#Printing the Results\n",
    "print('Best Hyperparameter with the Minimum Validation RMSE:')\n",
    "print('Lambda: {}\\tLatent Features: {}'.format(lamdas[i.item()],latent_k[j.item()]))\n",
    "print('Validation RMSE: {}'.format(hyperparameters_validation_rmse[i,j].item()))"
   ]
  },
  {
   "cell_type": "markdown",
   "id": "02c1ce66-5f59-4b24-9c29-8b5e9a9d1db3",
   "metadata": {},
   "source": [
    "#### Computing the Test RMSE"
   ]
  },
  {
   "cell_type": "code",
   "execution_count": 30,
   "id": "eb1fdd9b-1816-4fd7-bc31-142c764617bd",
   "metadata": {},
   "outputs": [],
   "source": [
    "#Performing Matrix Factorization on the Test Dataset with Best Combination of Hyperparameters\n",
    "test_model = NMF(init='random',n_components = 10, alpha=0.3, random_state=random_seed)\n",
    "\n",
    "#Extracting matrix W after fitting the Training Rating Matrix\n",
    "W = test_model.fit_transform(extract_rating_matrix(merged_test))\n",
    "\n",
    "#Extracting matrix H after fitting the Training Rating Matrix\n",
    "H = test_model.components_"
   ]
  },
  {
   "cell_type": "code",
   "execution_count": 31,
   "id": "90c05291-2dfc-44ab-b3bf-e0627f85e640",
   "metadata": {},
   "outputs": [
    {
     "name": "stdout",
     "output_type": "stream",
     "text": [
      "Test RMSE: 0.27566461477377874\n"
     ]
    }
   ],
   "source": [
    "print('Test RMSE: {}'.format(rmse(extract_rating_matrix(merged_test), W, H)))"
   ]
  },
  {
   "cell_type": "raw",
   "id": "b7967faa-6b5a-45a1-beb3-a018c7efde4f",
   "metadata": {},
   "source": [
    "From the above results, we can see that the RMSE of the Test set from my implementation of SGD came out to be around 2.33 whereas the RMSE of Test set from the Sklearn implementation of NMF came out to be 0.27, which is a huge improvement.Furthermore, I also observes that the time taken to run every epoch was also very large as compared to the Sklearn implementation which makes it more interesting."
   ]
  }
 ],
 "metadata": {
  "kernelspec": {
   "display_name": "Python 3 (ipykernel)",
   "language": "python",
   "name": "python3"
  },
  "language_info": {
   "codemirror_mode": {
    "name": "ipython",
    "version": 3
   },
   "file_extension": ".py",
   "mimetype": "text/x-python",
   "name": "python",
   "nbconvert_exporter": "python",
   "pygments_lexer": "ipython3",
   "version": "3.8.12"
  }
 },
 "nbformat": 4,
 "nbformat_minor": 5
}
