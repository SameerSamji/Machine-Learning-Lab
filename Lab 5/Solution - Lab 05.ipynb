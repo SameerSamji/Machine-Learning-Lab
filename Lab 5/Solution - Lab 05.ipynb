{
 "cells": [
  {
   "cell_type": "markdown",
   "id": "332adabf-cb06-4741-bf15-5d4bbaa0d898",
   "metadata": {},
   "source": [
    "<h1 align='center'>Machine Learning Lab</h1>\n",
    "<h3 align='center'>Lab 05</h3>"
   ]
  },
  {
   "cell_type": "markdown",
   "id": "7c2e47e5-b1e7-4e16-9284-cffcedbc8de9",
   "metadata": {},
   "source": [
    "### Exercise 1: Backward search for variable selection"
   ]
  },
  {
   "cell_type": "markdown",
   "id": "533cee26-212b-4f48-b093-32601ced35b5",
   "metadata": {},
   "source": [
    "#### Importing Packages"
   ]
  },
  {
   "cell_type": "code",
   "execution_count": 1,
   "id": "8bff191f-8a56-4637-989d-8a5da7eb1b03",
   "metadata": {},
   "outputs": [],
   "source": [
    "import pandas as pd                  #Importing Pandas\n",
    "import numpy as np                   #Importing Numpy\n",
    "import matplotlib.pyplot as plt      #Importing Matplotlib\n",
    "import math                          #Importing Math"
   ]
  },
  {
   "cell_type": "markdown",
   "id": "9c2c3cc5-a81e-485c-814d-64acbfc2599a",
   "metadata": {},
   "source": [
    "#### Reading Bank CSV dataset"
   ]
  },
  {
   "cell_type": "code",
   "execution_count": 2,
   "id": "9dc73b2b-a926-4175-89a6-044cdeb461f7",
   "metadata": {},
   "outputs": [
    {
     "data": {
      "text/html": [
       "<div>\n",
       "<style scoped>\n",
       "    .dataframe tbody tr th:only-of-type {\n",
       "        vertical-align: middle;\n",
       "    }\n",
       "\n",
       "    .dataframe tbody tr th {\n",
       "        vertical-align: top;\n",
       "    }\n",
       "\n",
       "    .dataframe thead th {\n",
       "        text-align: right;\n",
       "    }\n",
       "</style>\n",
       "<table border=\"1\" class=\"dataframe\">\n",
       "  <thead>\n",
       "    <tr style=\"text-align: right;\">\n",
       "      <th></th>\n",
       "      <th>age</th>\n",
       "      <th>job</th>\n",
       "      <th>marital</th>\n",
       "      <th>education</th>\n",
       "      <th>default</th>\n",
       "      <th>balance</th>\n",
       "      <th>housing</th>\n",
       "      <th>loan</th>\n",
       "      <th>contact</th>\n",
       "      <th>day</th>\n",
       "      <th>month</th>\n",
       "      <th>duration</th>\n",
       "      <th>campaign</th>\n",
       "      <th>pdays</th>\n",
       "      <th>previous</th>\n",
       "      <th>poutcome</th>\n",
       "      <th>y</th>\n",
       "    </tr>\n",
       "  </thead>\n",
       "  <tbody>\n",
       "    <tr>\n",
       "      <th>0</th>\n",
       "      <td>30</td>\n",
       "      <td>unemployed</td>\n",
       "      <td>married</td>\n",
       "      <td>primary</td>\n",
       "      <td>no</td>\n",
       "      <td>1787</td>\n",
       "      <td>no</td>\n",
       "      <td>no</td>\n",
       "      <td>cellular</td>\n",
       "      <td>19</td>\n",
       "      <td>oct</td>\n",
       "      <td>79</td>\n",
       "      <td>1</td>\n",
       "      <td>-1</td>\n",
       "      <td>0</td>\n",
       "      <td>unknown</td>\n",
       "      <td>no</td>\n",
       "    </tr>\n",
       "    <tr>\n",
       "      <th>1</th>\n",
       "      <td>33</td>\n",
       "      <td>services</td>\n",
       "      <td>married</td>\n",
       "      <td>secondary</td>\n",
       "      <td>no</td>\n",
       "      <td>4789</td>\n",
       "      <td>yes</td>\n",
       "      <td>yes</td>\n",
       "      <td>cellular</td>\n",
       "      <td>11</td>\n",
       "      <td>may</td>\n",
       "      <td>220</td>\n",
       "      <td>1</td>\n",
       "      <td>339</td>\n",
       "      <td>4</td>\n",
       "      <td>failure</td>\n",
       "      <td>no</td>\n",
       "    </tr>\n",
       "    <tr>\n",
       "      <th>2</th>\n",
       "      <td>35</td>\n",
       "      <td>management</td>\n",
       "      <td>single</td>\n",
       "      <td>tertiary</td>\n",
       "      <td>no</td>\n",
       "      <td>1350</td>\n",
       "      <td>yes</td>\n",
       "      <td>no</td>\n",
       "      <td>cellular</td>\n",
       "      <td>16</td>\n",
       "      <td>apr</td>\n",
       "      <td>185</td>\n",
       "      <td>1</td>\n",
       "      <td>330</td>\n",
       "      <td>1</td>\n",
       "      <td>failure</td>\n",
       "      <td>no</td>\n",
       "    </tr>\n",
       "    <tr>\n",
       "      <th>3</th>\n",
       "      <td>30</td>\n",
       "      <td>management</td>\n",
       "      <td>married</td>\n",
       "      <td>tertiary</td>\n",
       "      <td>no</td>\n",
       "      <td>1476</td>\n",
       "      <td>yes</td>\n",
       "      <td>yes</td>\n",
       "      <td>unknown</td>\n",
       "      <td>3</td>\n",
       "      <td>jun</td>\n",
       "      <td>199</td>\n",
       "      <td>4</td>\n",
       "      <td>-1</td>\n",
       "      <td>0</td>\n",
       "      <td>unknown</td>\n",
       "      <td>no</td>\n",
       "    </tr>\n",
       "    <tr>\n",
       "      <th>4</th>\n",
       "      <td>59</td>\n",
       "      <td>blue-collar</td>\n",
       "      <td>married</td>\n",
       "      <td>secondary</td>\n",
       "      <td>no</td>\n",
       "      <td>0</td>\n",
       "      <td>yes</td>\n",
       "      <td>no</td>\n",
       "      <td>unknown</td>\n",
       "      <td>5</td>\n",
       "      <td>may</td>\n",
       "      <td>226</td>\n",
       "      <td>1</td>\n",
       "      <td>-1</td>\n",
       "      <td>0</td>\n",
       "      <td>unknown</td>\n",
       "      <td>no</td>\n",
       "    </tr>\n",
       "  </tbody>\n",
       "</table>\n",
       "</div>"
      ],
      "text/plain": [
       "   age          job  marital  education default  balance housing loan  \\\n",
       "0   30   unemployed  married    primary      no     1787      no   no   \n",
       "1   33     services  married  secondary      no     4789     yes  yes   \n",
       "2   35   management   single   tertiary      no     1350     yes   no   \n",
       "3   30   management  married   tertiary      no     1476     yes  yes   \n",
       "4   59  blue-collar  married  secondary      no        0     yes   no   \n",
       "\n",
       "    contact  day month  duration  campaign  pdays  previous poutcome   y  \n",
       "0  cellular   19   oct        79         1     -1         0  unknown  no  \n",
       "1  cellular   11   may       220         1    339         4  failure  no  \n",
       "2  cellular   16   apr       185         1    330         1  failure  no  \n",
       "3   unknown    3   jun       199         4     -1         0  unknown  no  \n",
       "4   unknown    5   may       226         1     -1         0  unknown  no  "
      ]
     },
     "execution_count": 2,
     "metadata": {},
     "output_type": "execute_result"
    }
   ],
   "source": [
    "bank_df = pd.read_csv('bank.csv',sep=';')\n",
    "bank_df.head()"
   ]
  },
  {
   "cell_type": "markdown",
   "id": "1191f987-8e97-4ec6-91f7-4902ae6e6385",
   "metadata": {},
   "source": [
    "#### Converting any non-numeric values to numeric values."
   ]
  },
  {
   "cell_type": "code",
   "execution_count": 3,
   "id": "4e0725b3-02ea-4a88-8417-68b6a420e24a",
   "metadata": {},
   "outputs": [
    {
     "name": "stdout",
     "output_type": "stream",
     "text": [
      "<class 'pandas.core.frame.DataFrame'>\n",
      "RangeIndex: 4521 entries, 0 to 4520\n",
      "Data columns (total 17 columns):\n",
      " #   Column     Non-Null Count  Dtype \n",
      "---  ------     --------------  ----- \n",
      " 0   age        4521 non-null   int64 \n",
      " 1   job        4521 non-null   object\n",
      " 2   marital    4521 non-null   object\n",
      " 3   education  4521 non-null   object\n",
      " 4   default    4521 non-null   object\n",
      " 5   balance    4521 non-null   int64 \n",
      " 6   housing    4521 non-null   object\n",
      " 7   loan       4521 non-null   object\n",
      " 8   contact    4521 non-null   object\n",
      " 9   day        4521 non-null   int64 \n",
      " 10  month      4521 non-null   object\n",
      " 11  duration   4521 non-null   int64 \n",
      " 12  campaign   4521 non-null   int64 \n",
      " 13  pdays      4521 non-null   int64 \n",
      " 14  previous   4521 non-null   int64 \n",
      " 15  poutcome   4521 non-null   object\n",
      " 16  y          4521 non-null   object\n",
      "dtypes: int64(7), object(10)\n",
      "memory usage: 600.6+ KB\n"
     ]
    }
   ],
   "source": [
    "#Checking if we have any non numeric columns in our dataset\n",
    "bank_df.info()"
   ]
  },
  {
   "cell_type": "code",
   "execution_count": 4,
   "id": "bb1571c7-9f85-4d6f-93a2-e1f50a43f5f0",
   "metadata": {},
   "outputs": [
    {
     "data": {
      "text/html": [
       "<div>\n",
       "<style scoped>\n",
       "    .dataframe tbody tr th:only-of-type {\n",
       "        vertical-align: middle;\n",
       "    }\n",
       "\n",
       "    .dataframe tbody tr th {\n",
       "        vertical-align: top;\n",
       "    }\n",
       "\n",
       "    .dataframe thead th {\n",
       "        text-align: right;\n",
       "    }\n",
       "</style>\n",
       "<table border=\"1\" class=\"dataframe\">\n",
       "  <thead>\n",
       "    <tr style=\"text-align: right;\">\n",
       "      <th></th>\n",
       "      <th>age</th>\n",
       "      <th>job</th>\n",
       "      <th>marital</th>\n",
       "      <th>education</th>\n",
       "      <th>default</th>\n",
       "      <th>balance</th>\n",
       "      <th>housing</th>\n",
       "      <th>loan</th>\n",
       "      <th>contact</th>\n",
       "      <th>day</th>\n",
       "      <th>month</th>\n",
       "      <th>duration</th>\n",
       "      <th>campaign</th>\n",
       "      <th>pdays</th>\n",
       "      <th>previous</th>\n",
       "      <th>poutcome</th>\n",
       "      <th>y</th>\n",
       "    </tr>\n",
       "  </thead>\n",
       "  <tbody>\n",
       "    <tr>\n",
       "      <th>0</th>\n",
       "      <td>30</td>\n",
       "      <td>unemployed</td>\n",
       "      <td>married</td>\n",
       "      <td>primary</td>\n",
       "      <td>no</td>\n",
       "      <td>1787</td>\n",
       "      <td>no</td>\n",
       "      <td>no</td>\n",
       "      <td>cellular</td>\n",
       "      <td>19</td>\n",
       "      <td>oct</td>\n",
       "      <td>79</td>\n",
       "      <td>1</td>\n",
       "      <td>-1</td>\n",
       "      <td>0</td>\n",
       "      <td>unknown</td>\n",
       "      <td>0</td>\n",
       "    </tr>\n",
       "    <tr>\n",
       "      <th>1</th>\n",
       "      <td>33</td>\n",
       "      <td>services</td>\n",
       "      <td>married</td>\n",
       "      <td>secondary</td>\n",
       "      <td>no</td>\n",
       "      <td>4789</td>\n",
       "      <td>yes</td>\n",
       "      <td>yes</td>\n",
       "      <td>cellular</td>\n",
       "      <td>11</td>\n",
       "      <td>may</td>\n",
       "      <td>220</td>\n",
       "      <td>1</td>\n",
       "      <td>339</td>\n",
       "      <td>4</td>\n",
       "      <td>failure</td>\n",
       "      <td>0</td>\n",
       "    </tr>\n",
       "    <tr>\n",
       "      <th>2</th>\n",
       "      <td>35</td>\n",
       "      <td>management</td>\n",
       "      <td>single</td>\n",
       "      <td>tertiary</td>\n",
       "      <td>no</td>\n",
       "      <td>1350</td>\n",
       "      <td>yes</td>\n",
       "      <td>no</td>\n",
       "      <td>cellular</td>\n",
       "      <td>16</td>\n",
       "      <td>apr</td>\n",
       "      <td>185</td>\n",
       "      <td>1</td>\n",
       "      <td>330</td>\n",
       "      <td>1</td>\n",
       "      <td>failure</td>\n",
       "      <td>0</td>\n",
       "    </tr>\n",
       "    <tr>\n",
       "      <th>3</th>\n",
       "      <td>30</td>\n",
       "      <td>management</td>\n",
       "      <td>married</td>\n",
       "      <td>tertiary</td>\n",
       "      <td>no</td>\n",
       "      <td>1476</td>\n",
       "      <td>yes</td>\n",
       "      <td>yes</td>\n",
       "      <td>unknown</td>\n",
       "      <td>3</td>\n",
       "      <td>jun</td>\n",
       "      <td>199</td>\n",
       "      <td>4</td>\n",
       "      <td>-1</td>\n",
       "      <td>0</td>\n",
       "      <td>unknown</td>\n",
       "      <td>0</td>\n",
       "    </tr>\n",
       "    <tr>\n",
       "      <th>4</th>\n",
       "      <td>59</td>\n",
       "      <td>blue-collar</td>\n",
       "      <td>married</td>\n",
       "      <td>secondary</td>\n",
       "      <td>no</td>\n",
       "      <td>0</td>\n",
       "      <td>yes</td>\n",
       "      <td>no</td>\n",
       "      <td>unknown</td>\n",
       "      <td>5</td>\n",
       "      <td>may</td>\n",
       "      <td>226</td>\n",
       "      <td>1</td>\n",
       "      <td>-1</td>\n",
       "      <td>0</td>\n",
       "      <td>unknown</td>\n",
       "      <td>0</td>\n",
       "    </tr>\n",
       "  </tbody>\n",
       "</table>\n",
       "</div>"
      ],
      "text/plain": [
       "   age          job  marital  education default  balance housing loan  \\\n",
       "0   30   unemployed  married    primary      no     1787      no   no   \n",
       "1   33     services  married  secondary      no     4789     yes  yes   \n",
       "2   35   management   single   tertiary      no     1350     yes   no   \n",
       "3   30   management  married   tertiary      no     1476     yes  yes   \n",
       "4   59  blue-collar  married  secondary      no        0     yes   no   \n",
       "\n",
       "    contact  day month  duration  campaign  pdays  previous poutcome  y  \n",
       "0  cellular   19   oct        79         1     -1         0  unknown  0  \n",
       "1  cellular   11   may       220         1    339         4  failure  0  \n",
       "2  cellular   16   apr       185         1    330         1  failure  0  \n",
       "3   unknown    3   jun       199         4     -1         0  unknown  0  \n",
       "4   unknown    5   may       226         1     -1         0  unknown  0  "
      ]
     },
     "execution_count": 4,
     "metadata": {},
     "output_type": "execute_result"
    }
   ],
   "source": [
    "#Converting the y column to numeric column using label transformation\n",
    "bank_df.loc[:,'y'] = pd.factorize(bank_df['y'])[0].reshape(-1,1)\n",
    "bank_df.head()"
   ]
  },
  {
   "cell_type": "raw",
   "id": "a163d693-fda4-4706-9cbe-4c4d48b27b3e",
   "metadata": {},
   "source": [
    "The Reason why I used Label transformation for the y column is because first y is our label/target column and it can have only two specified values i.e. Yes and No.So it is good approach to map each class to specific number, in this case 0 and 1"
   ]
  },
  {
   "cell_type": "code",
   "execution_count": 5,
   "id": "17cc1375-fc4b-4a26-85b9-acd90f1f8fbc",
   "metadata": {},
   "outputs": [
    {
     "data": {
      "text/html": [
       "<div>\n",
       "<style scoped>\n",
       "    .dataframe tbody tr th:only-of-type {\n",
       "        vertical-align: middle;\n",
       "    }\n",
       "\n",
       "    .dataframe tbody tr th {\n",
       "        vertical-align: top;\n",
       "    }\n",
       "\n",
       "    .dataframe thead th {\n",
       "        text-align: right;\n",
       "    }\n",
       "</style>\n",
       "<table border=\"1\" class=\"dataframe\">\n",
       "  <thead>\n",
       "    <tr style=\"text-align: right;\">\n",
       "      <th></th>\n",
       "      <th>age</th>\n",
       "      <th>balance</th>\n",
       "      <th>day</th>\n",
       "      <th>duration</th>\n",
       "      <th>campaign</th>\n",
       "      <th>pdays</th>\n",
       "      <th>previous</th>\n",
       "      <th>y</th>\n",
       "      <th>job_admin.</th>\n",
       "      <th>job_blue-collar</th>\n",
       "      <th>...</th>\n",
       "      <th>month_jun</th>\n",
       "      <th>month_mar</th>\n",
       "      <th>month_may</th>\n",
       "      <th>month_nov</th>\n",
       "      <th>month_oct</th>\n",
       "      <th>month_sep</th>\n",
       "      <th>poutcome_failure</th>\n",
       "      <th>poutcome_other</th>\n",
       "      <th>poutcome_success</th>\n",
       "      <th>poutcome_unknown</th>\n",
       "    </tr>\n",
       "  </thead>\n",
       "  <tbody>\n",
       "    <tr>\n",
       "      <th>0</th>\n",
       "      <td>30</td>\n",
       "      <td>1787</td>\n",
       "      <td>19</td>\n",
       "      <td>79</td>\n",
       "      <td>1</td>\n",
       "      <td>-1</td>\n",
       "      <td>0</td>\n",
       "      <td>0</td>\n",
       "      <td>0</td>\n",
       "      <td>0</td>\n",
       "      <td>...</td>\n",
       "      <td>0</td>\n",
       "      <td>0</td>\n",
       "      <td>0</td>\n",
       "      <td>0</td>\n",
       "      <td>1</td>\n",
       "      <td>0</td>\n",
       "      <td>0</td>\n",
       "      <td>0</td>\n",
       "      <td>0</td>\n",
       "      <td>1</td>\n",
       "    </tr>\n",
       "    <tr>\n",
       "      <th>1</th>\n",
       "      <td>33</td>\n",
       "      <td>4789</td>\n",
       "      <td>11</td>\n",
       "      <td>220</td>\n",
       "      <td>1</td>\n",
       "      <td>339</td>\n",
       "      <td>4</td>\n",
       "      <td>0</td>\n",
       "      <td>0</td>\n",
       "      <td>0</td>\n",
       "      <td>...</td>\n",
       "      <td>0</td>\n",
       "      <td>0</td>\n",
       "      <td>1</td>\n",
       "      <td>0</td>\n",
       "      <td>0</td>\n",
       "      <td>0</td>\n",
       "      <td>1</td>\n",
       "      <td>0</td>\n",
       "      <td>0</td>\n",
       "      <td>0</td>\n",
       "    </tr>\n",
       "    <tr>\n",
       "      <th>2</th>\n",
       "      <td>35</td>\n",
       "      <td>1350</td>\n",
       "      <td>16</td>\n",
       "      <td>185</td>\n",
       "      <td>1</td>\n",
       "      <td>330</td>\n",
       "      <td>1</td>\n",
       "      <td>0</td>\n",
       "      <td>0</td>\n",
       "      <td>0</td>\n",
       "      <td>...</td>\n",
       "      <td>0</td>\n",
       "      <td>0</td>\n",
       "      <td>0</td>\n",
       "      <td>0</td>\n",
       "      <td>0</td>\n",
       "      <td>0</td>\n",
       "      <td>1</td>\n",
       "      <td>0</td>\n",
       "      <td>0</td>\n",
       "      <td>0</td>\n",
       "    </tr>\n",
       "    <tr>\n",
       "      <th>3</th>\n",
       "      <td>30</td>\n",
       "      <td>1476</td>\n",
       "      <td>3</td>\n",
       "      <td>199</td>\n",
       "      <td>4</td>\n",
       "      <td>-1</td>\n",
       "      <td>0</td>\n",
       "      <td>0</td>\n",
       "      <td>0</td>\n",
       "      <td>0</td>\n",
       "      <td>...</td>\n",
       "      <td>1</td>\n",
       "      <td>0</td>\n",
       "      <td>0</td>\n",
       "      <td>0</td>\n",
       "      <td>0</td>\n",
       "      <td>0</td>\n",
       "      <td>0</td>\n",
       "      <td>0</td>\n",
       "      <td>0</td>\n",
       "      <td>1</td>\n",
       "    </tr>\n",
       "    <tr>\n",
       "      <th>4</th>\n",
       "      <td>59</td>\n",
       "      <td>0</td>\n",
       "      <td>5</td>\n",
       "      <td>226</td>\n",
       "      <td>1</td>\n",
       "      <td>-1</td>\n",
       "      <td>0</td>\n",
       "      <td>0</td>\n",
       "      <td>0</td>\n",
       "      <td>1</td>\n",
       "      <td>...</td>\n",
       "      <td>0</td>\n",
       "      <td>0</td>\n",
       "      <td>1</td>\n",
       "      <td>0</td>\n",
       "      <td>0</td>\n",
       "      <td>0</td>\n",
       "      <td>0</td>\n",
       "      <td>0</td>\n",
       "      <td>0</td>\n",
       "      <td>1</td>\n",
       "    </tr>\n",
       "  </tbody>\n",
       "</table>\n",
       "<p>5 rows × 52 columns</p>\n",
       "</div>"
      ],
      "text/plain": [
       "   age  balance  day  duration  campaign  pdays  previous  y  job_admin.  \\\n",
       "0   30     1787   19        79         1     -1         0  0           0   \n",
       "1   33     4789   11       220         1    339         4  0           0   \n",
       "2   35     1350   16       185         1    330         1  0           0   \n",
       "3   30     1476    3       199         4     -1         0  0           0   \n",
       "4   59        0    5       226         1     -1         0  0           0   \n",
       "\n",
       "   job_blue-collar  ...  month_jun  month_mar  month_may  month_nov  \\\n",
       "0                0  ...          0          0          0          0   \n",
       "1                0  ...          0          0          1          0   \n",
       "2                0  ...          0          0          0          0   \n",
       "3                0  ...          1          0          0          0   \n",
       "4                1  ...          0          0          1          0   \n",
       "\n",
       "   month_oct  month_sep  poutcome_failure  poutcome_other  poutcome_success  \\\n",
       "0          1          0                 0               0                 0   \n",
       "1          0          0                 1               0                 0   \n",
       "2          0          0                 1               0                 0   \n",
       "3          0          0                 0               0                 0   \n",
       "4          0          0                 0               0                 0   \n",
       "\n",
       "   poutcome_unknown  \n",
       "0                 1  \n",
       "1                 0  \n",
       "2                 0  \n",
       "3                 1  \n",
       "4                 1  \n",
       "\n",
       "[5 rows x 52 columns]"
      ]
     },
     "execution_count": 5,
     "metadata": {},
     "output_type": "execute_result"
    }
   ],
   "source": [
    "#Converting non numeric columns and except y to numeric column using Hot one encoding\n",
    "bank_df_encoded = pd.get_dummies(bank_df,columns=['job','marital','education','default','housing','loan','contact','month','poutcome'])\n",
    "bank_df_encoded.head()"
   ]
  },
  {
   "cell_type": "raw",
   "id": "0c1a61a6-b755-4c17-8972-b0325a93e23a",
   "metadata": {},
   "source": [
    "From the Dataframe Info we get to know that some columns are non numeric, so I am using Hot one encoding to transform these columns into multiple numeric columns so that we can train our model more easily."
   ]
  },
  {
   "cell_type": "markdown",
   "id": "52923ee1-e252-4730-bfdb-b1f9413f8e62",
   "metadata": {},
   "source": [
    "#### If required droping out the rows with missing values or NA."
   ]
  },
  {
   "cell_type": "code",
   "execution_count": 6,
   "id": "568f0687-a21e-4c0c-9047-0b1a3793ac89",
   "metadata": {},
   "outputs": [
    {
     "name": "stdout",
     "output_type": "stream",
     "text": [
      "Is there any NA or NULL values in Bank Dataset: False\n",
      "\n",
      "age                    0\n",
      "balance                0\n",
      "day                    0\n",
      "duration               0\n",
      "campaign               0\n",
      "pdays                  0\n",
      "previous               0\n",
      "y                      0\n",
      "job_admin.             0\n",
      "job_blue-collar        0\n",
      "job_entrepreneur       0\n",
      "job_housemaid          0\n",
      "job_management         0\n",
      "job_retired            0\n",
      "job_self-employed      0\n",
      "job_services           0\n",
      "job_student            0\n",
      "job_technician         0\n",
      "job_unemployed         0\n",
      "job_unknown            0\n",
      "marital_divorced       0\n",
      "marital_married        0\n",
      "marital_single         0\n",
      "education_primary      0\n",
      "education_secondary    0\n",
      "education_tertiary     0\n",
      "education_unknown      0\n",
      "default_no             0\n",
      "default_yes            0\n",
      "housing_no             0\n",
      "housing_yes            0\n",
      "loan_no                0\n",
      "loan_yes               0\n",
      "contact_cellular       0\n",
      "contact_telephone      0\n",
      "contact_unknown        0\n",
      "month_apr              0\n",
      "month_aug              0\n",
      "month_dec              0\n",
      "month_feb              0\n",
      "month_jan              0\n",
      "month_jul              0\n",
      "month_jun              0\n",
      "month_mar              0\n",
      "month_may              0\n",
      "month_nov              0\n",
      "month_oct              0\n",
      "month_sep              0\n",
      "poutcome_failure       0\n",
      "poutcome_other         0\n",
      "poutcome_success       0\n",
      "poutcome_unknown       0\n",
      "dtype: int64\n"
     ]
    }
   ],
   "source": [
    "#Checking if any column has NA or NULL values\n",
    "print('Is there any NA or NULL values in Bank Dataset: {}\\n'.format(bank_df_encoded.isnull().values.any()))\n",
    "print(bank_df_encoded.isnull().sum())"
   ]
  },
  {
   "cell_type": "raw",
   "id": "1719948d-7845-4226-a24b-17fa679d10dc",
   "metadata": {},
   "source": [
    "We can see that, there are No NULL and NA values in Bank Dataset"
   ]
  },
  {
   "cell_type": "markdown",
   "id": "62088654-1e2d-4e32-9993-d381414a33b4",
   "metadata": {},
   "source": [
    "#### Split the data into a train/test splits according to the ratios 80%:20% AND Normalize (Standardize) the data"
   ]
  },
  {
   "cell_type": "markdown",
   "id": "19317e21-2160-47bf-b386-322c1e5d45e5",
   "metadata": {},
   "source": [
    "###### First Randomizing our dataset Dataframe"
   ]
  },
  {
   "cell_type": "code",
   "execution_count": 7,
   "id": "8b6dfa9a-f195-4625-9c60-d7d1a151688c",
   "metadata": {},
   "outputs": [],
   "source": [
    "#Initalizing our Random seed so that our results are consistent\n",
    "random_seed = 3116"
   ]
  },
  {
   "cell_type": "code",
   "execution_count": 8,
   "id": "1a0cb903-3107-446e-86b2-9bef383c0c94",
   "metadata": {},
   "outputs": [],
   "source": [
    "#Shuffling the rows randomly in the dataframe to make data Randomized\n",
    "bank_df_encoded = bank_df_encoded.sample(frac=1,random_state = random_seed).reset_index(drop = True)"
   ]
  },
  {
   "cell_type": "markdown",
   "id": "8a76da7e-66f9-49bc-9e06-408f8483703a",
   "metadata": {},
   "source": [
    "###### Splitting Dataset into X matrix and Y vector"
   ]
  },
  {
   "cell_type": "code",
   "execution_count": 9,
   "id": "f296b42b-b8be-40b0-9a8f-bfb48e4352cc",
   "metadata": {},
   "outputs": [],
   "source": [
    "#Creating X matrix by removing the label/Target column\n",
    "X = bank_df_encoded.drop('y',axis=1)\n",
    "\n",
    "#Creating Y vector which include only the Label/Target Column\n",
    "Y = bank_df_encoded['y'].to_numpy()"
   ]
  },
  {
   "cell_type": "markdown",
   "id": "f1b3edd0-aeb9-4e0b-ac4e-e7d90e79a393",
   "metadata": {},
   "source": [
    "###### Normalizing our Dataset features"
   ]
  },
  {
   "cell_type": "code",
   "execution_count": 10,
   "id": "dc1db87e-ceea-443d-bb63-d9d5f3aeaedd",
   "metadata": {},
   "outputs": [],
   "source": [
    "#For each column value, its value is subtracted from the mean of the column and then is divided by the standard deviation of that column\n",
    "X = (X - X.mean())/X.std()"
   ]
  },
  {
   "cell_type": "markdown",
   "id": "e48f2108-f171-4db2-95ed-c691ce334820",
   "metadata": {},
   "source": [
    "###### Adding a Bias column to our feature dataset"
   ]
  },
  {
   "cell_type": "code",
   "execution_count": 11,
   "id": "3137808e-fcb5-4990-b850-3680b82868b4",
   "metadata": {},
   "outputs": [],
   "source": [
    "#Adding a Bias Column in the X Matrix\n",
    "X = np.append(np.ones(shape=(len(X),1)),X,axis=1)"
   ]
  },
  {
   "cell_type": "markdown",
   "id": "ef7677aa-a9a9-4964-b85a-036501a23d6e",
   "metadata": {},
   "source": [
    "###### Splitting our X matrix and Y vector into Training set and Test Set"
   ]
  },
  {
   "cell_type": "code",
   "execution_count": 12,
   "id": "cc20e0e1-504d-42c1-9e73-c90df971da34",
   "metadata": {},
   "outputs": [],
   "source": [
    "#Calculating number of rows to be copied in the Training Set according to specific ratio\n",
    "total_training_rows = int(len(X)*0.8)"
   ]
  },
  {
   "cell_type": "code",
   "execution_count": 13,
   "id": "fea6b077-afa7-4984-a52b-ee63238a2dc2",
   "metadata": {},
   "outputs": [],
   "source": [
    "#Splitting the Dataset into Training set based on calculated rows\n",
    "X_train, Y_train = X[:total_training_rows,:], Y[:total_training_rows].reshape(-1,1)"
   ]
  },
  {
   "cell_type": "code",
   "execution_count": 14,
   "id": "ab25b168-1572-4acd-8090-3e988e861e2a",
   "metadata": {},
   "outputs": [],
   "source": [
    "#Splitting the Dataset into Test Set based on calculated rows\n",
    "X_test, Y_test = X[total_training_rows:,:], Y[total_training_rows:].reshape(-1,1)"
   ]
  },
  {
   "cell_type": "markdown",
   "id": "a17a4a1f-a870-4253-8478-8593145732a7",
   "metadata": {},
   "source": [
    "#### Implementing logistic regression and mini-batch Gradient Ascent."
   ]
  },
  {
   "cell_type": "code",
   "execution_count": 15,
   "id": "3953d2a6-3290-43cc-9811-0645f704a46c",
   "metadata": {},
   "outputs": [],
   "source": [
    "#Initializing arrays to store loss difference and Log loss values in different number of Iterations\n",
    "loss_difference_values = np.array([])\n",
    "logloss_values = np.array([])\n",
    "\n",
    "#Initializing batch size variable\n",
    "batch_size = 32"
   ]
  },
  {
   "cell_type": "markdown",
   "id": "63ab27b0-f327-4247-984e-4fa5d4e5d21c",
   "metadata": {},
   "source": [
    "##### Function to calculate the sigmoid of the given vector"
   ]
  },
  {
   "cell_type": "code",
   "execution_count": 16,
   "id": "8e44f2cf-a94a-4a14-977f-7fc4fce6457b",
   "metadata": {},
   "outputs": [],
   "source": [
    "def sigmoid_function(x):\n",
    "    # sigmoid(x) = 1 / (1 + e^-x)\n",
    "    return (1 / (1 + np.exp(np.negative(x))))"
   ]
  },
  {
   "cell_type": "markdown",
   "id": "863a7315-8adb-4706-b7db-297286835d4f",
   "metadata": {},
   "source": [
    "##### Function to calculate the Loglikelihood Loss"
   ]
  },
  {
   "cell_type": "code",
   "execution_count": 17,
   "id": "01364104-b284-42ae-a8f0-e48857547fbe",
   "metadata": {},
   "outputs": [],
   "source": [
    "def loglikelihood_loss(X,Y,B):\n",
    "    # L = summation((Y - Y_pred) - log(1 + e^Y_pred))\n",
    "    return np.sum((Y * sigmoid_function(X @ B)) - np.log(1 + np.exp(sigmoid_function(X @ B))))"
   ]
  },
  {
   "cell_type": "markdown",
   "id": "52de9d5b-b6c6-4a4e-a899-7556cf7bc8f0",
   "metadata": {},
   "source": [
    "##### Function to calculate the Loglikelihood loss difference between current Beta and previous Beta"
   ]
  },
  {
   "cell_type": "code",
   "execution_count": 18,
   "id": "e3c450a0-04a6-48d3-89c6-fc7aad68184e",
   "metadata": {},
   "outputs": [],
   "source": [
    "def loss_difference(X,Y,B_old,B_new):\n",
    "    # |L(B_old) - L(B_new)|\n",
    "    return np.abs(loglikelihood_loss(X,Y,B_old) - loglikelihood_loss(X,Y,B_new))"
   ]
  },
  {
   "cell_type": "markdown",
   "id": "9b8522ff-367a-4526-b423-7f2b8f29d4a2",
   "metadata": {},
   "source": [
    "##### Function which returns the gradient of Loss function"
   ]
  },
  {
   "cell_type": "code",
   "execution_count": 19,
   "id": "6b827d7a-f6db-4d1b-a1ff-ebbcb80d3d65",
   "metadata": {},
   "outputs": [],
   "source": [
    "def dL(X,Y,B):\n",
    "    # Derivative of Loss = X^T * (Y - Y_pred)\n",
    "    return X.T @ (np.subtract(Y,sigmoid_function(X @ B)))"
   ]
  },
  {
   "cell_type": "markdown",
   "id": "29c07905-4685-4b36-b4c4-8cabb4b10faa",
   "metadata": {},
   "source": [
    "##### Function to create Mini Batches with specific Batch size"
   ]
  },
  {
   "cell_type": "code",
   "execution_count": 20,
   "id": "1f942a47-4161-4f58-8b29-9bf8a7c8967b",
   "metadata": {},
   "outputs": [],
   "source": [
    "def create_mini_batches(X, Y, batch_size):\n",
    "    #Initializing an array to hold created mini batches\n",
    "    batches = []\n",
    "    \n",
    "    #Calculating total number of mini batches to be created based on batch size\n",
    "    number_of_batches = int(len(X)/batch_size)\n",
    "    \n",
    "    #Iteratively creating mini X matrix and mini Y vector and appending it our batches array\n",
    "    for i in range(number_of_batches):\n",
    "        mini_X, mini_Y = X[i*batch_size:(i*batch_size)+batch_size,:], Y[i*batch_size:(i*batch_size)+batch_size,:]\n",
    "        batches.append((mini_X,mini_Y))\n",
    "    \n",
    "    #Checking if total row count of X is not completely divisible by batch size, \n",
    "    #then creating the remaining small mini batch and appending in our batch array\n",
    "    if len(X) % batch_size != 0:\n",
    "        mini_X, mini_Y = X[i*batch_size:,:], Y[i*batch_size:,:]\n",
    "        batches.append((mini_X,mini_Y))\n",
    "    \n",
    "    #Returning our created mini batches array\n",
    "    return batches"
   ]
  },
  {
   "cell_type": "markdown",
   "id": "ca34bae1-3e41-4b2c-882e-230e310da962",
   "metadata": {},
   "source": [
    "##### Function to Maximize the Mini Batch Gradient Ascent based on Total Iterations and Learning Rate"
   ]
  },
  {
   "cell_type": "code",
   "execution_count": 21,
   "id": "edb468c9-c7c4-4d4a-b74f-20f61484ab5d",
   "metadata": {},
   "outputs": [],
   "source": [
    "def learn_logreg_mini_GA(X_train,Y_train,X_test,Y_test,imax,epsilon):\n",
    "    #Using global arrays to store loss difference and Log loss values for different Iterations\n",
    "    global loss_difference_values , logloss_values\n",
    "    \n",
    "    #Emptying both Loss difference and Log loss arrays\n",
    "    loss_difference_values , logloss_values = np.array([]) , np.array([])\n",
    "    \n",
    "    #Initializing beta vector with zeros\n",
    "    beta = np.zeros(shape=(len(X_train[0]),1))\n",
    "    \n",
    "    #Initializing initial mu value \n",
    "    mu = 0.001\n",
    "    \n",
    "    for i in range(imax):\n",
    "        #Creating Mini batches to run mini batch gradient ascent\n",
    "        mini_batches = create_mini_batches(X_train,Y_train,batch_size)\n",
    "        \n",
    "        old_beta = np.copy(beta)\n",
    "        \n",
    "        for mini_X, mini_Y in mini_batches:\n",
    "            \n",
    "            #Calculating new Beta values from previous beta values and gradient ascent direction\n",
    "            #Beta = Beta + learning_rate * gradient ascent based on Beta\n",
    "            beta_ = beta + (mu * dL(mini_X,mini_Y,beta))\n",
    "\n",
    "             #Appending Loss difference between between previous and new Beta\n",
    "            loss_difference_values = np.append(loss_difference_values,loss_difference(mini_X,mini_Y,beta,beta_))\n",
    "            \n",
    "            #Copying new Beta value to old Beta value for Further Calculation\n",
    "            beta = np.copy(beta_)\n",
    "\n",
    "        #Appending RMSE loss between actual Y and Predicted Y\n",
    "        logloss_values = np.append(logloss_values,loglikelihood_loss(X_test,Y_test,beta_))\n",
    "        \n",
    "        #Checking the Stopping Condition by comparing loss on previous and current beta\n",
    "        if loglikelihood_loss(X_train,Y_train,beta_) - loglikelihood_loss(X_train,Y_train,old_beta) < epsilon:\n",
    "            return beta_\n",
    "    \n",
    "    #Returning the Optimal Beta vector\n",
    "    return beta_"
   ]
  },
  {
   "cell_type": "markdown",
   "id": "301fd54e-35c3-445e-b9c2-d6598e39320f",
   "metadata": {},
   "source": [
    "##### Calculating new Beta values using Mini batch gradient ascent function and 1000 iterations"
   ]
  },
  {
   "cell_type": "code",
   "execution_count": 22,
   "id": "94ed71af-1aaa-401e-af0f-9d23dc7066d0",
   "metadata": {},
   "outputs": [],
   "source": [
    "beta = learn_logreg_mini_GA(X_train,Y_train,X_test,Y_test,1000,10**-10)"
   ]
  },
  {
   "cell_type": "markdown",
   "id": "eac351fb-dfaf-4806-97ff-a08e67967387",
   "metadata": {},
   "source": [
    "##### Plotting Loss difference and Log loss after Mini Batch Gradient Ascent"
   ]
  },
  {
   "cell_type": "markdown",
   "id": "32faa92d-a989-454c-99e3-2c17e29a5f33",
   "metadata": {},
   "source": [
    "###### Graph of Loss Difference"
   ]
  },
  {
   "cell_type": "code",
   "execution_count": 23,
   "id": "de750956-3a45-494b-802f-6dd5d30c0649",
   "metadata": {},
   "outputs": [
    {
     "data": {
      "text/plain": [
       "Text(0, 0.5, 'Loss Difference')"
      ]
     },
     "execution_count": 23,
     "metadata": {},
     "output_type": "execute_result"
    },
    {
     "data": {
      "image/png": "[encoded data removed]",
      "text/plain": [
       "<Figure size 1080x360 with 1 Axes>"
      ]
     },
     "metadata": {
      "needs_background": "light"
     },
     "output_type": "display_data"
    }
   ],
   "source": [
    "fig = plt.figure(figsize=(15,5))\n",
    "ax = fig.add_subplot(111)\n",
    "ax.plot([i for i in range(len(loss_difference_values))],loss_difference_values)\n",
    "ax.set_title('Graph of Loss Difference |f(xi−1)−f(xi)| with Respect to 1000 Iterations')\n",
    "ax.set_xlabel('Number of Iterations')\n",
    "ax.set_ylabel('Loss Difference')"
   ]
  },
  {
   "cell_type": "raw",
   "id": "38d94a74-1a1a-4f31-8bee-a8f7c1feea24",
   "metadata": {},
   "source": [
    "The above graph shows that our loss difference is decreasing as the number of iterations are increased."
   ]
  },
  {
   "cell_type": "markdown",
   "id": "06ecf159-d8a1-4cc7-babe-33e6ccd65f7e",
   "metadata": {},
   "source": [
    "###### Graph of Log Loss"
   ]
  },
  {
   "cell_type": "code",
   "execution_count": 24,
   "id": "7fb06c06-4d50-49f1-959e-84e0196c1753",
   "metadata": {},
   "outputs": [
    {
     "data": {
      "text/plain": [
       "Text(0, 0.5, 'Loglikelihood Loss')"
      ]
     },
     "execution_count": 24,
     "metadata": {},
     "output_type": "execute_result"
    },
    {
     "data": {
      "image/png": "[encoded data removed]",
      "text/plain": [
       "<Figure size 1080x360 with 1 Axes>"
      ]
     },
     "metadata": {
      "needs_background": "light"
     },
     "output_type": "display_data"
    }
   ],
   "source": [
    "fig = plt.figure(figsize=(15,5))\n",
    "ax = fig.add_subplot(111)\n",
    "ax.plot([i for i in range(len(logloss_values))],logloss_values)\n",
    "ax.set_title('Graph of Loglikelihood loss with Respect to 1000 Iterations')\n",
    "ax.set_xlabel('Number of Iterations')\n",
    "ax.set_ylabel('Loglikelihood Loss')"
   ]
  },
  {
   "cell_type": "raw",
   "id": "8f838617-44fb-4ef1-9a5c-ccd3eeeb666d",
   "metadata": {},
   "source": [
    "This graph is also showing that our loglikelihood loss is increasing as the number of iterations are increased.The Log loss is increasing not decreasing because its uses gradient ascent and we are maximizing our output likelihood."
   ]
  },
  {
   "cell_type": "markdown",
   "id": "980208f4-cf6d-4087-b939-cf959fb31a87",
   "metadata": {},
   "source": [
    "#### Keeping the hyperparameters of learning rate and batch size fixed (good guesses) and iteratively doing backward selection keeping track of the AIC metric."
   ]
  },
  {
   "cell_type": "markdown",
   "id": "d97eb65d-fbfa-45b4-aa86-fc1f2d55b319",
   "metadata": {},
   "source": [
    "##### Function to calculate the AIC metric for the given Dataset"
   ]
  },
  {
   "cell_type": "code",
   "execution_count": 25,
   "id": "2fe0e66f-c4da-4e86-8a31-837c75160171",
   "metadata": {},
   "outputs": [],
   "source": [
    "def AIC(X,Y,B,P):\n",
    "    # AIC = -2logL + 2P\n",
    "    return (-2 * loglikelihood_loss(X,Y,B)) + (2 * P)"
   ]
  },
  {
   "cell_type": "markdown",
   "id": "31d41782-d73b-4654-a93e-102b426144ee",
   "metadata": {},
   "source": [
    "##### Function to perform Backward Search for Selecting Features which gives minimum AIC"
   ]
  },
  {
   "cell_type": "code",
   "execution_count": 26,
   "id": "ad17829f-755f-499a-aa5f-1e79e0a3e2f8",
   "metadata": {},
   "outputs": [],
   "source": [
    "def backward_search(X_train,Y_train,X_test,Y_test):\n",
    "    #Initializing an array containing all the columns of training dataset\n",
    "    V_used = np.array([i for i in range(len(X[0]))])\n",
    "    \n",
    "    #Iterate until we see some improvement in our AIC metric\n",
    "    improvement = True\n",
    "    while improvement:\n",
    "        #Calculating beta using all features in V_used\n",
    "        beta_used = learn_logreg_mini_GA(X_train[:,V_used],Y_train,X_test[:,V_used],Y_test,10,10**-10)\n",
    "        \n",
    "        #variable to store best gain/improvement\n",
    "        gain_best = AIC(X_train[:,V_used],Y_train,beta_used,len(V_used))\n",
    "        \n",
    "        #Initializing variable to store feature which have to be removed after following iteration\n",
    "        v_best = None\n",
    "        \n",
    "        #Iterating over all the features in our dataset\n",
    "        for v in V_used:\n",
    "            #Removing selected feature from the V_used array\n",
    "            V_used_v = np.delete(V_used,np.where(V_used == v)[0][0])\n",
    "            \n",
    "            #Calculating beta using all features in V_used except selected feature v\n",
    "            beta_used_v = learn_logreg_mini_GA(X_train[:,V_used_v],Y_train,X_test[:,V_used_v],Y_test,10,10**-10)\n",
    "            \n",
    "            #Calculating the AIC after removing that specific feature from V_used\n",
    "            gain = AIC(X_train[:,V_used_v],Y_train,beta_used_v,len(V_used_v))\n",
    "            \n",
    "            #Checking if our new calculated gain is better then our best gain, if so replacing it with our new gain\n",
    "            if gain < gain_best:\n",
    "                gain_best = gain\n",
    "                v_best = v\n",
    "                \n",
    "        #Setting improvement to True if our gain is greater than 0\n",
    "        improvement = v_best != None\n",
    "        \n",
    "        #If there is a improvement in our model than removing that feature from our V_used array\n",
    "        if improvement:\n",
    "            print('Removing the feature with Index: {}'.format(v_best))\n",
    "            \n",
    "            print('AIC before removing the feature: {}'.format(\n",
    "                AIC(X_train[:,V_used],Y_train,learn_logreg_mini_GA(X_train[:,V_used],Y_train,X_test[:,V_used],Y_test,10,10**-10),len(V_used))))\n",
    "            \n",
    "            #Removing the Feature which is decreasing our Model AIC\n",
    "            V_used = np.delete(V_used,np.where(V_used == v_best)[0][0]).astype(int)\n",
    "            \n",
    "            print('AIC after removing the feature: {}\\n'.format(\n",
    "                AIC(X_train[:,V_used],Y_train,learn_logreg_mini_GA(X_train[:,V_used],Y_train,X_test[:,V_used],Y_test,10,10**-10),len(V_used))))\n",
    "    \n",
    "    #Returning the final selected features for our model\n",
    "    return V_used"
   ]
  },
  {
   "cell_type": "code",
   "execution_count": 27,
   "id": "ce5004ea-c10c-4edc-9da0-39f1e7c3a999",
   "metadata": {},
   "outputs": [
    {
     "name": "stdout",
     "output_type": "stream",
     "text": [
      "Removing the feature with Index: 49\n",
      "AIC before removing the feature: 5288.76762831439\n",
      "AIC after removing the feature: 5286.60669811648\n",
      "\n",
      "Removing the feature with Index: 6\n",
      "AIC before removing the feature: 5286.60669811648\n",
      "AIC after removing the feature: 5284.514358696731\n",
      "\n",
      "Removing the feature with Index: 22\n",
      "AIC before removing the feature: 5284.514358696731\n",
      "AIC after removing the feature: 5282.429053890035\n",
      "\n",
      "Removing the feature with Index: 1\n",
      "AIC before removing the feature: 5282.429053890035\n",
      "AIC after removing the feature: 5280.343487170187\n",
      "\n",
      "Removing the feature with Index: 36\n",
      "AIC before removing the feature: 5280.343487170187\n",
      "AIC after removing the feature: 5278.291321333864\n",
      "\n",
      "Removing the feature with Index: 9\n",
      "AIC before removing the feature: 5278.291321333864\n",
      "AIC after removing the feature: 5276.253219127696\n",
      "\n",
      "Removing the feature with Index: 5\n",
      "AIC before removing the feature: 5276.253219127696\n",
      "AIC after removing the feature: 5274.222564724467\n",
      "\n",
      "Removing the feature with Index: 27\n",
      "AIC before removing the feature: 5274.222564724467\n",
      "AIC after removing the feature: 5272.19316867526\n",
      "\n",
      "Removing the feature with Index: 28\n",
      "AIC before removing the feature: 5272.19316867526\n",
      "AIC after removing the feature: 5270.165543202149\n",
      "\n",
      "Removing the feature with Index: 7\n",
      "AIC before removing the feature: 5270.165543202149\n",
      "AIC after removing the feature: 5268.140727752428\n",
      "\n",
      "Removing the feature with Index: 37\n",
      "AIC before removing the feature: 5268.140727752428\n",
      "AIC after removing the feature: 5266.122232764679\n",
      "\n",
      "Removing the feature with Index: 11\n",
      "AIC before removing the feature: 5266.122232764679\n",
      "AIC after removing the feature: 5264.123357876922\n",
      "\n",
      "Removing the feature with Index: 24\n",
      "AIC before removing the feature: 5264.123357876922\n",
      "AIC after removing the feature: 5262.142638247304\n",
      "\n",
      "Removing the feature with Index: 8\n",
      "AIC before removing the feature: 5262.142638247304\n",
      "AIC after removing the feature: 5260.162397114891\n",
      "\n",
      "Removing the feature with Index: 19\n",
      "AIC before removing the feature: 5260.162397114891\n",
      "AIC after removing the feature: 5258.197399301488\n",
      "\n",
      "Removing the feature with Index: 15\n",
      "AIC before removing the feature: 5258.197399301488\n",
      "AIC after removing the feature: 5256.246230836024\n",
      "\n",
      "Removing the feature with Index: 12\n",
      "AIC before removing the feature: 5256.246230836024\n",
      "AIC after removing the feature: 5254.303955550062\n",
      "\n",
      "Removing the feature with Index: 14\n",
      "AIC before removing the feature: 5254.303955550062\n",
      "AIC after removing the feature: 5252.367705406677\n",
      "\n",
      "Removing the feature with Index: 10\n",
      "AIC before removing the feature: 5252.367705406677\n",
      "AIC after removing the feature: 5250.443399702765\n",
      "\n",
      "Removing the feature with Index: 17\n",
      "AIC before removing the feature: 5250.443399702765\n",
      "AIC after removing the feature: 5248.511227348679\n",
      "\n",
      "Removing the feature with Index: 39\n",
      "AIC before removing the feature: 5248.511227348679\n",
      "AIC after removing the feature: 5246.590243731256\n",
      "\n",
      "Removing the feature with Index: 29\n",
      "AIC before removing the feature: 5246.590243731256\n",
      "AIC after removing the feature: 5244.693099475995\n",
      "\n",
      "Removing the feature with Index: 47\n",
      "AIC before removing the feature: 5244.693099475995\n",
      "AIC after removing the feature: 5242.8002246232845\n",
      "\n",
      "Removing the feature with Index: 18\n",
      "AIC before removing the feature: 5242.8002246232845\n",
      "AIC after removing the feature: 5240.942925257314\n",
      "\n",
      "Removing the feature with Index: 23\n",
      "AIC before removing the feature: 5240.942925257314\n",
      "AIC after removing the feature: 5239.085328387313\n",
      "\n",
      "Removing the feature with Index: 26\n",
      "AIC before removing the feature: 5239.085328387313\n",
      "AIC after removing the feature: 5237.225200585936\n",
      "\n",
      "Removing the feature with Index: 34\n",
      "AIC before removing the feature: 5237.225200585936\n",
      "AIC after removing the feature: 5235.370410370795\n",
      "\n",
      "Removing the feature with Index: 33\n",
      "AIC before removing the feature: 5235.370410370795\n",
      "AIC after removing the feature: 5233.4025170891255\n",
      "\n",
      "Removing the feature with Index: 31\n",
      "AIC before removing the feature: 5233.4025170891255\n",
      "AIC after removing the feature: 5231.571803168063\n",
      "\n",
      "Removing the feature with Index: 2\n",
      "AIC before removing the feature: 5231.571803168063\n",
      "AIC after removing the feature: 5229.748512967552\n",
      "\n",
      "Removing the feature with Index: 20\n",
      "AIC before removing the feature: 5229.748512967552\n",
      "AIC after removing the feature: 5227.995920921524\n",
      "\n",
      "Removing the feature with Index: 16\n",
      "AIC before removing the feature: 5227.995920921524\n",
      "AIC after removing the feature: 5226.247198988795\n",
      "\n",
      "Removing the feature with Index: 42\n",
      "AIC before removing the feature: 5226.247198988795\n",
      "AIC after removing the feature: 5224.566123455341\n",
      "\n",
      "Removing the feature with Index: 3\n",
      "AIC before removing the feature: 5224.566123455341\n",
      "AIC after removing the feature: 5223.003325809046\n",
      "\n",
      "Removing the feature with Index: 41\n",
      "AIC before removing the feature: 5223.003325809046\n",
      "AIC after removing the feature: 5221.482475859351\n",
      "\n",
      "Removing the feature with Index: 48\n",
      "AIC before removing the feature: 5221.482475859351\n",
      "AIC after removing the feature: 5219.930757472221\n",
      "\n",
      "Removing the feature with Index: 40\n",
      "AIC before removing the feature: 5219.930757472221\n",
      "AIC after removing the feature: 5218.393581194316\n",
      "\n",
      "Removing the feature with Index: 45\n",
      "AIC before removing the feature: 5218.393581194316\n",
      "AIC after removing the feature: 5216.892537544251\n",
      "\n",
      "Removing the feature with Index: 44\n",
      "AIC before removing the feature: 5216.892537544251\n",
      "AIC after removing the feature: 5215.649782561126\n",
      "\n",
      "Removing the feature with Index: 51\n",
      "AIC before removing the feature: 5215.649782561126\n",
      "AIC after removing the feature: 5214.323721357394\n",
      "\n",
      "Removing the feature with Index: 38\n",
      "AIC before removing the feature: 5214.323721357394\n",
      "AIC after removing the feature: 5213.335682356648\n",
      "\n",
      "Removing the feature with Index: 30\n",
      "AIC before removing the feature: 5213.335682356648\n",
      "AIC after removing the feature: 5212.548429381553\n",
      "\n",
      "Removing the feature with Index: 21\n",
      "AIC before removing the feature: 5212.548429381553\n",
      "AIC after removing the feature: 5211.9671996589295\n",
      "\n",
      "Removing the feature with Index: 32\n",
      "AIC before removing the feature: 5211.9671996589295\n",
      "AIC after removing the feature: 5211.7231079521725\n",
      "\n",
      "Removing the feature with Index: 13\n",
      "AIC before removing the feature: 5211.7231079521725\n",
      "AIC after removing the feature: 5211.638050853113\n",
      "\n"
     ]
    }
   ],
   "source": [
    "features_selected = backward_search(X_train,Y_train,X_test,Y_test)"
   ]
  },
  {
   "cell_type": "markdown",
   "id": "79a1fa4c-359a-432f-b1cf-4174df3358a9",
   "metadata": {},
   "source": [
    "#### Printing the selected Features"
   ]
  },
  {
   "cell_type": "code",
   "execution_count": 28,
   "id": "3e892d22-f304-41ef-b975-9a7747cd2d24",
   "metadata": {},
   "outputs": [
    {
     "name": "stdout",
     "output_type": "stream",
     "text": [
      "Features selected after Backward Search: \n",
      "['age' 'campaign' 'education_tertiary' 'contact_unknown' 'month_mar'\n",
      " 'month_oct' 'poutcome_success']\n"
     ]
    }
   ],
   "source": [
    "df_columns = np.array(bank_df_encoded.columns)\n",
    "print('Features selected after Backward Search: \\n{}'.format(df_columns[features_selected]))"
   ]
  },
  {
   "cell_type": "markdown",
   "id": "f7b93fd0-0409-4aa5-bd78-ca4435b6260c",
   "metadata": {},
   "source": [
    "#### Calculating new Beta values using Mini batch gradient ascent function with selected Features and 1000 iterations"
   ]
  },
  {
   "cell_type": "code",
   "execution_count": 29,
   "id": "d00152fe-6b73-45e3-91d2-efc66332ce4a",
   "metadata": {},
   "outputs": [],
   "source": [
    "beta = learn_logreg_mini_GA(X_train[:,features_selected],Y_train,X_test[:,features_selected],Y_test,1000,10**-10)"
   ]
  },
  {
   "cell_type": "markdown",
   "id": "a1f192a3-43e9-46e2-8db2-f0c60505e757",
   "metadata": {},
   "source": [
    "#### Reporting the final error on Test set."
   ]
  },
  {
   "cell_type": "markdown",
   "id": "fa5f00a2-2fc6-43ef-a53e-2b953b9839b4",
   "metadata": {},
   "source": [
    "###### Graph of Loss Difference"
   ]
  },
  {
   "cell_type": "code",
   "execution_count": 30,
   "id": "b6de95d7-6d69-4051-8100-40d67f971e76",
   "metadata": {},
   "outputs": [
    {
     "data": {
      "text/plain": [
       "Text(0, 0.5, 'Loss Difference')"
      ]
     },
     "execution_count": 30,
     "metadata": {},
     "output_type": "execute_result"
    },
    {
     "data": {
      "image/png": "[encoded data removed]",
      "text/plain": [
       "<Figure size 1080x360 with 1 Axes>"
      ]
     },
     "metadata": {
      "needs_background": "light"
     },
     "output_type": "display_data"
    }
   ],
   "source": [
    "fig = plt.figure(figsize=(15,5))\n",
    "ax = fig.add_subplot(111)\n",
    "ax.plot([i for i in range(len(loss_difference_values))],loss_difference_values)\n",
    "ax.set_title('Graph of Loss Difference |f(xi−1)−f(xi)| with Respect to 1000 Iterations')\n",
    "ax.set_xlabel('Number of Iterations')\n",
    "ax.set_ylabel('Loss Difference')"
   ]
  },
  {
   "cell_type": "raw",
   "id": "7edaab01-5dda-498a-849f-a9bc3feab6fe",
   "metadata": {},
   "source": [
    "The above graph shows that our loss difference is decreasing as the number of iterations are increased."
   ]
  },
  {
   "cell_type": "markdown",
   "id": "86273448-d76b-4130-9f63-9f33eed0d468",
   "metadata": {},
   "source": [
    "###### Graph of Loglikelihood Loss"
   ]
  },
  {
   "cell_type": "code",
   "execution_count": 31,
   "id": "77434a7d-148c-41b0-8204-1acc796aa53d",
   "metadata": {},
   "outputs": [
    {
     "data": {
      "text/plain": [
       "Text(0, 0.5, 'Loglikelihood Loss')"
      ]
     },
     "execution_count": 31,
     "metadata": {},
     "output_type": "execute_result"
    },
    {
     "data": {
      "image/png": "[encoded data removed]",
      "text/plain": [
       "<Figure size 1080x360 with 1 Axes>"
      ]
     },
     "metadata": {
      "needs_background": "light"
     },
     "output_type": "display_data"
    }
   ],
   "source": [
    "fig = plt.figure(figsize=(15,5))\n",
    "ax = fig.add_subplot(111)\n",
    "ax.plot([i for i in range(len(logloss_values))],logloss_values)\n",
    "ax.set_title('Graph of Loglikelihood loss with Respect to 1000 Iterations')\n",
    "ax.set_xlabel('Number of Iterations')\n",
    "ax.set_ylabel('Loglikelihood Loss')"
   ]
  },
  {
   "cell_type": "raw",
   "id": "d1d30505-2f4a-419d-bab1-2d13dfb272d8",
   "metadata": {},
   "source": [
    "This graph is also showing that our loglikelihood loss is increasing as the number of iterations are increased.The Log loss is increasing not decreasing because its uses gradient ascent and we are maximizing our output likelihood."
   ]
  },
  {
   "cell_type": "markdown",
   "id": "43ceca8f-aef7-429b-8d13-dd5827de1b78",
   "metadata": {},
   "source": [
    "### Exercise 2: Regularization for Logistic Regression"
   ]
  },
  {
   "cell_type": "markdown",
   "id": "1362113d-2edb-45f5-82c4-d9ff397f1bd9",
   "metadata": {},
   "source": [
    "#### Selecting only that features that gave us Minimum AIC in Backward Selection"
   ]
  },
  {
   "cell_type": "code",
   "execution_count": 32,
   "id": "bc42c247-288a-4f88-8297-7a549403d6b8",
   "metadata": {},
   "outputs": [],
   "source": [
    "#X Contain all the data points except the label column\n",
    "X = X[:,features_selected]"
   ]
  },
  {
   "cell_type": "markdown",
   "id": "7222258f-aef9-4087-b595-433179b52aa6",
   "metadata": {},
   "source": [
    "#### Picking a range of α0 and λ defined on grid. And choosing fixed batchsize = 50"
   ]
  },
  {
   "cell_type": "code",
   "execution_count": 33,
   "id": "60ada84f-e709-4835-8add-7b766c6365ef",
   "metadata": {},
   "outputs": [],
   "source": [
    "#Initializing different values of Alpha's α\n",
    "alphas = [0.01,0.001,0.0001,0.00001,0.000001]\n",
    "\n",
    "#Initializing different values of Lambda's λ\n",
    "lamdas = [np.exp(-10),np.exp(-11),np.exp(-12),np.exp(-13),np.exp(-14)]\n",
    "\n",
    "#Choosing the Batch Size for Mini Batch Gradient Ascent\n",
    "batch_size = 50\n",
    "\n",
    "#Setting the value of K for K-fold Cross Validation\n",
    "K = 5"
   ]
  },
  {
   "cell_type": "markdown",
   "id": "de885d81-ce5c-4d31-9e99-ef4c710bc9ba",
   "metadata": {},
   "source": [
    "#### Implementing k-fold cross-validation protocol for grid search. For each combination of α0 and λ, performing k-fold cross-validation. Letting k = 5 in this case."
   ]
  },
  {
   "cell_type": "markdown",
   "id": "af4e7e51-aeac-490b-8663-429f853320d3",
   "metadata": {},
   "source": [
    "##### Function which returns the gradient of Loss function with Regularization term "
   ]
  },
  {
   "cell_type": "code",
   "execution_count": 34,
   "id": "6b42fe8b-5be1-4f69-86c3-66297988f280",
   "metadata": {},
   "outputs": [],
   "source": [
    "def dL_with_regularization(X,Y,B,lamda):\n",
    "    # Derivative of Loss = X^T * (Y - Y_pred) - 2λB\n",
    "    return (X.T @ (np.subtract(Y,sigmoid_function(X @ B)))) - (2 * lamda * B)"
   ]
  },
  {
   "cell_type": "markdown",
   "id": "71d0cd76-fa16-44fa-88ee-515b4034ad01",
   "metadata": {},
   "source": [
    "##### Function to calculate the loglikelihood loss with regularization term"
   ]
  },
  {
   "cell_type": "code",
   "execution_count": 35,
   "id": "5e5d6dbf-3c91-429b-9d27-a6d24d4ceb4e",
   "metadata": {},
   "outputs": [],
   "source": [
    "def loglikelihood_loss_regularized(X,Y,B,lamda):\n",
    "    # L = summation((Y - Y_pred) - log(1 + e^Y_pred)) - λ|B|^2\n",
    "    return np.sum((Y * sigmoid_function(X @ B)) - np.log(1 + np.exp(sigmoid_function(X @ B)))) - (lamda * np.sum(np.square(B)))"
   ]
  },
  {
   "cell_type": "markdown",
   "id": "aea4cf0b-6afb-4e52-8ced-490f844ece89",
   "metadata": {},
   "source": [
    "##### Function to calculate the loss difference with regularized loglikelihood"
   ]
  },
  {
   "cell_type": "code",
   "execution_count": 36,
   "id": "a2248815-65ce-46ac-91e2-c17892a61e3d",
   "metadata": {},
   "outputs": [],
   "source": [
    "def loss_difference_regularized(X,Y,B_old,B_new,lamda):\n",
    "    # |L(B_old) - L(B_new)|\n",
    "    return np.abs(loglikelihood_loss_regularized(X,Y,B_old,lamda) - loglikelihood_loss_regularized(X,Y,B_new,lamda))"
   ]
  },
  {
   "cell_type": "markdown",
   "id": "bac43d9f-0c27-4e6c-b5b0-dbdcf8e7b806",
   "metadata": {},
   "source": [
    "##### Function to predict the class of Y based on the probability computed using Logistic Regression"
   ]
  },
  {
   "cell_type": "code",
   "execution_count": 37,
   "id": "a3f2d4c6-b0cc-4e83-94ce-c1cb090281a7",
   "metadata": {},
   "outputs": [],
   "source": [
    "def predict_y_beta(X,B):\n",
    "    #Computing Y probabilities based on X matrix and calculated Beta\n",
    "    y = (X @ B).reshape(1,-1)[0]\n",
    "    \n",
    "    #For each predicted y, calculating its class which it belongs to\n",
    "    for i in range(len(y)):\n",
    "        #If y is greater than or equal to 0.5, then its class is 1 otherwise the class is predicted to be 0\n",
    "        y[i] = 1 if y[i] >= 0.5 else 0\n",
    "    \n",
    "    #Returning the Classes of each Y predicted\n",
    "    return y.reshape(-1,1)"
   ]
  },
  {
   "cell_type": "markdown",
   "id": "93d082d3-ba73-4d0e-8357-7e3169c405b0",
   "metadata": {},
   "source": [
    "##### Function to Calculate the Risk Estimation/Accuracy of the given Model based on how it has performed on the given dataset"
   ]
  },
  {
   "cell_type": "code",
   "execution_count": 38,
   "id": "a9889f1a-4ad0-4ae7-93e8-b29132897fbd",
   "metadata": {},
   "outputs": [],
   "source": [
    "def risk_estimator(y_pred,y):\n",
    "    #Calculating how many correct prediction our model has predicted as compared to actual Y\n",
    "    correct = sum(y1 == y2 for y1, y2 in zip(y_pred.reshape(1,-1)[0],y.reshape(1,-1)[0]))\n",
    "    \n",
    "    #Returning the percentage of corrent prediction based on total prediction\n",
    "    return correct/len(y_pred)"
   ]
  },
  {
   "cell_type": "markdown",
   "id": "079fc07c-816c-4be8-80d5-cf2c0cb02210",
   "metadata": {},
   "source": [
    "##### Function to split our dataset into k folds based on K-fold Cross Validation Technique"
   ]
  },
  {
   "cell_type": "code",
   "execution_count": 39,
   "id": "92e83163-a555-48ed-bf00-27b87496d5f9",
   "metadata": {},
   "outputs": [],
   "source": [
    "def cross_validation_split(X,Y,k,K):\n",
    "    #Checking if the given k is larger than the allowed K partitions\n",
    "    if k >= K:\n",
    "        raise Exception('The Requested k-Fold should not be Greater than total Folds K')\n",
    "    \n",
    "    #Calculating the Test set size based on dataset size and total partitions given\n",
    "    set_size = int(len(X)/K)\n",
    "    \n",
    "    #Splitting the Dataset into Training and Testing sets based on set size.The size of test set is equal to the \n",
    "    #set size calculated above and all the remaining data points after removing test set, are allocated into the training set.\n",
    "    X_train = np.delete(X,[i for i in range(k*set_size,(k*set_size)+set_size)],axis=0)\n",
    "    X_test = X[k*set_size:(k*set_size)+set_size,:]\n",
    "    Y_train = np.delete(Y,[i for i in range(k*set_size,(k*set_size)+set_size)],axis=0)\n",
    "    Y_test = Y[k*set_size:(k*set_size)+set_size,:]\n",
    "    \n",
    "    #Returning the created Training and Test datasets.\n",
    "    return X_train, Y_train, X_test, Y_test"
   ]
  },
  {
   "cell_type": "markdown",
   "id": "3d1442a4-a1a3-49a4-8873-782c7e609611",
   "metadata": {},
   "source": [
    "##### Function to Maximize the Mini batch Gradient Ascent based on Total Iterations and Learning Rate with added Regularization cost"
   ]
  },
  {
   "cell_type": "code",
   "execution_count": 40,
   "id": "de8da932-1e3b-4389-9f50-b927eeef7c60",
   "metadata": {},
   "outputs": [],
   "source": [
    "def learn_logreg_with_regularization(X_train,Y_train,X_test,Y_test,imax,epsilon,mu,lamda):\n",
    "    #Using global arrays to store loss difference and Log loss values for different Iterations\n",
    "    global loss_difference_values , logloss_values\n",
    "    \n",
    "    #Emptying both Loss difference and Log loss arrays\n",
    "    loss_difference_values , logloss_values = np.array([]) , np.array([])\n",
    "    \n",
    "    #Initializing beta vector with zeros\n",
    "    beta = np.zeros(shape=(len(X_train[0]),1))\n",
    "    \n",
    "    for i in range(imax):\n",
    "        #Creating Mini batches to run mini batch gradient ascent\n",
    "        mini_batches = create_mini_batches(X_train,Y_train,batch_size)\n",
    "        \n",
    "        #Making a Copy of beta value for calculating loss afterwards \n",
    "        old_beta = np.copy(beta)\n",
    "        \n",
    "        for mini_X, mini_Y in mini_batches:\n",
    "            \n",
    "            #Calculating new Beta values from previous beta values and gradient ascent direction and Regularization cost\n",
    "            #Beta = Beta + learning_rate * gradient ascent based on Beta and Regularization term\n",
    "            beta_ = beta + (mu * dL_with_regularization(mini_X,mini_Y,beta,lamda))\n",
    "\n",
    "            #Appending Loss difference between between previous and new Beta\n",
    "            loss_difference_values = np.append(loss_difference_values,loss_difference_regularized(mini_X,mini_Y,beta,beta_,lamda))\n",
    "            \n",
    "            #Copying new Beta value to old Beta value for Further Calculation\n",
    "            beta = np.copy(beta_)\n",
    "\n",
    "        #Appending RMSE loss between actual Y and Predicted Y\n",
    "        logloss_values = np.append(logloss_values,loglikelihood_loss_regularized(X_test,Y_test,beta_,lamda))\n",
    "        \n",
    "        #Checking the Stopping Condition by comparing loss on previous and current beta\n",
    "        if loglikelihood_loss_regularized(X_train,Y_train,beta_,lamda) - loglikelihood_loss_regularized(X_train,Y_train,old_beta,lamda) < epsilon:\n",
    "            return beta_\n",
    "    \n",
    "    #Returning the Optimal Beta vector\n",
    "    return beta_"
   ]
  },
  {
   "cell_type": "markdown",
   "id": "03824607-c01b-42b8-bd45-ebc6d7eec9ca",
   "metadata": {},
   "source": [
    "#### Keeping track of mean performance (i.e. Classification Accuracy value) across k − folds for each set of hyperparameters."
   ]
  },
  {
   "cell_type": "code",
   "execution_count": 41,
   "id": "caece534-f49e-4407-9e81-146b14c5262e",
   "metadata": {},
   "outputs": [],
   "source": [
    "#Initializing a matrix to store the classification accuracy of each pair of λ and α\n",
    "risk_estimation = np.zeros(shape=(len(alphas),len(lamdas)))"
   ]
  },
  {
   "cell_type": "code",
   "execution_count": 42,
   "id": "75f05be7-b0a6-4088-bdd7-eb041cc8857b",
   "metadata": {},
   "outputs": [
    {
     "name": "stdout",
     "output_type": "stream",
     "text": [
      "Calculating Risk Estimation/Accuary for different Combination of λ and α\n",
      "\n",
      "Acurracy of Model with Alpha: 0.01, and Lambda: 4.5399929762484854e-05 is: 89.14%\n",
      "Acurracy of Model with Alpha: 0.01, and Lambda: 1.670170079024566e-05 is: 89.14%\n",
      "Acurracy of Model with Alpha: 0.01, and Lambda: 6.14421235332821e-06 is: 89.14%\n",
      "Acurracy of Model with Alpha: 0.01, and Lambda: 2.2603294069810542e-06 is: 89.14%\n",
      "Acurracy of Model with Alpha: 0.01, and Lambda: 8.315287191035679e-07 is: 89.14%\n",
      "Acurracy of Model with Alpha: 0.001, and Lambda: 4.5399929762484854e-05 is: 89.38%\n",
      "Acurracy of Model with Alpha: 0.001, and Lambda: 1.670170079024566e-05 is: 89.40%\n",
      "Acurracy of Model with Alpha: 0.001, and Lambda: 6.14421235332821e-06 is: 89.40%\n",
      "Acurracy of Model with Alpha: 0.001, and Lambda: 2.2603294069810542e-06 is: 89.40%\n",
      "Acurracy of Model with Alpha: 0.001, and Lambda: 8.315287191035679e-07 is: 89.40%\n",
      "Acurracy of Model with Alpha: 0.0001, and Lambda: 4.5399929762484854e-05 is: 89.42%\n",
      "Acurracy of Model with Alpha: 0.0001, and Lambda: 1.670170079024566e-05 is: 89.42%\n",
      "Acurracy of Model with Alpha: 0.0001, and Lambda: 6.14421235332821e-06 is: 89.42%\n",
      "Acurracy of Model with Alpha: 0.0001, and Lambda: 2.2603294069810542e-06 is: 89.42%\n",
      "Acurracy of Model with Alpha: 0.0001, and Lambda: 8.315287191035679e-07 is: 89.42%\n",
      "Acurracy of Model with Alpha: 1e-05, and Lambda: 4.5399929762484854e-05 is: 89.36%\n",
      "Acurracy of Model with Alpha: 1e-05, and Lambda: 1.670170079024566e-05 is: 89.36%\n",
      "Acurracy of Model with Alpha: 1e-05, and Lambda: 6.14421235332821e-06 is: 89.36%\n",
      "Acurracy of Model with Alpha: 1e-05, and Lambda: 2.2603294069810542e-06 is: 89.36%\n",
      "Acurracy of Model with Alpha: 1e-05, and Lambda: 8.315287191035679e-07 is: 89.36%\n",
      "Acurracy of Model with Alpha: 1e-06, and Lambda: 4.5399929762484854e-05 is: 88.96%\n",
      "Acurracy of Model with Alpha: 1e-06, and Lambda: 1.670170079024566e-05 is: 88.96%\n",
      "Acurracy of Model with Alpha: 1e-06, and Lambda: 6.14421235332821e-06 is: 88.96%\n",
      "Acurracy of Model with Alpha: 1e-06, and Lambda: 2.2603294069810542e-06 is: 88.96%\n",
      "Acurracy of Model with Alpha: 1e-06, and Lambda: 8.315287191035679e-07 is: 88.96%\n"
     ]
    }
   ],
   "source": [
    "print('Calculating Risk Estimation/Accuary for different Combination of λ and α\\n')\n",
    "#Iterating through all combination of λ and α our K-fold cross validation dataset\n",
    "for i,alpha in enumerate(alphas):\n",
    "    for j,lamda in enumerate(lamdas):\n",
    "        #Initializing the risk to 0 before start of applying k-fold cross validation splitting\n",
    "        risk = 0\n",
    "        for k in range(K):\n",
    "            #Splitting our dataset on the basis of K-fold cross validation on different values of k\n",
    "            X_train, Y_train, X_test, Y_test = cross_validation_split(X,Y.reshape(-1,1),k,K)\n",
    "            \n",
    "            #Calculating beta based on Regularization and K-fold Cross Validation\n",
    "            beta = learn_logreg_with_regularization(X_train,Y_train,X_test,Y_test,1000,10**-10,alpha,lamda)\n",
    "            \n",
    "            #Calculating the Risk Estimation/Accuracy on Test set and adding it to our total Risk\n",
    "            risk += risk_estimator(predict_y_beta(X_test,beta),Y_test)\n",
    "            \n",
    "        #Saving the Mean Risk/Accuracy of the specific λ and α pair in our matrix\n",
    "        risk_estimation[i][j] = (risk/K)\n",
    "        print('Acurracy of Model with Alpha: {}, and Lambda: {} is: {:.2f}%'.format(alpha,lamda,((risk/K)*100)))"
   ]
  },
  {
   "cell_type": "markdown",
   "id": "f71a5859-4203-4f30-abef-334d5394c757",
   "metadata": {},
   "source": [
    "#### Plotting on the grid α0 vs λ the Classification Accuracy score for all combinations"
   ]
  },
  {
   "cell_type": "code",
   "execution_count": 43,
   "id": "4d24b211-ae6a-41fb-a933-0546c54c1c74",
   "metadata": {},
   "outputs": [
    {
     "data": {
      "text/plain": [
       "Text(0.5, 0, 'Risk Esitmation/Accuracy')"
      ]
     },
     "execution_count": 43,
     "metadata": {},
     "output_type": "execute_result"
    },
    {
     "data": {
      "image/png": "[encoded data removed]",
      "text/plain": [
       "<Figure size 720x720 with 1 Axes>"
      ]
     },
     "metadata": {
      "needs_background": "light"
     },
     "output_type": "display_data"
    }
   ],
   "source": [
    "fig = plt.figure(figsize=(10,10))\n",
    "ax = fig.add_subplot(111, projection='3d')\n",
    "X_mesh, Y_mesh = np.meshgrid(alphas,lamdas)\n",
    "ax.plot_surface(X_mesh, Y_mesh, risk_estimation,alpha=0.5)\n",
    "ax.scatter3D(X_mesh, Y_mesh, risk_estimation,c='r')\n",
    "ax.set_xlabel('Alpha')\n",
    "ax.set_ylabel('Lambda')\n",
    "ax.set_zlabel('Risk Esitmation/Accuracy')"
   ]
  },
  {
   "cell_type": "raw",
   "id": "b879fbb6-a31a-4a9e-894c-5f1c48fcbe6d",
   "metadata": {},
   "source": [
    "From the Above Evaluation and Plot we can see that our optimal α vs λ values are:\n",
    "α = 0.0001\n",
    "λ = e^-10"
   ]
  },
  {
   "cell_type": "markdown",
   "id": "dbc53421-2fd6-452a-b9f4-ce86ca2509ee",
   "metadata": {},
   "source": [
    "#### Finally, for the optimal value of alpha0 and λ, training our model on complete training data and evaluate on Test data. Report one single Accuracy and Log-likelihood for Test data."
   ]
  },
  {
   "cell_type": "markdown",
   "id": "d7058dc5-030a-4084-ad40-eb89e0c53a04",
   "metadata": {},
   "source": [
    "###### Calculating Beta using Mini batch Gradient Ascent, With Regularization and α = 0.0001 and λ = 0.01"
   ]
  },
  {
   "cell_type": "code",
   "execution_count": 44,
   "id": "75647515-68f7-4f38-a5be-fd2248f64f19",
   "metadata": {},
   "outputs": [],
   "source": [
    "beta = learn_logreg_with_regularization(X_train,Y_train,X_test,Y_test,1000,10**-10,0.0001,np.exp(-10))"
   ]
  },
  {
   "cell_type": "code",
   "execution_count": 45,
   "id": "a5062243-9c7e-459e-a693-4b7b60cfe509",
   "metadata": {},
   "outputs": [
    {
     "name": "stdout",
     "output_type": "stream",
     "text": [
      "The Accuracy of the Model after Regularization and Hyperparameter Optimization is: 89.27%\n"
     ]
    }
   ],
   "source": [
    "print('The Accuracy of the Model after Regularization and Hyperparameter Optimization is: {:.2f}%'.format(risk_estimator(predict_y_beta(X_test,beta),Y_test)*100))"
   ]
  },
  {
   "cell_type": "code",
   "execution_count": 46,
   "id": "1ef10836-bd50-48e6-8689-82c6b16dd84c",
   "metadata": {},
   "outputs": [
    {
     "name": "stdout",
     "output_type": "stream",
     "text": [
      "The Loglikelihood of the Model after Regularization and Hyperparameter Optimization is: -649.9843472997734\n"
     ]
    }
   ],
   "source": [
    "print('The Loglikelihood of the Model after Regularization and Hyperparameter Optimization is: {}'.format(loglikelihood_loss(X_test,Y_test,beta)))"
   ]
  },
  {
   "cell_type": "markdown",
   "id": "e7a3e0aa-712c-4514-888d-1c7dcabfa075",
   "metadata": {},
   "source": [
    "### Exercise 3: Implementing Hyperband for Logistic Regression"
   ]
  },
  {
   "cell_type": "markdown",
   "id": "84cb8c75-3ddb-456f-8a4e-381bb16f9e29",
   "metadata": {},
   "source": [
    "##### Splitting the Dataset into Train, Validation and Test Splits according to Ratio: 70% : 15% : 15%"
   ]
  },
  {
   "cell_type": "code",
   "execution_count": 47,
   "id": "b78b850d-6128-4406-8693-3f9478365f0c",
   "metadata": {},
   "outputs": [],
   "source": [
    "#Calculating number of rows to be copied in the Training Set according to specific ratio\n",
    "total_training_rows = int(len(X)*0.7)\n",
    "\n",
    "#Calculating number of rows to be copied in the Validating Set according to specific ratio\n",
    "total_validation_rows = int(len(X)*0.15)"
   ]
  },
  {
   "cell_type": "code",
   "execution_count": 48,
   "id": "1465d1d9-a47a-414e-8b6a-62c49ff4f8ac",
   "metadata": {},
   "outputs": [],
   "source": [
    "#Splitting the Dataset into Training set based on calculated rows\n",
    "X_train, Y_train = X[:total_training_rows,:], Y[:total_training_rows].reshape(-1,1)"
   ]
  },
  {
   "cell_type": "code",
   "execution_count": 49,
   "id": "1c7c07d3-74f6-4910-b3b8-dc1a6538974c",
   "metadata": {},
   "outputs": [],
   "source": [
    "#Splitting the Dataset into Validating set based on calculated rows\n",
    "X_Validation, Y_Validation = X[total_training_rows:total_training_rows+total_validation_rows,:], Y[total_training_rows:total_training_rows+total_validation_rows].reshape(-1,1)"
   ]
  },
  {
   "cell_type": "code",
   "execution_count": 50,
   "id": "7468c0df-11e5-4678-b302-cfca286358c7",
   "metadata": {},
   "outputs": [],
   "source": [
    "#Splitting the Dataset into Test set based on calculated rows\n",
    "X_test, Y_test = X[total_training_rows+total_validation_rows:,:], Y[total_training_rows+total_validation_rows:].reshape(-1,1)"
   ]
  },
  {
   "cell_type": "markdown",
   "id": "c8cd8bde-e01c-43e3-a886-bf2c3fe21d8d",
   "metadata": {},
   "source": [
    "##### Implementing a state-of-the-art Hyperparameter Optimization algorithm (Hyperband) for tuning the hyperparameters α0, λ, stepsize-controller and batch_size for the logistic regression model above"
   ]
  },
  {
   "cell_type": "code",
   "execution_count": 51,
   "id": "84b2ab17-e0b3-499f-9cc4-b37f1c24858b",
   "metadata": {
    "tags": []
   },
   "outputs": [],
   "source": [
    "def hyperband(X_train, Y_train, X_Validation, Y_Validation, max_iter, eta):\n",
    "    logeta = lambda x : np.log(x)/np.log(eta)\n",
    "    \n",
    "    #Number of unique epochs of Successive Halving\n",
    "    s_max = int(logeta(max_iter))\n",
    "    \n",
    "    #Total number of iterations per epoch of Succesive Halving (n,r)\n",
    "    B = (s_max + 1) * max_iter\n",
    "    \n",
    "    #Iterating over all Epochs\n",
    "    for s in reversed(range(s_max + 1)):\n",
    "        #Initial number of configurations\n",
    "        n = int(math.ceil(int(B/max_iter/(s+1))*eta**s))\n",
    "        \n",
    "        #Initial number of iterations for each configurations\n",
    "        r = max_iter*eta**(-s)\n",
    "        \n",
    "        #Creating the stack for all hyperparameters\n",
    "        lambdas = np.arange(np.exp(-10),np.exp(-15),(np.exp(-15) - np.exp(-10))/n)\n",
    "        alphas = np.arange(0.1,0.00001,(0.00001 - 0.1)/n)\n",
    "        batch_sizes = np.random.randint(30,100,size=n,dtype=int)\n",
    "        T = np.vstack([lambdas,alphas,batch_sizes]).T\n",
    "        \n",
    "        for i in range(s+1):\n",
    "            n_i = n*eta**(-i)\n",
    "            r_i = r*eta**i\n",
    "            val_losses = []\n",
    "            \n",
    "            #Calculating loss for each hyperparameter\n",
    "            for t in T:\n",
    "                batch_size = int(t[2])\n",
    "                beta = learn_logreg_with_regularization(X_train,Y_train,X_test,Y_test,int(r_i),10**-10,t[1],t[0])\n",
    "                val_losses.append([loglikelihood_loss(X_train,Y_train,beta)])\n",
    "            \n",
    "            #Appending the loss for each hyperparameter Configuration\n",
    "            T = np.append(T,val_losses,axis=1)\n",
    "            \n",
    "            #Sorting the Hyperparameter configuration list based of loss value\n",
    "            T = T[T[:, -1].argsort()]\n",
    "        \n",
    "    #Returning the hyperparameter configuration with the least Loss\n",
    "    return T[0]"
   ]
  },
  {
   "cell_type": "markdown",
   "id": "d8b10288-4c99-4590-a246-b76124a7f19c",
   "metadata": {},
   "source": [
    "##### Calculating the set of Hyperparameters which will give optimal results using Hyperband Algorithm"
   ]
  },
  {
   "cell_type": "code",
   "execution_count": 52,
   "id": "7a353fd2-3a98-4268-b982-86be2296a00d",
   "metadata": {},
   "outputs": [],
   "source": [
    "# maximum iterations per configuration\n",
    "max_iter = 81\n",
    "\n",
    "# defining downsampling rate\n",
    "eta = 3\n",
    "optimal_parameters = hyperband(X_train,Y_train,X_Validation,Y_Validation,max_iter,eta)"
   ]
  },
  {
   "cell_type": "markdown",
   "id": "2cf82c0e-b631-49ad-924c-c81bbc2ec406",
   "metadata": {},
   "source": [
    "##### Again resplitting the X matrix and Y vector into Training"
   ]
  },
  {
   "cell_type": "code",
   "execution_count": 53,
   "id": "29ec5929-567f-45c4-a8ea-8a58198941b4",
   "metadata": {},
   "outputs": [],
   "source": [
    "#Calculating number of rows to be copied in the Training Set according to specific ratio\n",
    "total_training_rows = int(len(X)*0.85)"
   ]
  },
  {
   "cell_type": "code",
   "execution_count": 54,
   "id": "83c4a3b9-064c-4783-8b69-e755a8bb3ca1",
   "metadata": {},
   "outputs": [],
   "source": [
    "#Splitting the Dataset into Training set based on calculated rows\n",
    "X_train, Y_train = X[:total_training_rows,:], Y[:total_training_rows].reshape(-1,1)"
   ]
  },
  {
   "cell_type": "markdown",
   "id": "c6d9328c-efa6-44a8-acda-a8536dab8763",
   "metadata": {},
   "source": [
    "##### Training and Testing the model with the new Optimal values of Hyperparameters"
   ]
  },
  {
   "cell_type": "code",
   "execution_count": 55,
   "id": "2959a51a-f1f9-43ae-82c4-cb81dfc410a6",
   "metadata": {},
   "outputs": [],
   "source": [
    "#Extracting the hyperparameters values from the output list of hyperband algorithm\n",
    "batch_size = int(optimal_parameters[2])\n",
    "alpha_new = optimal_parameters[1]\n",
    "lambda_new = optimal_parameters[0]"
   ]
  },
  {
   "cell_type": "code",
   "execution_count": 56,
   "id": "5c004c76-fc1e-4361-9555-7161899afe00",
   "metadata": {},
   "outputs": [],
   "source": [
    "beta = learn_logreg_with_regularization(X_train,Y_train,X_test,Y_test,1000,10**-10,alpha_new,lambda_new)"
   ]
  },
  {
   "cell_type": "markdown",
   "id": "62964e78-e0a5-4a86-a6f9-0b07cdb25395",
   "metadata": {},
   "source": [
    "##### Reporting the final error on Test set after training using optimal Hyperparameters"
   ]
  },
  {
   "cell_type": "markdown",
   "id": "4a9119b4-1498-410b-89bb-75d7ca8eabf9",
   "metadata": {},
   "source": [
    "###### Graph of Loss Difference"
   ]
  },
  {
   "cell_type": "code",
   "execution_count": 57,
   "id": "cc3f7bd4-b1ad-4c6c-84cd-9805979506e5",
   "metadata": {},
   "outputs": [
    {
     "data": {
      "text/plain": [
       "Text(0, 0.5, 'Loss Difference')"
      ]
     },
     "execution_count": 57,
     "metadata": {},
     "output_type": "execute_result"
    },
    {
     "data": {
      "image/png": "[encoded data removed]",
      "text/plain": [
       "<Figure size 1080x360 with 1 Axes>"
      ]
     },
     "metadata": {
      "needs_background": "light"
     },
     "output_type": "display_data"
    }
   ],
   "source": [
    "fig = plt.figure(figsize=(15,5))\n",
    "ax = fig.add_subplot(111)\n",
    "ax.plot([i for i in range(len(loss_difference_values))],loss_difference_values)\n",
    "ax.set_title('Graph of Loss Difference |f(xi−1)−f(xi)| with Respect to 1000 Iterations')\n",
    "ax.set_xlabel('Number of Iterations')\n",
    "ax.set_ylabel('Loss Difference')"
   ]
  },
  {
   "cell_type": "markdown",
   "id": "5d1fc12d-a1f1-4adc-8f26-34bc638e5d54",
   "metadata": {},
   "source": [
    "###### Graph of Loglikelihood Loss"
   ]
  },
  {
   "cell_type": "code",
   "execution_count": 58,
   "id": "29d0f977-26b4-423d-8548-c50c40c05269",
   "metadata": {},
   "outputs": [
    {
     "data": {
      "text/plain": [
       "Text(0, 0.5, 'Loglikelihood Loss')"
      ]
     },
     "execution_count": 58,
     "metadata": {},
     "output_type": "execute_result"
    },
    {
     "data": {
      "image/png": "[encoded data removed]",
      "text/plain": [
       "<Figure size 1080x360 with 1 Axes>"
      ]
     },
     "metadata": {
      "needs_background": "light"
     },
     "output_type": "display_data"
    }
   ],
   "source": [
    "fig = plt.figure(figsize=(15,5))\n",
    "ax = fig.add_subplot(111)\n",
    "ax.plot([i for i in range(len(logloss_values))],logloss_values)\n",
    "ax.set_title('Graph of Loglikelihood loss with Respect to 1000 Iterations')\n",
    "ax.set_xlabel('Number of Iterations')\n",
    "ax.set_ylabel('Loglikelihood Loss')"
   ]
  },
  {
   "cell_type": "code",
   "execution_count": 59,
   "id": "338f5476-6de9-4252-84f1-2a6b04a816f8",
   "metadata": {},
   "outputs": [
    {
     "name": "stdout",
     "output_type": "stream",
     "text": [
      "The Accuracy of the Model after Regularization and Hyperparameter Optimization (Hyperband) is: 88.95%\n"
     ]
    }
   ],
   "source": [
    "print('The Accuracy of the Model after Regularization and Hyperparameter Optimization (Hyperband) is: {:.2f}%'\n",
    "      .format(risk_estimator(predict_y_beta(X_test,beta),Y_test)*100))"
   ]
  },
  {
   "cell_type": "code",
   "execution_count": 60,
   "id": "3c968988-ab93-4a89-a0c7-9ba08c77a181",
   "metadata": {},
   "outputs": [
    {
     "name": "stdout",
     "output_type": "stream",
     "text": [
      "The Loglikelihood of the Model after Regularization and Hyperparameter Optimization (Hperband) is: -490.26365578865784\n"
     ]
    }
   ],
   "source": [
    "print('The Loglikelihood of the Model after Regularization and Hyperparameter Optimization (Hperband) is: {}'\n",
    "      .format(loglikelihood_loss(X_test,Y_test,beta)))"
   ]
  },
  {
   "cell_type": "raw",
   "id": "04d919b9-a3cb-48f5-93c4-98b2d36f6430",
   "metadata": {},
   "source": [
    "We can observe from the above graphs of Hyperparameter Optimization, our loss is decreased considerably and the model also converges really fast as compared to previous trained models, as now our Model is much less Complex and performs better with the optimized Hyperparameters."
   ]
  }
 ],
 "metadata": {
  "kernelspec": {
   "display_name": "Python 3 (ipykernel)",
   "language": "python",
   "name": "python3"
  },
  "language_info": {
   "codemirror_mode": {
    "name": "ipython",
    "version": 3
   },
   "file_extension": ".py",
   "mimetype": "text/x-python",
   "name": "python",
   "nbconvert_exporter": "python",
   "pygments_lexer": "ipython3",
   "version": "3.8.12"
  }
 },
 "nbformat": 4,
 "nbformat_minor": 5
}
