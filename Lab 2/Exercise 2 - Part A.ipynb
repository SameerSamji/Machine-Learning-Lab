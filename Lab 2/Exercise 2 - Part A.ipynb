{
 "cells": [
  {
   "cell_type": "markdown",
   "id": "53a63cbc-497a-4c52-a840-d06b54a01822",
   "metadata": {},
   "source": [
    "<h1 align=\"center\">Machine Learning Lab</h1>\n",
    "<h3 align=\"center\">Lab 02</h3>\n",
    "<h3 align=\"center\">Exercise 2 - Part A</h3>"
   ]
  },
  {
   "cell_type": "markdown",
   "id": "95a1f100-4ace-4101-a3e7-3f44a4851162",
   "metadata": {},
   "source": [
    "#### Importing Packages"
   ]
  },
  {
   "cell_type": "code",
   "execution_count": 1,
   "id": "3f05831b-8f54-4406-93fb-12de32217808",
   "metadata": {},
   "outputs": [],
   "source": [
    "import numpy as np           #Importing Numpy"
   ]
  },
  {
   "cell_type": "markdown",
   "id": "3ad50e4b-e5b6-449d-b074-d0053909ea72",
   "metadata": {},
   "source": [
    "#### Initializing Normal Distribution Parameters and Matrix X and Matrix Y Shapes"
   ]
  },
  {
   "cell_type": "code",
   "execution_count": 2,
   "id": "5e176387-8ab8-4b2c-99c8-5b684fdd31a4",
   "metadata": {},
   "outputs": [],
   "source": [
    "mu = 2                     #Mean of Distribution\n",
    "sigma = 0.01               #Standard Deviation of Data points\n",
    "matX_shape = (100,10)      #Dimensions for Matrix X\n",
    "matY_shape = (100,1)       #Dimensions for Matrix Y"
   ]
  },
  {
   "cell_type": "markdown",
   "id": "16a6cbf9-e866-421f-9a17-0efec68b697a",
   "metadata": {},
   "source": [
    "#### Creating a Bias column to be added in Matrix X"
   ]
  },
  {
   "cell_type": "code",
   "execution_count": 3,
   "id": "33ddcef5-db2a-4d25-8bf0-643698f1d04c",
   "metadata": {},
   "outputs": [],
   "source": [
    "#Initializing the bias column for b0\n",
    "bias_column = np.ones(shape=(100,1))"
   ]
  },
  {
   "cell_type": "markdown",
   "id": "e4f65027-b226-4802-b86c-c4d8c3379d12",
   "metadata": {},
   "source": [
    "#### Initializing Matrix X and Matrix Y"
   ]
  },
  {
   "cell_type": "code",
   "execution_count": 4,
   "id": "0cd66ee8-20da-4e48-b66f-9168f7a52541",
   "metadata": {},
   "outputs": [],
   "source": [
    "matX = [[np.random.normal(mu,sigma) for i in range(matX_shape[1])] for j in range(matX_shape[0])]\n",
    "matX = np.array(matX)\n",
    "\n",
    "#Appending bias column in the Matrix X for calculating b0\n",
    "matX = np.append(bias_column,matX,axis=1)"
   ]
  },
  {
   "cell_type": "code",
   "execution_count": 5,
   "id": "d614f420-697f-401e-beda-25271ae96baa",
   "metadata": {},
   "outputs": [],
   "source": [
    "matY = [[np.random.uniform(1,2) for i in range(matY_shape[1])] for j in range(matY_shape[0])]\n",
    "matY = np.array(matY)"
   ]
  },
  {
   "cell_type": "markdown",
   "id": "b1a32a66-e839-42e1-b735-0e336ac58d20",
   "metadata": {},
   "source": [
    "#### Function to Transpose the given Matrix"
   ]
  },
  {
   "cell_type": "code",
   "execution_count": 6,
   "id": "1c41faab-49ad-45b7-84af-04f5b88fac4c",
   "metadata": {},
   "outputs": [],
   "source": [
    "def transpose_matrix(matrix):\n",
    "    result = []\n",
    "    \n",
    "    #Taking individual columns, flatten it into a single dimension \n",
    "    #row and then append it into our result matrix\n",
    "    for i in range(matrix.shape[1]):\n",
    "        curr_col = matrix[:,i]\n",
    "        curr_col = curr_col.flatten()\n",
    "        result.append(curr_col)\n",
    "    \n",
    "    return np.array(result)"
   ]
  },
  {
   "cell_type": "markdown",
   "id": "e2d74b5a-660d-476e-aec9-6e27f9c7205a",
   "metadata": {},
   "source": [
    "#### Function to Multiply Two Matrices"
   ]
  },
  {
   "cell_type": "code",
   "execution_count": 7,
   "id": "2cf04e20-a852-4b9b-863e-9724a06eeed3",
   "metadata": {},
   "outputs": [],
   "source": [
    "def multiply_matrices(matA,matB):\n",
    "    #Validates if matrix A columns are same as matrix B rows\n",
    "    if matA.shape[1] != matB.shape[0]:\n",
    "        raise Exception('Invalid Matrix Dimensions')\n",
    "    \n",
    "    matC = np.zeros(shape=(matA.shape[0],matB.shape[1]))\n",
    "    for i in range(len(matA)):\n",
    "        for j in range(len(matB[0])):\n",
    "            for k in range(len(matB)):\n",
    "                matC[i][j] += matA[i][k] * matB[k][j]\n",
    "    return matC"
   ]
  },
  {
   "cell_type": "markdown",
   "id": "a5b73423-86bc-485a-abb8-0e215dc4a30e",
   "metadata": {},
   "source": [
    "#### Implementing Guassain Elimination Functions"
   ]
  },
  {
   "cell_type": "code",
   "execution_count": 8,
   "id": "67aa14e8-8284-46cd-875a-f2a2b9d3d25b",
   "metadata": {},
   "outputs": [],
   "source": [
    "def guassian_elimination(A,b):\n",
    "    for k in range(len(A)-1):\n",
    "        for i in range(k+1,len(A)):\n",
    "            A[i][k] = A[i][k]/A[k][k]\n",
    "            for j in range(k+1,len(A)):\n",
    "                A[i][j] = A[i][j] - A[i][k] * A[k][j]\n",
    "            b[i] = b[i] - A[i][k] * b[k]\n",
    "    return (A,b)"
   ]
  },
  {
   "cell_type": "code",
   "execution_count": 9,
   "id": "2a78d7ed-b221-472d-b209-8ba99bd57976",
   "metadata": {},
   "outputs": [],
   "source": [
    "def backward_substitution(A,b):\n",
    "    x = np.zeros(shape=(len(A),1))\n",
    "    for i in range(len(A)-1,-1,-1):\n",
    "        s = b[i]\n",
    "        for j in range(i+1,len(A)):\n",
    "            s = s - A[i][j] * x[j]\n",
    "        x[i] = s/A[i][i]\n",
    "    return x"
   ]
  },
  {
   "cell_type": "markdown",
   "id": "43142315-ac90-4e1f-99a7-ee4e1fcedc69",
   "metadata": {},
   "source": [
    "#### A Wrapper function which uses Guassian Elimination and Backward Substitution to calculate Beta values"
   ]
  },
  {
   "cell_type": "code",
   "execution_count": 10,
   "id": "0fea57bc-1ffd-49be-8335-82a921056410",
   "metadata": {},
   "outputs": [],
   "source": [
    "def solve_linear_equations(A,b):\n",
    "    #Using Guassian Elimination to simplify Matrix A and b\n",
    "    A , b = guassian_elimination(A,b)\n",
    "    #Using Backward Substitution to calculate the vector x which is our Beta values\n",
    "    return backward_substitution(A,b)"
   ]
  },
  {
   "cell_type": "markdown",
   "id": "ec5470ac-8215-4a2d-b596-f2d68780461c",
   "metadata": {},
   "source": [
    "#### Function to Learn Linear Regression model and Returns Beta Vector"
   ]
  },
  {
   "cell_type": "code",
   "execution_count": 11,
   "id": "1e590260-b735-4ab9-a5c3-176cbcec27f3",
   "metadata": {},
   "outputs": [],
   "source": [
    "def learn_simple_linreg(X,Y):\n",
    "    X_tran = transpose_matrix(matX)\n",
    "    # A = X^T.X\n",
    "    A = multiply_matrices(X_tran,X)\n",
    "    # b = X*T.Y\n",
    "    b = multiply_matrices(X_tran,Y)\n",
    "    beta = solve_linear_equations(A,b)\n",
    "    return beta"
   ]
  },
  {
   "cell_type": "markdown",
   "id": "44002594-6888-4c6e-8209-ff451622d683",
   "metadata": {},
   "source": [
    "#### Function which takes Matrix X and beta to predict our Predicted Y (y hat)"
   ]
  },
  {
   "cell_type": "code",
   "execution_count": 12,
   "id": "16ba1b41-63f1-4e58-8ed9-8553d97b5353",
   "metadata": {},
   "outputs": [],
   "source": [
    "def predict_simple_linreg(X,beta):\n",
    "    #Calculating yhat using equation y_hat = X.b\n",
    "    y_hat = multiply_matrices(X,beta)\n",
    "    return y_hat"
   ]
  },
  {
   "cell_type": "markdown",
   "id": "40accc5c-90a1-443b-ad6e-37562186c07e",
   "metadata": {},
   "source": [
    "#### Calculating Beta values using the Guassian Elimination method"
   ]
  },
  {
   "cell_type": "code",
   "execution_count": 13,
   "id": "80089fe4-e15e-4b6d-905f-463f0607558f",
   "metadata": {},
   "outputs": [
    {
     "name": "stdout",
     "output_type": "stream",
     "text": [
      "[[12.38347074]\n",
      " [ 0.54140055]\n",
      " [-0.59475465]\n",
      " [ 2.57500107]\n",
      " [-1.65599471]\n",
      " [ 2.35415863]\n",
      " [-0.24840299]\n",
      " [ 0.56046431]\n",
      " [-2.96177026]\n",
      " [-4.45959388]\n",
      " [-1.55567627]]\n"
     ]
    }
   ],
   "source": [
    "#Calculating our beta values\n",
    "beta = learn_simple_linreg(matX,matY)\n",
    "print(beta)"
   ]
  },
  {
   "cell_type": "markdown",
   "id": "7ca0dcac-e556-4e15-bb37-2ff24f396874",
   "metadata": {},
   "source": [
    "#### Using Matrix X and Beta values calculating Predicted Y"
   ]
  },
  {
   "cell_type": "code",
   "execution_count": 14,
   "id": "7cfc1388-1475-45df-a481-860d43f908b2",
   "metadata": {},
   "outputs": [],
   "source": [
    "#Calculating y_hat\n",
    "y_hat = predict_simple_linreg(matX,beta)"
   ]
  },
  {
   "cell_type": "markdown",
   "id": "d73a7d96-7ee6-4e07-a5f8-8afc4cd73b42",
   "metadata": {},
   "source": [
    "#### Plot the training points from matrix Y and predicted values Y in the form of scatter graph."
   ]
  },
  {
   "cell_type": "code",
   "execution_count": 15,
   "id": "5ffd03ca-4f5e-4140-817b-5ff5c6190721",
   "metadata": {},
   "outputs": [],
   "source": [
    "import matplotlib.pyplot as plt      #Importing Matplotlib"
   ]
  },
  {
   "cell_type": "code",
   "execution_count": 16,
   "id": "ce8fcb6b-db0f-45a1-8e70-5f72f2776fcd",
   "metadata": {},
   "outputs": [
    {
     "data": {
      "image/png": "[encoded data removed]",
      "text/plain": [
       "<Figure size 720x720 with 1 Axes>"
      ]
     },
     "metadata": {
      "needs_background": "light"
     },
     "output_type": "display_data"
    }
   ],
   "source": [
    "fig = plt.figure(figsize=(10,10))\n",
    "ax = fig.add_subplot(111)\n",
    "ax.scatter(matX[:,1].reshape(-1,1),matY,label='Actual Y')\n",
    "ax.scatter(matX[:,1].reshape(-1,1),y_hat,label='Predicted Y')\n",
    "ax.set_xlabel('X')\n",
    "ax.set_ylabel('Y')\n",
    "ax.set_title('Plot of Y and Y_hat')\n",
    "plt.legend()\n",
    "plt.show()"
   ]
  },
  {
   "cell_type": "markdown",
   "id": "2f927864-bb41-41d1-9d03-012eb96d1783",
   "metadata": {},
   "source": [
    "#### In the end use numpy.linalg.lstsq to learn β0:10 and plot the predictions from these parameters."
   ]
  },
  {
   "cell_type": "code",
   "execution_count": 17,
   "id": "4e3ade53-b67d-4bfe-b051-c6e12f9fd0d5",
   "metadata": {},
   "outputs": [
    {
     "name": "stdout",
     "output_type": "stream",
     "text": [
      "[[12.38347074]\n",
      " [ 0.54140055]\n",
      " [-0.59475465]\n",
      " [ 2.57500107]\n",
      " [-1.65599471]\n",
      " [ 2.35415863]\n",
      " [-0.24840299]\n",
      " [ 0.56046431]\n",
      " [-2.96177026]\n",
      " [-4.45959388]\n",
      " [-1.55567627]]\n"
     ]
    }
   ],
   "source": [
    "np_beta = np.linalg.lstsq(matX,matY,rcond=None)[0]\n",
    "print(np_beta)"
   ]
  },
  {
   "cell_type": "code",
   "execution_count": 18,
   "id": "b87e9072-d588-4269-a172-17abc0e9d30a",
   "metadata": {},
   "outputs": [],
   "source": [
    "#Calculating y_hat with numpy beta values\n",
    "y_hat = predict_simple_linreg(matX,np_beta)"
   ]
  },
  {
   "cell_type": "code",
   "execution_count": 19,
   "id": "fd42cc84-f545-4d5d-84c0-d9b110b95a90",
   "metadata": {},
   "outputs": [
    {
     "data": {
      "image/png": "[encoded data removed]",
      "text/plain": [
       "<Figure size 720x720 with 1 Axes>"
      ]
     },
     "metadata": {
      "needs_background": "light"
     },
     "output_type": "display_data"
    }
   ],
   "source": [
    "fig = plt.figure(figsize=(10,10))\n",
    "ax = fig.add_subplot(111)\n",
    "ax.scatter(matX[:,1].reshape(-1,1),matY,label='Actual Y')\n",
    "ax.scatter(matX[:,1].reshape(-1,1),y_hat,label='Predicted Y')\n",
    "ax.set_xlabel('X')\n",
    "ax.set_ylabel('Y')\n",
    "ax.set_title('Plot of Y and Y_hat')\n",
    "plt.legend()\n",
    "plt.show()"
   ]
  }
 ],
 "metadata": {
  "kernelspec": {
   "display_name": "Python 3 (ipykernel)",
   "language": "python",
   "name": "python3"
  },
  "language_info": {
   "codemirror_mode": {
    "name": "ipython",
    "version": 3
   },
   "file_extension": ".py",
   "mimetype": "text/x-python",
   "name": "python",
   "nbconvert_exporter": "python",
   "pygments_lexer": "ipython3",
   "version": "3.8.12"
  }
 },
 "nbformat": 4,
 "nbformat_minor": 5
}
