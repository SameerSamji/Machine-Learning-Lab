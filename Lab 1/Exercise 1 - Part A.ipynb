{
 "cells": [
  {
   "cell_type": "markdown",
   "id": "bb9bddc8-2529-441f-ac56-7bd88090f368",
   "metadata": {},
   "source": [
    "### Importing NLTK Packages"
   ]
  },
  {
   "cell_type": "code",
   "execution_count": 1,
   "id": "d4d55e4d-01de-4f0c-bcdd-150533ca77e8",
   "metadata": {},
   "outputs": [],
   "source": [
    "from nltk.tokenize import word_tokenize\n",
    "from nltk.corpus import stopwords\n",
    "import pandas as pd"
   ]
  },
  {
   "cell_type": "markdown",
   "id": "10f23e46-cd03-41e9-a866-33504c837ead",
   "metadata": {},
   "source": [
    "### Function to tokenize string into the list of words"
   ]
  },
  {
   "cell_type": "code",
   "execution_count": 2,
   "id": "1d37f405-b189-4e34-b45f-a44df59901fc",
   "metadata": {},
   "outputs": [],
   "source": [
    "def tokenize_string(line):\n",
    "    # Word_tokensize function split the string on the \n",
    "    # basis of spaces and returns a list of words\n",
    "    return word_tokenize(line)"
   ]
  },
  {
   "cell_type": "markdown",
   "id": "71fbbbef-6de8-498a-9414-967834da7885",
   "metadata": {},
   "source": [
    "### Function to remove all the English stopword from the given list of words"
   ]
  },
  {
   "cell_type": "code",
   "execution_count": 3,
   "id": "bf480fc2-ac66-4628-a4a4-4ba68cebbd57",
   "metadata": {},
   "outputs": [],
   "source": [
    "def remove_stopwords(line):\n",
    "    #Iterates over the list of words and keep only those words which are not part of English stopwords Set\n",
    "    result = [word for word in line if word not in stopwords.words('english')]\n",
    "    return result"
   ]
  },
  {
   "cell_type": "markdown",
   "id": "2bd46a71-bd90-4ea0-8716-527468b7ec5b",
   "metadata": {},
   "source": [
    "### Function to update dictionary which maintains unique word count\n",
    "This function checks if word already exist in our dictionary.If the word exist then it increase it count otherwise it creates its new entry and initialize it with 1"
   ]
  },
  {
   "cell_type": "code",
   "execution_count": 4,
   "id": "1f2ce83e-bfbe-430b-88c4-04a75c31fb62",
   "metadata": {},
   "outputs": [],
   "source": [
    "def update_dictionary(dict,line):\n",
    "    for word in line:\n",
    "        \n",
    "        #Removes any punctuation or special characters from the String\n",
    "        alphanumeric_word = ''.join(c for c in word if c.isalnum())\n",
    "        \n",
    "        #Checks if word already exist in the dictionary then it increment its count otherwise creates a new entry\n",
    "        if len(alphanumeric_word) > 0 and alphanumeric_word in dict:\n",
    "            dict[alphanumeric_word] += 1\n",
    "        elif len(alphanumeric_word) > 0:\n",
    "            dict[alphanumeric_word] = 1\n",
    "    \n",
    "    return dict"
   ]
  },
  {
   "cell_type": "markdown",
   "id": "035603bc-0e43-4282-bf1b-7d5fd07ce14e",
   "metadata": {},
   "source": [
    "### Reading the input file and converting text into wordcount dictionary"
   ]
  },
  {
   "cell_type": "code",
   "execution_count": 5,
   "id": "10601b2c-2903-4809-b467-b05c78e7f6b6",
   "metadata": {},
   "outputs": [],
   "source": [
    "#Initializing an empty Dictionary\n",
    "word_count = dict()"
   ]
  },
  {
   "cell_type": "code",
   "execution_count": 6,
   "id": "b7f3a7fd-5278-4970-8e02-f2bfafd17f9c",
   "metadata": {},
   "outputs": [],
   "source": [
    "#Opening and Reading the text file line by line\n",
    "with open('random_text.txt') as text:\n",
    "    line = text.readline()\n",
    "    while line:\n",
    "        #If the line is an empty String then skipping that line\n",
    "        if len(line.strip()) > 0:\n",
    "            \n",
    "            #Lower the String, tokenize the String and then removes all stopwords\n",
    "            words = remove_stopwords(tokenize_string(line.lower()))\n",
    "            \n",
    "            #Updates our word count dictionary\n",
    "            word_count = update_dictionary(word_count,words)\n",
    "        line = text.readline()"
   ]
  },
  {
   "cell_type": "markdown",
   "id": "93a60a62-cceb-4593-ae3e-dd3b8a2fddd6",
   "metadata": {},
   "source": [
    "### Sorting the dictionary in the descending order\n",
    "We are Sorting the word count dictionary based on our value which is our word frequency. To get the most occurring words, we sort the dictionary in descending order"
   ]
  },
  {
   "cell_type": "code",
   "execution_count": 7,
   "id": "bbc65b63-b9b1-409e-b263-ce87b4be049f",
   "metadata": {},
   "outputs": [
    {
     "name": "stdout",
     "output_type": "stream",
     "text": [
      "Total Number of Unique Words: 148\n",
      "\n"
     ]
    },
    {
     "data": {
      "text/plain": [
       "sed          12\n",
       "ante          9\n",
       "eu            9\n",
       "sit           8\n",
       "amet          8\n",
       "             ..\n",
       "dictumst      1\n",
       "proin         1\n",
       "nibh          1\n",
       "vulputate     1\n",
       "dictum        1\n",
       "Name: Word_Frequency, Length: 148, dtype: int64"
      ]
     },
     "execution_count": 7,
     "metadata": {},
     "output_type": "execute_result"
    }
   ],
   "source": [
    "#Sorting the word count dictionary in descending order on the bases of word frequency\n",
    "sorted_word_count = {word:word_count[word] for word in sorted(word_count, key=word_count.get, reverse=True)}\n",
    "\n",
    "#Printing the Output of Unique Words\n",
    "print('Total Number of Unique Words: {}\\n'.format(len(sorted_word_count.keys())))\n",
    "pd.Series(sorted_word_count,name='Word_Frequency')"
   ]
  },
  {
   "cell_type": "markdown",
   "id": "43b300fb-02ef-4bd4-9f54-448e3c2d56e0",
   "metadata": {},
   "source": [
    "### Extracting top 5 most frequent words from the sorted wordcount dictionary"
   ]
  },
  {
   "cell_type": "code",
   "execution_count": 8,
   "id": "b2226837-db59-4357-8b80-342bdec0b98a",
   "metadata": {},
   "outputs": [
    {
     "name": "stdout",
     "output_type": "stream",
     "text": [
      "Top 5 most frequent occurring words are:\n",
      "\n"
     ]
    },
    {
     "data": {
      "text/plain": [
       "sed     12\n",
       "ante     9\n",
       "eu       9\n",
       "sit      8\n",
       "amet     8\n",
       "Name: Word_Frequency, dtype: int64"
      ]
     },
     "execution_count": 8,
     "metadata": {},
     "output_type": "execute_result"
    }
   ],
   "source": [
    "#Extracting top 5 most occuring words from the already sorted word count dictionary\n",
    "top_5_words = {word: sorted_word_count[word] for word in dict(list(sorted_word_count.items())[:5])}\n",
    "\n",
    "#Print the Output for Top 5 Most Occuring words\n",
    "print('Top 5 most frequent occurring words are:\\n')\n",
    "pd.Series(top_5_words,name='Word_Frequency')"
   ]
  },
  {
   "cell_type": "markdown",
   "id": "5328f569-b02b-4162-805d-9de63f3ccca2",
   "metadata": {},
   "source": [
    "### Plotting the top 5 most frequent words as a Bar plot"
   ]
  },
  {
   "cell_type": "code",
   "execution_count": 9,
   "id": "600b0d62-e0ac-40da-959b-bea7b48b76db",
   "metadata": {},
   "outputs": [],
   "source": [
    "import matplotlib.pyplot as plt"
   ]
  },
  {
   "cell_type": "code",
   "execution_count": 10,
   "id": "ecf1a459-a9eb-44cf-bc9e-639302e87356",
   "metadata": {},
   "outputs": [
    {
     "data": {
      "image/png": "[encoded data removed]",
      "text/plain": [
       "<Figure size 432x288 with 1 Axes>"
      ]
     },
     "metadata": {
      "needs_background": "light"
     },
     "output_type": "display_data"
    }
   ],
   "source": [
    "plt.bar(top_5_words.keys(),top_5_words.values())\n",
    "plt.xlabel('Words')\n",
    "plt.ylabel('Frequency')\n",
    "plt.title('Top 5 Most Frequent Occurring Words')\n",
    "plt.show()"
   ]
  }
 ],
 "metadata": {
  "kernelspec": {
   "display_name": "Python 3 (ipykernel)",
   "language": "python",
   "name": "python3"
  },
  "language_info": {
   "codemirror_mode": {
    "name": "ipython",
    "version": 3
   },
   "file_extension": ".py",
   "mimetype": "text/x-python",
   "name": "python",
   "nbconvert_exporter": "python",
   "pygments_lexer": "ipython3",
   "version": "3.8.12"
  }
 },
 "nbformat": 4,
 "nbformat_minor": 5
}
