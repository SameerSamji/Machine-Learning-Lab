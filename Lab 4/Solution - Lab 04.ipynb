{
 "cells": [
  {
   "cell_type": "markdown",
   "id": "cc14a9bf-d44e-4da4-b8c3-ad013f9af857",
   "metadata": {},
   "source": [
    "<h1 align='center'>Machine Learning Lab</h1>\n",
    "<h3 align='center'>Lab 04</h3>"
   ]
  },
  {
   "cell_type": "markdown",
   "id": "27b8313a-cb49-4480-a106-4e3236b6c836",
   "metadata": {},
   "source": [
    "### Exercise 0: Dataset preprocessing"
   ]
  },
  {
   "cell_type": "markdown",
   "id": "b02c0092-c412-4cf0-ae81-9382382ac164",
   "metadata": {},
   "source": [
    "#### Importing Packages"
   ]
  },
  {
   "cell_type": "code",
   "execution_count": 1,
   "id": "9cf01edd-17b7-4f3c-a58d-10c6db44b11d",
   "metadata": {},
   "outputs": [],
   "source": [
    "import pandas as pd                    #Importing Pandas\n",
    "import numpy as np                     #Importing Numpy\n",
    "import seaborn as sns                  #Importing Seaborn\n",
    "import matplotlib.pyplot as plt        #Importing Matplotlib"
   ]
  },
  {
   "cell_type": "markdown",
   "id": "dc8c384d-c07d-438a-b42a-555d639b5138",
   "metadata": {},
   "source": [
    "#### Reading Tic Tac Toe Dataset"
   ]
  },
  {
   "cell_type": "code",
   "execution_count": 2,
   "id": "b8a5472d-30b6-48d9-89b1-69dd515858cf",
   "metadata": {},
   "outputs": [
    {
     "data": {
      "text/html": [
       "<div>\n",
       "<style scoped>\n",
       "    .dataframe tbody tr th:only-of-type {\n",
       "        vertical-align: middle;\n",
       "    }\n",
       "\n",
       "    .dataframe tbody tr th {\n",
       "        vertical-align: top;\n",
       "    }\n",
       "\n",
       "    .dataframe thead th {\n",
       "        text-align: right;\n",
       "    }\n",
       "</style>\n",
       "<table border=\"1\" class=\"dataframe\">\n",
       "  <thead>\n",
       "    <tr style=\"text-align: right;\">\n",
       "      <th></th>\n",
       "      <th>top-left-square</th>\n",
       "      <th>top-middle-square</th>\n",
       "      <th>top-right-square</th>\n",
       "      <th>middle-left-square</th>\n",
       "      <th>middle-middle-square</th>\n",
       "      <th>middle-right-square</th>\n",
       "      <th>bottom-left-square</th>\n",
       "      <th>bottom-middle-square</th>\n",
       "      <th>bottom-right-square</th>\n",
       "      <th>Class</th>\n",
       "    </tr>\n",
       "  </thead>\n",
       "  <tbody>\n",
       "    <tr>\n",
       "      <th>0</th>\n",
       "      <td>x</td>\n",
       "      <td>x</td>\n",
       "      <td>x</td>\n",
       "      <td>x</td>\n",
       "      <td>o</td>\n",
       "      <td>o</td>\n",
       "      <td>x</td>\n",
       "      <td>o</td>\n",
       "      <td>o</td>\n",
       "      <td>positive</td>\n",
       "    </tr>\n",
       "    <tr>\n",
       "      <th>1</th>\n",
       "      <td>x</td>\n",
       "      <td>x</td>\n",
       "      <td>x</td>\n",
       "      <td>x</td>\n",
       "      <td>o</td>\n",
       "      <td>o</td>\n",
       "      <td>o</td>\n",
       "      <td>x</td>\n",
       "      <td>o</td>\n",
       "      <td>positive</td>\n",
       "    </tr>\n",
       "    <tr>\n",
       "      <th>2</th>\n",
       "      <td>x</td>\n",
       "      <td>x</td>\n",
       "      <td>x</td>\n",
       "      <td>x</td>\n",
       "      <td>o</td>\n",
       "      <td>o</td>\n",
       "      <td>o</td>\n",
       "      <td>o</td>\n",
       "      <td>x</td>\n",
       "      <td>positive</td>\n",
       "    </tr>\n",
       "    <tr>\n",
       "      <th>3</th>\n",
       "      <td>x</td>\n",
       "      <td>x</td>\n",
       "      <td>x</td>\n",
       "      <td>x</td>\n",
       "      <td>o</td>\n",
       "      <td>o</td>\n",
       "      <td>o</td>\n",
       "      <td>b</td>\n",
       "      <td>b</td>\n",
       "      <td>positive</td>\n",
       "    </tr>\n",
       "    <tr>\n",
       "      <th>4</th>\n",
       "      <td>x</td>\n",
       "      <td>x</td>\n",
       "      <td>x</td>\n",
       "      <td>x</td>\n",
       "      <td>o</td>\n",
       "      <td>o</td>\n",
       "      <td>b</td>\n",
       "      <td>o</td>\n",
       "      <td>b</td>\n",
       "      <td>positive</td>\n",
       "    </tr>\n",
       "  </tbody>\n",
       "</table>\n",
       "</div>"
      ],
      "text/plain": [
       "  top-left-square top-middle-square top-right-square middle-left-square  \\\n",
       "0               x                 x                x                  x   \n",
       "1               x                 x                x                  x   \n",
       "2               x                 x                x                  x   \n",
       "3               x                 x                x                  x   \n",
       "4               x                 x                x                  x   \n",
       "\n",
       "  middle-middle-square middle-right-square bottom-left-square  \\\n",
       "0                    o                   o                  x   \n",
       "1                    o                   o                  o   \n",
       "2                    o                   o                  o   \n",
       "3                    o                   o                  o   \n",
       "4                    o                   o                  b   \n",
       "\n",
       "  bottom-middle-square bottom-right-square     Class  \n",
       "0                    o                   o  positive  \n",
       "1                    x                   o  positive  \n",
       "2                    o                   x  positive  \n",
       "3                    b                   b  positive  \n",
       "4                    o                   b  positive  "
      ]
     },
     "execution_count": 2,
     "metadata": {},
     "output_type": "execute_result"
    }
   ],
   "source": [
    "tic_tac_toe = pd.read_csv('tic-tac-toe.data',header=None)\n",
    "\n",
    "#Replacing the Column names with more descriptive names\n",
    "tic_tac_toe.columns = ['top-left-square','top-middle-square','top-right-square','middle-left-square','middle-middle-square',\n",
    "                      'middle-right-square','bottom-left-square','bottom-middle-square','bottom-right-square','Class']\n",
    "tic_tac_toe.head()"
   ]
  },
  {
   "cell_type": "markdown",
   "id": "bdf20e99-b317-4bab-bba1-53422c670b56",
   "metadata": {},
   "source": [
    "#### Converting any non-numeric values to numeric values."
   ]
  },
  {
   "cell_type": "code",
   "execution_count": 3,
   "id": "d6ae449c-4962-40d8-9c5f-6ffbd42b44c2",
   "metadata": {},
   "outputs": [
    {
     "data": {
      "text/html": [
       "<div>\n",
       "<style scoped>\n",
       "    .dataframe tbody tr th:only-of-type {\n",
       "        vertical-align: middle;\n",
       "    }\n",
       "\n",
       "    .dataframe tbody tr th {\n",
       "        vertical-align: top;\n",
       "    }\n",
       "\n",
       "    .dataframe thead th {\n",
       "        text-align: right;\n",
       "    }\n",
       "</style>\n",
       "<table border=\"1\" class=\"dataframe\">\n",
       "  <thead>\n",
       "    <tr style=\"text-align: right;\">\n",
       "      <th></th>\n",
       "      <th>top-left-square</th>\n",
       "      <th>top-middle-square</th>\n",
       "      <th>top-right-square</th>\n",
       "      <th>middle-left-square</th>\n",
       "      <th>middle-middle-square</th>\n",
       "      <th>middle-right-square</th>\n",
       "      <th>bottom-left-square</th>\n",
       "      <th>bottom-middle-square</th>\n",
       "      <th>bottom-right-square</th>\n",
       "      <th>Class</th>\n",
       "    </tr>\n",
       "  </thead>\n",
       "  <tbody>\n",
       "    <tr>\n",
       "      <th>0</th>\n",
       "      <td>x</td>\n",
       "      <td>x</td>\n",
       "      <td>x</td>\n",
       "      <td>x</td>\n",
       "      <td>o</td>\n",
       "      <td>o</td>\n",
       "      <td>x</td>\n",
       "      <td>o</td>\n",
       "      <td>o</td>\n",
       "      <td>0</td>\n",
       "    </tr>\n",
       "    <tr>\n",
       "      <th>1</th>\n",
       "      <td>x</td>\n",
       "      <td>x</td>\n",
       "      <td>x</td>\n",
       "      <td>x</td>\n",
       "      <td>o</td>\n",
       "      <td>o</td>\n",
       "      <td>o</td>\n",
       "      <td>x</td>\n",
       "      <td>o</td>\n",
       "      <td>0</td>\n",
       "    </tr>\n",
       "    <tr>\n",
       "      <th>2</th>\n",
       "      <td>x</td>\n",
       "      <td>x</td>\n",
       "      <td>x</td>\n",
       "      <td>x</td>\n",
       "      <td>o</td>\n",
       "      <td>o</td>\n",
       "      <td>o</td>\n",
       "      <td>o</td>\n",
       "      <td>x</td>\n",
       "      <td>0</td>\n",
       "    </tr>\n",
       "    <tr>\n",
       "      <th>3</th>\n",
       "      <td>x</td>\n",
       "      <td>x</td>\n",
       "      <td>x</td>\n",
       "      <td>x</td>\n",
       "      <td>o</td>\n",
       "      <td>o</td>\n",
       "      <td>o</td>\n",
       "      <td>b</td>\n",
       "      <td>b</td>\n",
       "      <td>0</td>\n",
       "    </tr>\n",
       "    <tr>\n",
       "      <th>4</th>\n",
       "      <td>x</td>\n",
       "      <td>x</td>\n",
       "      <td>x</td>\n",
       "      <td>x</td>\n",
       "      <td>o</td>\n",
       "      <td>o</td>\n",
       "      <td>b</td>\n",
       "      <td>o</td>\n",
       "      <td>b</td>\n",
       "      <td>0</td>\n",
       "    </tr>\n",
       "  </tbody>\n",
       "</table>\n",
       "</div>"
      ],
      "text/plain": [
       "  top-left-square top-middle-square top-right-square middle-left-square  \\\n",
       "0               x                 x                x                  x   \n",
       "1               x                 x                x                  x   \n",
       "2               x                 x                x                  x   \n",
       "3               x                 x                x                  x   \n",
       "4               x                 x                x                  x   \n",
       "\n",
       "  middle-middle-square middle-right-square bottom-left-square  \\\n",
       "0                    o                   o                  x   \n",
       "1                    o                   o                  o   \n",
       "2                    o                   o                  o   \n",
       "3                    o                   o                  o   \n",
       "4                    o                   o                  b   \n",
       "\n",
       "  bottom-middle-square bottom-right-square  Class  \n",
       "0                    o                   o      0  \n",
       "1                    x                   o      0  \n",
       "2                    o                   x      0  \n",
       "3                    b                   b      0  \n",
       "4                    o                   b      0  "
      ]
     },
     "execution_count": 3,
     "metadata": {},
     "output_type": "execute_result"
    }
   ],
   "source": [
    "#Converting the Class column to numeric column using label transformation\n",
    "tic_tac_toe.loc[:,'Class'] = pd.factorize(tic_tac_toe['Class'])[0].reshape(-1,1)\n",
    "tic_tac_toe.head()"
   ]
  },
  {
   "cell_type": "raw",
   "id": "0995c9ba-0935-42b9-a5ac-73e4ce9d7957",
   "metadata": {},
   "source": [
    "The Reason why I used Label transformation for the Class column is because the class can have only two specified values i.e. Positive and Negative.So it is good approach to map each class to specific number, in this case 0 and 1"
   ]
  },
  {
   "cell_type": "code",
   "execution_count": 4,
   "id": "d9f1bf4d-1ab6-42fa-a789-69724a8d6d46",
   "metadata": {},
   "outputs": [
    {
     "data": {
      "text/html": [
       "<div>\n",
       "<style scoped>\n",
       "    .dataframe tbody tr th:only-of-type {\n",
       "        vertical-align: middle;\n",
       "    }\n",
       "\n",
       "    .dataframe tbody tr th {\n",
       "        vertical-align: top;\n",
       "    }\n",
       "\n",
       "    .dataframe thead th {\n",
       "        text-align: right;\n",
       "    }\n",
       "</style>\n",
       "<table border=\"1\" class=\"dataframe\">\n",
       "  <thead>\n",
       "    <tr style=\"text-align: right;\">\n",
       "      <th></th>\n",
       "      <th>Class</th>\n",
       "      <th>top-left-square_b</th>\n",
       "      <th>top-left-square_o</th>\n",
       "      <th>top-left-square_x</th>\n",
       "      <th>top-middle-square_b</th>\n",
       "      <th>top-middle-square_o</th>\n",
       "      <th>top-middle-square_x</th>\n",
       "      <th>top-right-square_b</th>\n",
       "      <th>top-right-square_o</th>\n",
       "      <th>top-right-square_x</th>\n",
       "      <th>...</th>\n",
       "      <th>middle-right-square_x</th>\n",
       "      <th>bottom-left-square_b</th>\n",
       "      <th>bottom-left-square_o</th>\n",
       "      <th>bottom-left-square_x</th>\n",
       "      <th>bottom-middle-square_b</th>\n",
       "      <th>bottom-middle-square_o</th>\n",
       "      <th>bottom-middle-square_x</th>\n",
       "      <th>bottom-right-square_b</th>\n",
       "      <th>bottom-right-square_o</th>\n",
       "      <th>bottom-right-square_x</th>\n",
       "    </tr>\n",
       "  </thead>\n",
       "  <tbody>\n",
       "    <tr>\n",
       "      <th>0</th>\n",
       "      <td>0</td>\n",
       "      <td>0</td>\n",
       "      <td>0</td>\n",
       "      <td>1</td>\n",
       "      <td>0</td>\n",
       "      <td>0</td>\n",
       "      <td>1</td>\n",
       "      <td>0</td>\n",
       "      <td>0</td>\n",
       "      <td>1</td>\n",
       "      <td>...</td>\n",
       "      <td>0</td>\n",
       "      <td>0</td>\n",
       "      <td>0</td>\n",
       "      <td>1</td>\n",
       "      <td>0</td>\n",
       "      <td>1</td>\n",
       "      <td>0</td>\n",
       "      <td>0</td>\n",
       "      <td>1</td>\n",
       "      <td>0</td>\n",
       "    </tr>\n",
       "    <tr>\n",
       "      <th>1</th>\n",
       "      <td>0</td>\n",
       "      <td>0</td>\n",
       "      <td>0</td>\n",
       "      <td>1</td>\n",
       "      <td>0</td>\n",
       "      <td>0</td>\n",
       "      <td>1</td>\n",
       "      <td>0</td>\n",
       "      <td>0</td>\n",
       "      <td>1</td>\n",
       "      <td>...</td>\n",
       "      <td>0</td>\n",
       "      <td>0</td>\n",
       "      <td>1</td>\n",
       "      <td>0</td>\n",
       "      <td>0</td>\n",
       "      <td>0</td>\n",
       "      <td>1</td>\n",
       "      <td>0</td>\n",
       "      <td>1</td>\n",
       "      <td>0</td>\n",
       "    </tr>\n",
       "    <tr>\n",
       "      <th>2</th>\n",
       "      <td>0</td>\n",
       "      <td>0</td>\n",
       "      <td>0</td>\n",
       "      <td>1</td>\n",
       "      <td>0</td>\n",
       "      <td>0</td>\n",
       "      <td>1</td>\n",
       "      <td>0</td>\n",
       "      <td>0</td>\n",
       "      <td>1</td>\n",
       "      <td>...</td>\n",
       "      <td>0</td>\n",
       "      <td>0</td>\n",
       "      <td>1</td>\n",
       "      <td>0</td>\n",
       "      <td>0</td>\n",
       "      <td>1</td>\n",
       "      <td>0</td>\n",
       "      <td>0</td>\n",
       "      <td>0</td>\n",
       "      <td>1</td>\n",
       "    </tr>\n",
       "    <tr>\n",
       "      <th>3</th>\n",
       "      <td>0</td>\n",
       "      <td>0</td>\n",
       "      <td>0</td>\n",
       "      <td>1</td>\n",
       "      <td>0</td>\n",
       "      <td>0</td>\n",
       "      <td>1</td>\n",
       "      <td>0</td>\n",
       "      <td>0</td>\n",
       "      <td>1</td>\n",
       "      <td>...</td>\n",
       "      <td>0</td>\n",
       "      <td>0</td>\n",
       "      <td>1</td>\n",
       "      <td>0</td>\n",
       "      <td>1</td>\n",
       "      <td>0</td>\n",
       "      <td>0</td>\n",
       "      <td>1</td>\n",
       "      <td>0</td>\n",
       "      <td>0</td>\n",
       "    </tr>\n",
       "    <tr>\n",
       "      <th>4</th>\n",
       "      <td>0</td>\n",
       "      <td>0</td>\n",
       "      <td>0</td>\n",
       "      <td>1</td>\n",
       "      <td>0</td>\n",
       "      <td>0</td>\n",
       "      <td>1</td>\n",
       "      <td>0</td>\n",
       "      <td>0</td>\n",
       "      <td>1</td>\n",
       "      <td>...</td>\n",
       "      <td>0</td>\n",
       "      <td>1</td>\n",
       "      <td>0</td>\n",
       "      <td>0</td>\n",
       "      <td>0</td>\n",
       "      <td>1</td>\n",
       "      <td>0</td>\n",
       "      <td>1</td>\n",
       "      <td>0</td>\n",
       "      <td>0</td>\n",
       "    </tr>\n",
       "  </tbody>\n",
       "</table>\n",
       "<p>5 rows × 28 columns</p>\n",
       "</div>"
      ],
      "text/plain": [
       "   Class  top-left-square_b  top-left-square_o  top-left-square_x  \\\n",
       "0      0                  0                  0                  1   \n",
       "1      0                  0                  0                  1   \n",
       "2      0                  0                  0                  1   \n",
       "3      0                  0                  0                  1   \n",
       "4      0                  0                  0                  1   \n",
       "\n",
       "   top-middle-square_b  top-middle-square_o  top-middle-square_x  \\\n",
       "0                    0                    0                    1   \n",
       "1                    0                    0                    1   \n",
       "2                    0                    0                    1   \n",
       "3                    0                    0                    1   \n",
       "4                    0                    0                    1   \n",
       "\n",
       "   top-right-square_b  top-right-square_o  top-right-square_x  ...  \\\n",
       "0                   0                   0                   1  ...   \n",
       "1                   0                   0                   1  ...   \n",
       "2                   0                   0                   1  ...   \n",
       "3                   0                   0                   1  ...   \n",
       "4                   0                   0                   1  ...   \n",
       "\n",
       "   middle-right-square_x  bottom-left-square_b  bottom-left-square_o  \\\n",
       "0                      0                     0                     0   \n",
       "1                      0                     0                     1   \n",
       "2                      0                     0                     1   \n",
       "3                      0                     0                     1   \n",
       "4                      0                     1                     0   \n",
       "\n",
       "   bottom-left-square_x  bottom-middle-square_b  bottom-middle-square_o  \\\n",
       "0                     1                       0                       1   \n",
       "1                     0                       0                       0   \n",
       "2                     0                       0                       1   \n",
       "3                     0                       1                       0   \n",
       "4                     0                       0                       1   \n",
       "\n",
       "   bottom-middle-square_x  bottom-right-square_b  bottom-right-square_o  \\\n",
       "0                       0                      0                      1   \n",
       "1                       1                      0                      1   \n",
       "2                       0                      0                      0   \n",
       "3                       0                      1                      0   \n",
       "4                       0                      1                      0   \n",
       "\n",
       "   bottom-right-square_x  \n",
       "0                      0  \n",
       "1                      0  \n",
       "2                      1  \n",
       "3                      0  \n",
       "4                      0  \n",
       "\n",
       "[5 rows x 28 columns]"
      ]
     },
     "execution_count": 4,
     "metadata": {},
     "output_type": "execute_result"
    }
   ],
   "source": [
    "#Converting all the other columns except Class to numeric column using Hot one encoding\n",
    "tic_tac_toe = pd.get_dummies(tic_tac_toe,columns=tic_tac_toe.columns[:-1])\n",
    "tic_tac_toe.head()"
   ]
  },
  {
   "cell_type": "raw",
   "id": "b32d05b2-8f65-4228-b0b1-aa42ae381902",
   "metadata": {},
   "source": [
    "Since all the columns are non numeric, so I am using Hot one encoding to transform each column into multiple numeric columns so that we can train our model more easily."
   ]
  },
  {
   "cell_type": "markdown",
   "id": "d42f3c7b-0631-418b-ad9f-8c0204f43d26",
   "metadata": {},
   "source": [
    "#### Checking the Data Imbalance and Implementing Stratified Sampling Methodology"
   ]
  },
  {
   "cell_type": "markdown",
   "id": "8791e8e5-7e38-4acf-8c34-ed0fe24cd50e",
   "metadata": {},
   "source": [
    "##### Plotting the Count Plot of different classes to show how much data imbalance is present"
   ]
  },
  {
   "cell_type": "code",
   "execution_count": 5,
   "id": "fccac258-f613-4bed-bfb1-8788838b0af0",
   "metadata": {},
   "outputs": [
    {
     "data": {
      "image/png": "[encoded data removed]",
      "text/plain": [
       "<Figure size 1080x360 with 1 Axes>"
      ]
     },
     "metadata": {
      "needs_background": "light"
     },
     "output_type": "display_data"
    }
   ],
   "source": [
    "#Using the Count plot from Seaborn to plot frequency of different classes\n",
    "plt.figure(figsize=(15,5))\n",
    "sns.countplot(x='Class',data=tic_tac_toe)\n",
    "plt.title('Class Count Plot')\n",
    "plt.show()"
   ]
  },
  {
   "cell_type": "raw",
   "id": "23ee2408-8f33-4abb-abc1-bf6b4a14af06",
   "metadata": {},
   "source": [
    "The imbalance data reflects how one class dominate the whole dataset and as a result there is unequal distribution of classes.From the above Tic Tac Toe dataset, we can see that Class 0 (Which is Positive class) has more datap points than the negative class.So this is a imbalance dataset and we have to balance it using stratified sampling."
   ]
  },
  {
   "cell_type": "markdown",
   "id": "f5062ce4-4795-481f-a6a9-a91f6badcccb",
   "metadata": {},
   "source": [
    "##### Function to Stratify the dataset and Split it into Train and Test Sets"
   ]
  },
  {
   "cell_type": "raw",
   "id": "5ce26edb-c841-49fe-8f15-e8c9010c1bb3",
   "metadata": {},
   "source": [
    "Stratified Sampling is a techinque which is used to convert imbalance dataset into a balance dataset with each class having the equal distribution.In stratified Sampling we divide our all data points into different groups called Strata and then we pick equally distributed samples from each class to achieve balance in our final dataset."
   ]
  },
  {
   "cell_type": "code",
   "execution_count": 6,
   "id": "78a2c04a-4ab7-402f-a684-a7e2add6b7ee",
   "metadata": {},
   "outputs": [],
   "source": [
    "def stratified_sample_split(df,label,train_size):\n",
    "    #Finding the minimum number of rows for classes\n",
    "    min_sample_size = min(df[label].value_counts())\n",
    "    \n",
    "    #Sampling Positive and Negative Samples from the dataframe with minimum number of rows for each class\n",
    "    positive_samples = df[df[label] == 1].sample(n = min_sample_size , replace = False , ignore_index = True)\n",
    "    negative_samples = df[df[label] == 0].sample(n = min_sample_size , replace = False , ignore_index = True)\n",
    "    \n",
    "    #Combining both Positive and Negative classes to a single stratified Dataframe\n",
    "    stratified_df = pd.concat([positive_samples,negative_samples],ignore_index=True)\n",
    "    \n",
    "    #Shuffling the rows randomly in the stratified dataframe to make data Randomized\n",
    "    stratified_df = stratified_df.sample(frac = 1).reset_index(drop = True)\n",
    "    \n",
    "    #Creating X matrix by removing the label/Target column\n",
    "    X = stratified_df.drop(label,axis=1)\n",
    "    \n",
    "    #Creating Y vector which include only the Label/Target Column\n",
    "    Y = stratified_df[label].to_numpy()\n",
    "    \n",
    "    #Adding a Bias Column in the X Matrix\n",
    "    X = np.append(np.ones(shape=(len(X),1)),X,axis=1)\n",
    "    \n",
    "    #Calculating number of rows to be copied in the Training Set according to specific ratio\n",
    "    total_rows_train = int(len(X)*train_size)\n",
    "    \n",
    "    #Splitting the Dataset into Training set and Test Set based on calculated rows\n",
    "    X_train , X_test = X[:total_rows_train,:] , X[total_rows_train:,:]\n",
    "    Y_train , Y_test = Y[:total_rows_train].reshape(-1,1) , Y[total_rows_train:].reshape(-1,1)\n",
    "    \n",
    "    return X_train, Y_train, X_test, Y_test"
   ]
  },
  {
   "cell_type": "markdown",
   "id": "ae82d6a6-69e6-4ee0-87ca-ce9f16f2d384",
   "metadata": {},
   "source": [
    "##### Spliting Tic Tac Toe Dataset on 80:20 percent Ratio"
   ]
  },
  {
   "cell_type": "code",
   "execution_count": 7,
   "id": "d707d0c0-5470-43a6-a5ac-398b999115de",
   "metadata": {},
   "outputs": [],
   "source": [
    "X_train, Y_train, X_test, Y_test = stratified_sample_split(tic_tac_toe,'Class',0.8)"
   ]
  },
  {
   "cell_type": "markdown",
   "id": "bddd525b-c859-470f-bbcf-b97c54e99d5e",
   "metadata": {},
   "source": [
    "### Exercise 1: Logistic Regression with Gradient Ascent"
   ]
  },
  {
   "cell_type": "code",
   "execution_count": 8,
   "id": "1b9ed69e-02e0-43a1-b2d8-3938f11d6989",
   "metadata": {},
   "outputs": [],
   "source": [
    "#Initializing arrays to store loss difference and Log loss values in different number of Iterations\n",
    "ga_loss_difference_values = np.array([])\n",
    "ga_logloss_values = np.array([])\n",
    "newton_loss_difference_values = np.array([])\n",
    "newton_logloss_values = np.array([])"
   ]
  },
  {
   "cell_type": "markdown",
   "id": "7164f146-86c5-4720-b639-9b412c9d1903",
   "metadata": {},
   "source": [
    "#### Function to calculate the sigmoid of the given vector"
   ]
  },
  {
   "cell_type": "code",
   "execution_count": 9,
   "id": "611aee98-5faa-4cfe-bd1a-41d1bf4a08d0",
   "metadata": {},
   "outputs": [],
   "source": [
    "def sigmoid_function(x):\n",
    "    # sigmoid(x) = 1 / (1 + e^-x)\n",
    "    return (1 / (1 + np.exp(np.negative(x))))"
   ]
  },
  {
   "cell_type": "markdown",
   "id": "80e7dc2d-3718-4b9b-8235-509703a6627e",
   "metadata": {},
   "source": [
    "#### Function to calculate the Loglikelihood Loss"
   ]
  },
  {
   "cell_type": "code",
   "execution_count": 10,
   "id": "b52a5d99-492b-4db7-898a-e2b541856ff3",
   "metadata": {},
   "outputs": [],
   "source": [
    "def loglikelihood_loss(X,Y,B):\n",
    "    # L = summation((Y - Y_pred) - log(1 + e^Y_pred))\n",
    "    return np.sum((Y * sigmoid_function(X @ B)) - np.log(1 + np.exp(sigmoid_function(X @ B))))"
   ]
  },
  {
   "cell_type": "markdown",
   "id": "20ae3030-0c5e-4541-8614-e9142be9288b",
   "metadata": {},
   "source": [
    "#### Function to calculate the Loglikelihood loss difference between current Beta and previous Beta"
   ]
  },
  {
   "cell_type": "code",
   "execution_count": 11,
   "id": "fdd0e81a-baa7-400f-8c66-3f71df712b02",
   "metadata": {},
   "outputs": [],
   "source": [
    "def loss_difference(X,Y,B_old,B_new):\n",
    "    # |L(B_old) - L(B_new)|\n",
    "    return np.abs(loglikelihood_loss(X,Y,B_old) - loglikelihood_loss(X,Y,B_new))"
   ]
  },
  {
   "cell_type": "markdown",
   "id": "24e074aa-f67f-4523-88a6-634dd9872f14",
   "metadata": {},
   "source": [
    "#### Function to calculate the log absolute loss of predicted Y"
   ]
  },
  {
   "cell_type": "code",
   "execution_count": 12,
   "id": "6d8bba6d-b208-4daa-8205-4af1dade3192",
   "metadata": {},
   "outputs": [],
   "source": [
    "def log_loss(X,Y,B):\n",
    "    # Log Loss = |loglokelihood_loss(X,Y,B)|\n",
    "    return np.abs(loglikelihood_loss(X,Y,B))"
   ]
  },
  {
   "cell_type": "markdown",
   "id": "2f04d4b5-7a65-448b-8621-1194e0c3a6d6",
   "metadata": {},
   "source": [
    "#### Function which returns the gradient of Loss function"
   ]
  },
  {
   "cell_type": "code",
   "execution_count": 13,
   "id": "bd003bde-4c80-4544-8ed7-33bdc373390b",
   "metadata": {},
   "outputs": [],
   "source": [
    "def dL(X,Y,B):\n",
    "    # Derivative of Loss = X^T * (Y - Y_pred)\n",
    "    return X.T @ (np.subtract(Y,sigmoid_function(X @ B)))"
   ]
  },
  {
   "cell_type": "markdown",
   "id": "b959bdd0-2f4c-4b6c-997d-0954280ce94c",
   "metadata": {},
   "source": [
    "#### Function to calculate optimum learning rate using Bold Driver Algorithm"
   ]
  },
  {
   "cell_type": "code",
   "execution_count": 14,
   "id": "26c545bf-e3f4-41bf-829b-ddfe32e7eb42",
   "metadata": {},
   "outputs": [],
   "source": [
    "def steplength_bolddriver(X,Y,B,alpha_old,alpha_plus,alpha_minus):\n",
    "    #Increasing alpha value using alpha+\n",
    "    alpha = alpha_old*alpha_plus\n",
    "    \n",
    "    #Iterating until following condition is meet:\n",
    "    #f(x + µd) - f(x) < 0\n",
    "    while(loglikelihood_loss(X,Y,B + (alpha * dL(X,Y,B))) - loglikelihood_loss(X,Y,B) < 0):\n",
    "        #Slowly Increasing alpha using alpha-\n",
    "        alpha = alpha * alpha_minus\n",
    "    return alpha"
   ]
  },
  {
   "cell_type": "markdown",
   "id": "f6fd9143-53a4-4191-b310-8f65ea025e2b",
   "metadata": {},
   "source": [
    "#### Function to Maximize the Gradient Ascent based on Total Iterations and Learning Rate using Bold Driver Algorithm"
   ]
  },
  {
   "cell_type": "code",
   "execution_count": 15,
   "id": "cf1408cd-26c0-4df6-a04b-34d350897e72",
   "metadata": {},
   "outputs": [],
   "source": [
    "def learn_logreg_GA(X_train,Y_train,X_test,Y_test,imax,epsilon):\n",
    "    #Using global arrays to store loss difference and rmse values for different Iterations\n",
    "    global ga_loss_difference_values , ga_logloss_values\n",
    "    \n",
    "    #Emptying both Loss difference and RMSE arrays\n",
    "    ga_loss_difference_values , ga_logloss_values = np.array([]) , np.array([])\n",
    "    \n",
    "    #Initializing beta vector with zeros\n",
    "    beta = np.zeros(shape=(len(X_train[0]),1))\n",
    "    \n",
    "    #Initializing initial alpha value for Bold Driver algorithm\n",
    "    alpha = 5e-5\n",
    "    for i in range(imax):\n",
    "        #Calculating new alpha/step length value using Bold Driver Algorithm\n",
    "        alpha = steplength_bolddriver(X_train,Y_train,beta,alpha,1,0.5)\n",
    "        \n",
    "        #Calculating new Beta values from previous beta values and gradient ascent direction\n",
    "        #Beta = Beta + learning_rate * gradient ascent based on Beta\n",
    "        beta_ = beta + (alpha * dL(X_train,Y_train,beta))\n",
    "        \n",
    "         #Appending Loss difference between between previous and new Beta\n",
    "        ga_loss_difference_values = np.append(ga_loss_difference_values,loss_difference(X_train,Y_train,beta,beta_))\n",
    "        \n",
    "        #Appending RMSE loss between actual Y and Predicted Y\n",
    "        ga_logloss_values = np.append(ga_logloss_values,log_loss(X_test,Y_test,beta_))\n",
    "        \n",
    "        #Checking the Stopping Condition by comparing loss on previous and current beta\n",
    "        if loglikelihood_loss(X_train,Y_train,beta_) - loglikelihood_loss(X_train,Y_train,beta) < epsilon:\n",
    "            return beta_\n",
    "        \n",
    "        #Copying new Beta value to old Beta value for Further Calculation\n",
    "        beta = np.copy(beta_)\n",
    "    return beta_"
   ]
  },
  {
   "cell_type": "markdown",
   "id": "0c730aba-3779-4992-bcab-059753cca21b",
   "metadata": {},
   "source": [
    "#### Calculating new Beta values using gradient ascent function and 1000 iterations"
   ]
  },
  {
   "cell_type": "code",
   "execution_count": 16,
   "id": "a1dab7d7-e9b4-42b3-b64f-a0af81ecbd61",
   "metadata": {},
   "outputs": [],
   "source": [
    "beta = learn_logreg_GA(X_train,Y_train,X_test,Y_test,1000,10**-5)"
   ]
  },
  {
   "cell_type": "markdown",
   "id": "e948ae80-d4b0-4f0a-8525-061abceaa212",
   "metadata": {},
   "source": [
    "#### Plotting Loss difference and Log loss after Gradient Ascent"
   ]
  },
  {
   "cell_type": "markdown",
   "id": "a7241a83-b2f8-4cca-a91f-d9fbe1bdd3a4",
   "metadata": {},
   "source": [
    "##### Graph of Loss Difference"
   ]
  },
  {
   "cell_type": "code",
   "execution_count": 17,
   "id": "0caffb67-18bd-47ba-9ef0-7d7e1e0e5d5d",
   "metadata": {},
   "outputs": [
    {
     "data": {
      "text/plain": [
       "Text(0, 0.5, 'Loss Difference')"
      ]
     },
     "execution_count": 17,
     "metadata": {},
     "output_type": "execute_result"
    },
    {
     "data": {
      "image/png": "[encoded data removed]",
      "text/plain": [
       "<Figure size 1080x360 with 1 Axes>"
      ]
     },
     "metadata": {
      "needs_background": "light"
     },
     "output_type": "display_data"
    }
   ],
   "source": [
    "fig = plt.figure(figsize=(15,5))\n",
    "ax = fig.add_subplot(111)\n",
    "ax.plot([i for i in range(len(ga_loss_difference_values))],ga_loss_difference_values)\n",
    "ax.set_title('Graph of Loss Difference |f(xi−1)−f(xi)| with Respect to 1000 Iterations')\n",
    "ax.set_xlabel('Number of Iterations')\n",
    "ax.set_ylabel('Loss Difference')"
   ]
  },
  {
   "cell_type": "raw",
   "id": "dbaac9a8-3da5-42e4-bceb-66b0163c99bf",
   "metadata": {},
   "source": [
    "The above graph shows that our loss difference is decreasing as the number of iterations are increased."
   ]
  },
  {
   "cell_type": "markdown",
   "id": "9e45a9fa-1895-4e4c-b3f3-269f64763f26",
   "metadata": {},
   "source": [
    "##### Graph of Log Loss"
   ]
  },
  {
   "cell_type": "code",
   "execution_count": 18,
   "id": "78bb9e0a-3aec-4fcd-968d-d60fb6fea690",
   "metadata": {},
   "outputs": [
    {
     "data": {
      "text/plain": [
       "Text(0, 0.5, 'Log Loss')"
      ]
     },
     "execution_count": 18,
     "metadata": {},
     "output_type": "execute_result"
    },
    {
     "data": {
      "image/png": "[encoded data removed]",
      "text/plain": [
       "<Figure size 1080x360 with 1 Axes>"
      ]
     },
     "metadata": {
      "needs_background": "light"
     },
     "output_type": "display_data"
    }
   ],
   "source": [
    "fig = plt.figure(figsize=(15,5))\n",
    "ax = fig.add_subplot(111)\n",
    "ax.plot([i for i in range(len(ga_logloss_values))],ga_logloss_values)\n",
    "ax.set_title('Graph of Log loss with Respect to 1000 Iterations')\n",
    "ax.set_xlabel('Number of Iterations')\n",
    "ax.set_ylabel('Log Loss')"
   ]
  },
  {
   "cell_type": "raw",
   "id": "67615df5-ee62-4399-9d82-d612ab37bf67",
   "metadata": {},
   "source": [
    "This graph is also showing that our log loss is decreasing as the number of iterations are increased.The Log loss is decreasing not increasing because we have taken the absolute value of our loglikelihood loss"
   ]
  },
  {
   "cell_type": "markdown",
   "id": "47134861-a43c-48a6-9f09-e9bf35b50b3e",
   "metadata": {},
   "source": [
    "### Exercise 2: Implement Newton Algorithm for Logistic Regression"
   ]
  },
  {
   "cell_type": "markdown",
   "id": "48605e70-7430-40af-a14d-2c4db591642b",
   "metadata": {},
   "source": [
    "#### Function to find Local Minima Using Newton's Algorithm for Logistic  Regression"
   ]
  },
  {
   "cell_type": "code",
   "execution_count": 19,
   "id": "5d59c842-beec-41b3-b969-8f4baed0992f",
   "metadata": {},
   "outputs": [],
   "source": [
    "def minimize_newton(X,Y,imax,epsilon):\n",
    "    #Using global arrays to store loss difference and rmse values for different Iterations\n",
    "    global newton_loss_difference_values , newton_logloss_values\n",
    "    \n",
    "    #Emptying both Loss difference and RMSE arrays\n",
    "    newton_loss_difference_values , newton_logloss_values = np.array([]) , np.array([])\n",
    "    \n",
    "    #Initializing beta with Zeros\n",
    "    beta = np.zeros(shape=(len(X[0]),1))\n",
    "    for i in range(imax):\n",
    "        #Calculating the Inverse of Hessian Matrix\n",
    "        #W = diagonal(Y_pred . (1 - Y_pred))\n",
    "        W = np.diag(sigmoid_function(X @ beta.reshape(1,-1)[0]) * (1 - sigmoid_function(X @ beta.reshape(1,-1)[0])))\n",
    "        \n",
    "        #H = X^T * W * X\n",
    "        H = X.T.dot(W).dot(X)\n",
    "        \n",
    "        #H^-1 = inv(H)\n",
    "        H_inv = np.linalg.inv(H)\n",
    "        \n",
    "        #Calculating new Beta values from previous beta values and Newton's Hessian matrix\n",
    "        #Beta = Beta - learning_rate * Hessian Matrix * gradient ascent based on Beta\n",
    "        beta_ = beta + (0.0001 * (H_inv @ dL(X,Y,beta)))\n",
    "        \n",
    "         #Appending Loss difference between between previous and new Beta\n",
    "        newton_loss_difference_values = np.append(newton_loss_difference_values,loss_difference(X,Y,beta,beta_))\n",
    "        \n",
    "        #Appending Log loss for Predicted Y\n",
    "        newton_logloss_values = np.append(newton_logloss_values,log_loss(X_test,Y_test,beta_))\n",
    "        \n",
    "        #Checking the Stopping Condition by comparing loss on previous and current beta\n",
    "        if loglikelihood_loss(X_train,Y_train,beta_) - loglikelihood_loss(X_train,Y_train,beta) < epsilon:\n",
    "            return beta_\n",
    "        \n",
    "        #Copying new Beta value to old Beta value for Further Calculation\n",
    "        beta = np.copy(beta_)\n",
    "    return beta_"
   ]
  },
  {
   "cell_type": "markdown",
   "id": "45f967e7-6acd-47ed-ac4b-9d98a58cb586",
   "metadata": {},
   "source": [
    "#### Calculating new Beta values using Newton's Algorithm and 100 iterations"
   ]
  },
  {
   "cell_type": "code",
   "execution_count": 20,
   "id": "b7923c3a-0bb0-4401-87c2-b1a5a0d35f67",
   "metadata": {},
   "outputs": [],
   "source": [
    "beta = minimize_newton(X_train,Y_train,100,10**-5)"
   ]
  },
  {
   "cell_type": "markdown",
   "id": "556adae7-f052-4db2-8b19-4d196bc52c7c",
   "metadata": {},
   "source": [
    "#### Plotting Loss difference and Log loss after Newton's Algorithm"
   ]
  },
  {
   "cell_type": "code",
   "execution_count": 21,
   "id": "5db5f0fe-8571-447a-9cc5-64b51da68560",
   "metadata": {},
   "outputs": [
    {
     "data": {
      "text/plain": [
       "Text(0, 0.5, 'Loss Difference')"
      ]
     },
     "execution_count": 21,
     "metadata": {},
     "output_type": "execute_result"
    },
    {
     "data": {
      "image/png": "[encoded data removed]",
      "text/plain": [
       "<Figure size 1080x360 with 1 Axes>"
      ]
     },
     "metadata": {
      "needs_background": "light"
     },
     "output_type": "display_data"
    }
   ],
   "source": [
    "fig = plt.figure(figsize=(15,5))\n",
    "ax = fig.add_subplot(111)\n",
    "ax.plot([i for i in range(len(newton_loss_difference_values))],newton_loss_difference_values)\n",
    "ax.set_title('Graph of Loss Difference |f(xi−1)−f(xi)| with Respect to 100 Iterations')\n",
    "ax.set_xlabel('Number of Iterations')\n",
    "ax.set_ylabel('Loss Difference')"
   ]
  },
  {
   "cell_type": "raw",
   "id": "585fbb88-0c50-4363-b052-25d998477f3d",
   "metadata": {},
   "source": [
    "The above graph shows that our loss difference is fluctuating but it reaches its lowest value only after 16th iteration which is very fast as compared to Gradient Ascent"
   ]
  },
  {
   "cell_type": "code",
   "execution_count": 22,
   "id": "20f9d3d2-5eba-4395-a89b-e76ab721b88c",
   "metadata": {},
   "outputs": [
    {
     "data": {
      "text/plain": [
       "Text(0, 0.5, 'Log Loss')"
      ]
     },
     "execution_count": 22,
     "metadata": {},
     "output_type": "execute_result"
    },
    {
     "data": {
      "image/png": "[encoded data removed]",
      "text/plain": [
       "<Figure size 1080x360 with 1 Axes>"
      ]
     },
     "metadata": {
      "needs_background": "light"
     },
     "output_type": "display_data"
    }
   ],
   "source": [
    "fig = plt.figure(figsize=(15,5))\n",
    "ax = fig.add_subplot(111)\n",
    "ax.plot([i for i in range(len(newton_logloss_values))],newton_logloss_values)\n",
    "ax.set_title('Graph of Log loss with Respect to 100 Iterations')\n",
    "ax.set_xlabel('Number of Iterations')\n",
    "ax.set_ylabel('Log Loss')"
   ]
  },
  {
   "cell_type": "raw",
   "id": "1b9906f0-f7c1-443f-8a6a-d6ba7ef1f4e1",
   "metadata": {},
   "source": [
    "The above graph also shows that our log loss is decreasing very rapidly and after only 16th iteration it reaches its local minima which is really fast as compared to gradient ascent"
   ]
  },
  {
   "cell_type": "markdown",
   "id": "e8e32a9e-e217-4bef-b684-2c86d971be80",
   "metadata": {},
   "source": [
    "#### Comments on the rate of convergence in the light of plots from above"
   ]
  },
  {
   "cell_type": "code",
   "execution_count": 23,
   "id": "62e5a96f-0211-4d1d-914a-0f4141edfb43",
   "metadata": {},
   "outputs": [
    {
     "data": {
      "text/plain": [
       "Text(0, 0.5, 'Log Loss')"
      ]
     },
     "execution_count": 23,
     "metadata": {},
     "output_type": "execute_result"
    },
    {
     "data": {
      "image/png": "[encoded data removed]",
      "text/plain": [
       "<Figure size 1080x360 with 2 Axes>"
      ]
     },
     "metadata": {
      "needs_background": "light"
     },
     "output_type": "display_data"
    }
   ],
   "source": [
    "#Plotting Log Loss after Gradient Ascent\n",
    "fig = plt.figure(figsize=(15,5))\n",
    "ax = fig.add_subplot(121)\n",
    "ax.plot([i for i in range(len(ga_logloss_values))],ga_logloss_values)\n",
    "ax.set_title('Log Loss after Gradient Ascent')\n",
    "ax.set_xlabel('Number of Iterations')\n",
    "ax.set_ylabel('Log Loss')\n",
    "\n",
    "#Plotting Log Loss after Newton's Algorithm\n",
    "ax1 = fig.add_subplot(122)\n",
    "ax1.plot([i for i in range(len(newton_logloss_values))],newton_logloss_values)\n",
    "ax1.set_title('Log Loss after Newton\\'s Algorithm')\n",
    "ax1.set_xlabel('Number of Iterations')\n",
    "ax1.set_ylabel('Log Loss')"
   ]
  },
  {
   "cell_type": "raw",
   "id": "9e9cf6a7-1c2d-442f-b7a5-c2f754a17f08",
   "metadata": {},
   "source": [
    "From the above graph we can see that the gradient ascent takes more iterations to converge as compared to Newton's Algorithm which takes lesser Iterations.So Newton's Algorithm converges faster than Gradient Ascent because of Second Order Differentiation."
   ]
  }
 ],
 "metadata": {
  "kernelspec": {
   "display_name": "Python 3 (ipykernel)",
   "language": "python",
   "name": "python3"
  },
  "language_info": {
   "codemirror_mode": {
    "name": "ipython",
    "version": 3
   },
   "file_extension": ".py",
   "mimetype": "text/x-python",
   "name": "python",
   "nbconvert_exporter": "python",
   "pygments_lexer": "ipython3",
   "version": "3.8.12"
  }
 },
 "nbformat": 4,
 "nbformat_minor": 5
}
